{
 "cells": [
  {
   "cell_type": "code",
   "execution_count": 6,
   "metadata": {},
   "outputs": [],
   "source": [
    "# Importing Libraries"
   ]
  },
  {
   "cell_type": "code",
   "execution_count": 7,
   "metadata": {},
   "outputs": [],
   "source": [
    "import pandas as pd\n",
    "import numpy as np"
   ]
  },
  {
   "cell_type": "code",
   "execution_count": 8,
   "metadata": {},
   "outputs": [],
   "source": [
    "# Activities are the class labels\n",
    "# It is a 6 class classification\n",
    "ACTIVITIES = {\n",
    "    0: 'WALKING',\n",
    "    1: 'WALKING_UPSTAIRS',\n",
    "    2: 'WALKING_DOWNSTAIRS',\n",
    "    3: 'SITTING',\n",
    "    4: 'STANDING',\n",
    "    5: 'LAYING',\n",
    "}\n",
    "\n",
    "# Utility function to print the confusion matrix\n",
    "def confusion_matrix(Y_true, Y_pred):\n",
    "    Y_true = pd.Series([ACTIVITIES[y] for y in np.argmax(Y_true, axis=1)])\n",
    "    Y_pred = pd.Series([ACTIVITIES[y] for y in np.argmax(Y_pred, axis=1)])\n",
    "\n",
    "    return pd.crosstab(Y_true, Y_pred, rownames=['True'], colnames=['Pred'])"
   ]
  },
  {
   "cell_type": "markdown",
   "metadata": {},
   "source": [
    "### Data"
   ]
  },
  {
   "cell_type": "code",
   "execution_count": 9,
   "metadata": {},
   "outputs": [],
   "source": [
    "# Data directory\n",
    "DATADIR = 'UCI_HAR_Dataset'"
   ]
  },
  {
   "cell_type": "code",
   "execution_count": 10,
   "metadata": {},
   "outputs": [],
   "source": [
    "# Raw data signals\n",
    "# Signals are from Accelerometer and Gyroscope\n",
    "# The signals are in x,y,z directions\n",
    "# Sensor signals are filtered to have only body acceleration\n",
    "# excluding the acceleration due to gravity\n",
    "# Triaxial acceleration from the accelerometer is total acceleration\n",
    "SIGNALS = [\n",
    "    \"body_acc_x\",\n",
    "    \"body_acc_y\",\n",
    "    \"body_acc_z\",\n",
    "    \"body_gyro_x\",\n",
    "    \"body_gyro_y\",\n",
    "    \"body_gyro_z\",\n",
    "    \"total_acc_x\",\n",
    "    \"total_acc_y\",\n",
    "    \"total_acc_z\"\n",
    "]"
   ]
  },
  {
   "cell_type": "code",
   "execution_count": 11,
   "metadata": {},
   "outputs": [],
   "source": [
    "# Utility function to read the data from csv file\n",
    "def _read_csv(filename):\n",
    "    return pd.read_csv(filename, delim_whitespace=True, header=None)\n",
    "\n",
    "# Utility function to load the load\n",
    "def load_signals(subset):\n",
    "    signals_data = []\n",
    "\n",
    "    for signal in SIGNALS:\n",
    "        filename = f'UCI_HAR_Dataset/{subset}/Inertial Signals/{signal}_{subset}.txt'\n",
    "        signals_data.append(\n",
    "            _read_csv(filename).as_matrix()\n",
    "        ) \n",
    "\n",
    "    # Transpose is used to change the dimensionality of the output,\n",
    "    # aggregating the signals by combination of sample/timestep.\n",
    "    # Resultant shape is (7352 train/2947 test samples, 128 timesteps, 9 signals)\n",
    "    return np.transpose(signals_data, (1, 2, 0))"
   ]
  },
  {
   "cell_type": "code",
   "execution_count": 12,
   "metadata": {},
   "outputs": [],
   "source": [
    "\n",
    "def load_y(subset):\n",
    "    \"\"\"\n",
    "    The objective that we are trying to predict is a integer, from 1 to 6,\n",
    "    that represents a human activity. We return a binary representation of \n",
    "    every sample objective as a 6 bits vector using One Hot Encoding\n",
    "    (https://pandas.pydata.org/pandas-docs/stable/generated/pandas.get_dummies.html)\n",
    "    \"\"\"\n",
    "    filename = f'UCI_HAR_Dataset/{subset}/y_{subset}.txt'\n",
    "    y = _read_csv(filename)[0]\n",
    "\n",
    "    return pd.get_dummies(y).as_matrix()"
   ]
  },
  {
   "cell_type": "code",
   "execution_count": 13,
   "metadata": {},
   "outputs": [],
   "source": [
    "def load_data():\n",
    "    \"\"\"\n",
    "    Obtain the dataset from multiple files.\n",
    "    Returns: X_train, X_test, y_train, y_test\n",
    "    \"\"\"\n",
    "    X_train, X_test = load_signals('train'), load_signals('test')\n",
    "    y_train, y_test = load_y('train'), load_y('test')\n",
    "\n",
    "    return X_train, X_test, y_train, y_test"
   ]
  },
  {
   "cell_type": "code",
   "execution_count": 14,
   "metadata": {},
   "outputs": [],
   "source": [
    "# Importing tensorflow\n",
    "np.random.seed(42)\n",
    "import tensorflow as tf\n",
    "tf.set_random_seed(42)"
   ]
  },
  {
   "cell_type": "code",
   "execution_count": 15,
   "metadata": {},
   "outputs": [],
   "source": [
    "# Configuring a session\n",
    "session_conf = tf.ConfigProto(\n",
    "    intra_op_parallelism_threads=1,\n",
    "    inter_op_parallelism_threads=1\n",
    ")"
   ]
  },
  {
   "cell_type": "code",
   "execution_count": 16,
   "metadata": {},
   "outputs": [],
   "source": [
    "# Import Keras\n",
    "from keras import backend as K\n",
    "sess = tf.Session(graph=tf.get_default_graph(), config=session_conf)\n",
    "K.set_session(sess)"
   ]
  },
  {
   "cell_type": "code",
   "execution_count": 17,
   "metadata": {},
   "outputs": [],
   "source": [
    "# Importing libraries\n",
    "from keras.models import Sequential\n",
    "from keras.layers import LSTM\n",
    "from keras.layers.core import Dense, Dropout\n",
    "from keras.layers.normalization import BatchNormalization"
   ]
  },
  {
   "cell_type": "code",
   "execution_count": 18,
   "metadata": {},
   "outputs": [],
   "source": [
    "# Initializing parameters\n",
    "epochs = 30\n",
    "batch_size = 16\n",
    "n_hidden = 32"
   ]
  },
  {
   "cell_type": "code",
   "execution_count": 19,
   "metadata": {},
   "outputs": [],
   "source": [
    "# Utility function to count the number of classes\n",
    "def _count_classes(y):\n",
    "    return len(set([tuple(category) for category in y]))"
   ]
  },
  {
   "cell_type": "code",
   "execution_count": 20,
   "metadata": {},
   "outputs": [
    {
     "name": "stderr",
     "output_type": "stream",
     "text": [
      "/Users/mayankgupta/anaconda3/lib/python3.7/site-packages/ipykernel_launcher.py:12: FutureWarning: Method .as_matrix will be removed in a future version. Use .values instead.\n",
      "  if sys.path[0] == '':\n",
      "/Users/mayankgupta/anaconda3/lib/python3.7/site-packages/ipykernel_launcher.py:11: FutureWarning: Method .as_matrix will be removed in a future version. Use .values instead.\n",
      "  # This is added back by InteractiveShellApp.init_path()\n"
     ]
    }
   ],
   "source": [
    "# Loading the train and test data\n",
    "X_train, X_test, Y_train, Y_test = load_data()"
   ]
  },
  {
   "cell_type": "code",
   "execution_count": 21,
   "metadata": {},
   "outputs": [
    {
     "name": "stdout",
     "output_type": "stream",
     "text": [
      "128\n",
      "9\n",
      "7352\n"
     ]
    }
   ],
   "source": [
    "timesteps = len(X_train[0])\n",
    "input_dim = len(X_train[0][0])\n",
    "n_classes = _count_classes(Y_train)\n",
    "\n",
    "print(timesteps)\n",
    "print(input_dim)\n",
    "print(len(X_train))"
   ]
  },
  {
   "cell_type": "markdown",
   "metadata": {},
   "source": [
    "- Defining the Architecture of LSTM"
   ]
  },
  {
   "cell_type": "code",
   "execution_count": 17,
   "metadata": {},
   "outputs": [
    {
     "name": "stdout",
     "output_type": "stream",
     "text": [
      "Model: \"sequential_1\"\n",
      "_________________________________________________________________\n",
      "Layer (type)                 Output Shape              Param #   \n",
      "=================================================================\n",
      "lstm_1 (LSTM)                (None, 32)                5376      \n",
      "_________________________________________________________________\n",
      "dropout_1 (Dropout)          (None, 32)                0         \n",
      "_________________________________________________________________\n",
      "dense_1 (Dense)              (None, 6)                 198       \n",
      "=================================================================\n",
      "Total params: 5,574\n",
      "Trainable params: 5,574\n",
      "Non-trainable params: 0\n",
      "_________________________________________________________________\n"
     ]
    }
   ],
   "source": [
    "# Initiliazing the sequential model\n",
    "model = Sequential()\n",
    "# Configuring the parameters\n",
    "model.add(LSTM(n_hidden, input_shape=(timesteps, input_dim)))\n",
    "# Adding a dropout layer\n",
    "model.add(Dropout(0.5))\n",
    "# Adding a dense output layer with sigmoid activation\n",
    "model.add(Dense(n_classes, activation='sigmoid'))\n",
    "model.summary()"
   ]
  },
  {
   "cell_type": "code",
   "execution_count": 18,
   "metadata": {},
   "outputs": [],
   "source": [
    "# Compiling the model\n",
    "model.compile(loss='categorical_crossentropy',\n",
    "              optimizer='rmsprop',\n",
    "              metrics=['accuracy'])"
   ]
  },
  {
   "cell_type": "code",
   "execution_count": 19,
   "metadata": {},
   "outputs": [
    {
     "name": "stdout",
     "output_type": "stream",
     "text": [
      "WARNING:tensorflow:From /Users/mayankgupta/anaconda3/lib/python3.7/site-packages/tensorflow/python/ops/math_grad.py:1250: add_dispatch_support.<locals>.wrapper (from tensorflow.python.ops.array_ops) is deprecated and will be removed in a future version.\n",
      "Instructions for updating:\n",
      "Use tf.where in 2.0, which has the same broadcast rule as np.where\n",
      "WARNING:tensorflow:From /Users/mayankgupta/anaconda3/lib/python3.7/site-packages/keras/backend/tensorflow_backend.py:422: The name tf.global_variables is deprecated. Please use tf.compat.v1.global_variables instead.\n",
      "\n",
      "Train on 7352 samples, validate on 2947 samples\n",
      "Epoch 1/30\n",
      "7352/7352 [==============================] - 15s 2ms/step - loss: 1.3008 - accuracy: 0.4645 - val_loss: 1.0891 - val_accuracy: 0.5565\n",
      "Epoch 2/30\n",
      "7352/7352 [==============================] - 15s 2ms/step - loss: 0.9056 - accuracy: 0.6171 - val_loss: 0.8277 - val_accuracy: 0.5942\n",
      "Epoch 3/30\n",
      "7352/7352 [==============================] - 15s 2ms/step - loss: 0.7434 - accuracy: 0.6549 - val_loss: 0.7569 - val_accuracy: 0.6230\n",
      "Epoch 4/30\n",
      "7352/7352 [==============================] - 14s 2ms/step - loss: 0.6725 - accuracy: 0.6800 - val_loss: 0.6941 - val_accuracy: 0.6651\n",
      "Epoch 5/30\n",
      "7352/7352 [==============================] - 15s 2ms/step - loss: 0.6236 - accuracy: 0.7116 - val_loss: 0.6568 - val_accuracy: 0.7326\n",
      "Epoch 6/30\n",
      "7352/7352 [==============================] - 15s 2ms/step - loss: 0.5866 - accuracy: 0.7333 - val_loss: 0.7696 - val_accuracy: 0.6763\n",
      "Epoch 7/30\n",
      "7352/7352 [==============================] - 16s 2ms/step - loss: 0.5055 - accuracy: 0.7748 - val_loss: 0.6162 - val_accuracy: 0.7272\n",
      "Epoch 8/30\n",
      "7352/7352 [==============================] - 14s 2ms/step - loss: 0.4769 - accuracy: 0.7791 - val_loss: 0.5323 - val_accuracy: 0.7465\n",
      "Epoch 9/30\n",
      "7352/7352 [==============================] - 15s 2ms/step - loss: 0.4243 - accuracy: 0.7979 - val_loss: 0.6893 - val_accuracy: 0.7167\n",
      "Epoch 10/30\n",
      "7352/7352 [==============================] - 15s 2ms/step - loss: 0.4033 - accuracy: 0.8096 - val_loss: 0.5631 - val_accuracy: 0.7326\n",
      "Epoch 11/30\n",
      "7352/7352 [==============================] - 16s 2ms/step - loss: 0.3785 - accuracy: 0.8391 - val_loss: 0.5226 - val_accuracy: 0.7937\n",
      "Epoch 12/30\n",
      "7352/7352 [==============================] - 16s 2ms/step - loss: 0.3327 - accuracy: 0.8791 - val_loss: 0.5721 - val_accuracy: 0.8694\n",
      "Epoch 13/30\n",
      "7352/7352 [==============================] - 15s 2ms/step - loss: 0.2857 - accuracy: 0.9132 - val_loss: 0.4536 - val_accuracy: 0.8812\n",
      "Epoch 14/30\n",
      "7352/7352 [==============================] - 15s 2ms/step - loss: 0.2537 - accuracy: 0.9207 - val_loss: 0.5414 - val_accuracy: 0.8748\n",
      "Epoch 15/30\n",
      "7352/7352 [==============================] - 17s 2ms/step - loss: 0.2421 - accuracy: 0.9293 - val_loss: 0.4205 - val_accuracy: 0.8968\n",
      "Epoch 16/30\n",
      "7352/7352 [==============================] - 16s 2ms/step - loss: 0.2077 - accuracy: 0.9331 - val_loss: 0.4868 - val_accuracy: 0.8785\n",
      "Epoch 17/30\n",
      "7352/7352 [==============================] - 15s 2ms/step - loss: 0.1950 - accuracy: 0.9384 - val_loss: 0.5625 - val_accuracy: 0.8833\n",
      "Epoch 18/30\n",
      "7352/7352 [==============================] - 13s 2ms/step - loss: 0.1844 - accuracy: 0.9419 - val_loss: 0.6079 - val_accuracy: 0.8738\n",
      "Epoch 19/30\n",
      "7352/7352 [==============================] - 14s 2ms/step - loss: 0.1846 - accuracy: 0.9414 - val_loss: 0.4497 - val_accuracy: 0.8999\n",
      "Epoch 20/30\n",
      "7352/7352 [==============================] - 14s 2ms/step - loss: 0.1701 - accuracy: 0.9459 - val_loss: 0.5215 - val_accuracy: 0.8795\n",
      "Epoch 21/30\n",
      "7352/7352 [==============================] - 15s 2ms/step - loss: 0.1723 - accuracy: 0.9450 - val_loss: 0.4698 - val_accuracy: 0.8887\n",
      "Epoch 22/30\n",
      "7352/7352 [==============================] - 20s 3ms/step - loss: 0.1813 - accuracy: 0.9448 - val_loss: 0.4783 - val_accuracy: 0.8795\n",
      "Epoch 23/30\n",
      "7352/7352 [==============================] - 20s 3ms/step - loss: 0.1579 - accuracy: 0.9465 - val_loss: 0.4126 - val_accuracy: 0.8968\n",
      "Epoch 24/30\n",
      "7352/7352 [==============================] - 19s 3ms/step - loss: 0.1754 - accuracy: 0.9448 - val_loss: 0.3679 - val_accuracy: 0.9111\n",
      "Epoch 25/30\n",
      "7352/7352 [==============================] - 17s 2ms/step - loss: 0.1827 - accuracy: 0.9425 - val_loss: 0.9810 - val_accuracy: 0.8426\n",
      "Epoch 26/30\n",
      "7352/7352 [==============================] - 20s 3ms/step - loss: 0.1565 - accuracy: 0.9489 - val_loss: 0.3639 - val_accuracy: 0.9043\n",
      "Epoch 27/30\n",
      "7352/7352 [==============================] - 20s 3ms/step - loss: 0.1508 - accuracy: 0.9484 - val_loss: 0.3858 - val_accuracy: 0.8996\n",
      "Epoch 28/30\n",
      "7352/7352 [==============================] - 19s 3ms/step - loss: 0.1461 - accuracy: 0.9470 - val_loss: 0.4374 - val_accuracy: 0.9013\n",
      "Epoch 29/30\n",
      "7352/7352 [==============================] - 21s 3ms/step - loss: 0.1558 - accuracy: 0.9449 - val_loss: 0.3596 - val_accuracy: 0.9043\n",
      "Epoch 30/30\n",
      "7352/7352 [==============================] - 18s 2ms/step - loss: 0.1712 - accuracy: 0.9433 - val_loss: 0.4166 - val_accuracy: 0.8955\n"
     ]
    },
    {
     "data": {
      "text/plain": [
       "<keras.callbacks.callbacks.History at 0x117c463c8>"
      ]
     },
     "execution_count": 19,
     "metadata": {},
     "output_type": "execute_result"
    }
   ],
   "source": [
    "# Training the model\n",
    "model.fit(X_train,\n",
    "          Y_train,\n",
    "          batch_size=batch_size,\n",
    "          validation_data=(X_test, Y_test),\n",
    "          epochs=epochs)"
   ]
  },
  {
   "cell_type": "code",
   "execution_count": 20,
   "metadata": {},
   "outputs": [
    {
     "name": "stdout",
     "output_type": "stream",
     "text": [
      "Pred                LAYING  SITTING  STANDING  WALKING  WALKING_DOWNSTAIRS  \\\n",
      "True                                                                         \n",
      "LAYING                 510        0        27        0                   0   \n",
      "SITTING                  2      381       105        1                   1   \n",
      "STANDING                 0       86       446        0                   0   \n",
      "WALKING                  0        0         0      454                  15   \n",
      "WALKING_DOWNSTAIRS       0        0         0        0                 419   \n",
      "WALKING_UPSTAIRS         0        7         0        4                  31   \n",
      "\n",
      "Pred                WALKING_UPSTAIRS  \n",
      "True                                  \n",
      "LAYING                             0  \n",
      "SITTING                            1  \n",
      "STANDING                           0  \n",
      "WALKING                           27  \n",
      "WALKING_DOWNSTAIRS                 1  \n",
      "WALKING_UPSTAIRS                 429  \n"
     ]
    }
   ],
   "source": [
    "# Confusion Matrix\n",
    "print(confusion_matrix(Y_test, model.predict(X_test)))"
   ]
  },
  {
   "cell_type": "code",
   "execution_count": 21,
   "metadata": {},
   "outputs": [
    {
     "name": "stdout",
     "output_type": "stream",
     "text": [
      "2947/2947 [==============================] - 1s 328us/step\n"
     ]
    }
   ],
   "source": [
    "score = model.evaluate(X_test, Y_test)"
   ]
  },
  {
   "cell_type": "code",
   "execution_count": 22,
   "metadata": {},
   "outputs": [
    {
     "data": {
      "text/plain": [
       "[0.41655886096877154, 0.8954869508743286]"
      ]
     },
     "execution_count": 22,
     "metadata": {},
     "output_type": "execute_result"
    }
   ],
   "source": [
    "score"
   ]
  },
  {
   "cell_type": "markdown",
   "metadata": {},
   "source": [
    "- With a simple 2 layer architecture we got approx. 89.54% accuracy and a loss of 0.4165\n",
    "- We can further imporve the performace with Hyperparameter tuning"
   ]
  },
  {
   "cell_type": "markdown",
   "metadata": {},
   "source": [
    "<h1>1. Assignment</h1>"
   ]
  },
  {
   "cell_type": "markdown",
   "metadata": {},
   "source": [
    "<h2>1.1 Update LSTM Layer</h2>"
   ]
  },
  {
   "cell_type": "code",
   "execution_count": 23,
   "metadata": {},
   "outputs": [],
   "source": [
    "# update LSTM layers\n",
    "n_hidden = 64"
   ]
  },
  {
   "cell_type": "markdown",
   "metadata": {},
   "source": [
    "- Defining the Architecture of LSTM"
   ]
  },
  {
   "cell_type": "code",
   "execution_count": 24,
   "metadata": {},
   "outputs": [
    {
     "name": "stdout",
     "output_type": "stream",
     "text": [
      "Model: \"sequential_2\"\n",
      "_________________________________________________________________\n",
      "Layer (type)                 Output Shape              Param #   \n",
      "=================================================================\n",
      "lstm_2 (LSTM)                (None, 64)                18944     \n",
      "_________________________________________________________________\n",
      "dropout_2 (Dropout)          (None, 64)                0         \n",
      "_________________________________________________________________\n",
      "dense_2 (Dense)              (None, 6)                 390       \n",
      "=================================================================\n",
      "Total params: 19,334\n",
      "Trainable params: 19,334\n",
      "Non-trainable params: 0\n",
      "_________________________________________________________________\n"
     ]
    }
   ],
   "source": [
    "# Initiliazing the sequential model\n",
    "model = Sequential()\n",
    "# Configuring the parameters\n",
    "model.add(LSTM(n_hidden, input_shape=(timesteps, input_dim)))\n",
    "# Adding a dropout layer\n",
    "model.add(Dropout(0.5))\n",
    "# Adding a dense output layer with sigmoid activation\n",
    "model.add(Dense(n_classes, activation='sigmoid'))\n",
    "model.summary()"
   ]
  },
  {
   "cell_type": "code",
   "execution_count": 25,
   "metadata": {},
   "outputs": [],
   "source": [
    "# Compiling the model\n",
    "model.compile(loss='categorical_crossentropy',\n",
    "              optimizer='rmsprop',\n",
    "              metrics=['accuracy'])"
   ]
  },
  {
   "cell_type": "code",
   "execution_count": 26,
   "metadata": {},
   "outputs": [
    {
     "name": "stdout",
     "output_type": "stream",
     "text": [
      "Train on 7352 samples, validate on 2947 samples\n",
      "Epoch 1/30\n",
      "7352/7352 [==============================] - 24s 3ms/step - loss: 1.2560 - accuracy: 0.4470 - val_loss: 1.1326 - val_accuracy: 0.4825\n",
      "Epoch 2/30\n",
      "7352/7352 [==============================] - 26s 4ms/step - loss: 0.9495 - accuracy: 0.6081 - val_loss: 0.8467 - val_accuracy: 0.6912\n",
      "Epoch 3/30\n",
      "7352/7352 [==============================] - 27s 4ms/step - loss: 0.8132 - accuracy: 0.6473 - val_loss: 0.8576 - val_accuracy: 0.6322\n",
      "Epoch 4/30\n",
      "7352/7352 [==============================] - 21s 3ms/step - loss: 0.7342 - accuracy: 0.6933 - val_loss: 0.7157 - val_accuracy: 0.7458\n",
      "Epoch 5/30\n",
      "7352/7352 [==============================] - 22s 3ms/step - loss: 0.5382 - accuracy: 0.7784 - val_loss: 0.5688 - val_accuracy: 0.7984\n",
      "Epoch 6/30\n",
      "7352/7352 [==============================] - 19s 3ms/step - loss: 0.3811 - accuracy: 0.8579 - val_loss: 0.5755 - val_accuracy: 0.8480\n",
      "Epoch 7/30\n",
      "7352/7352 [==============================] - 19s 3ms/step - loss: 0.3327 - accuracy: 0.8900 - val_loss: 0.5255 - val_accuracy: 0.8487\n",
      "Epoch 8/30\n",
      "7352/7352 [==============================] - 24s 3ms/step - loss: 0.2582 - accuracy: 0.9129 - val_loss: 0.4217 - val_accuracy: 0.8873\n",
      "Epoch 9/30\n",
      "7352/7352 [==============================] - 24s 3ms/step - loss: 0.2411 - accuracy: 0.9207 - val_loss: 0.3309 - val_accuracy: 0.9046\n",
      "Epoch 10/30\n",
      "7352/7352 [==============================] - 25s 3ms/step - loss: 0.1987 - accuracy: 0.9325 - val_loss: 0.4274 - val_accuracy: 0.8711\n",
      "Epoch 11/30\n",
      "7352/7352 [==============================] - 24s 3ms/step - loss: 0.1965 - accuracy: 0.9334 - val_loss: 0.3487 - val_accuracy: 0.8731\n",
      "Epoch 12/30\n",
      "7352/7352 [==============================] - 25s 3ms/step - loss: 0.1784 - accuracy: 0.9357 - val_loss: 0.3973 - val_accuracy: 0.8951\n",
      "Epoch 13/30\n",
      "7352/7352 [==============================] - 26s 4ms/step - loss: 0.1763 - accuracy: 0.9391 - val_loss: 0.3849 - val_accuracy: 0.8979\n",
      "Epoch 14/30\n",
      "7352/7352 [==============================] - 23s 3ms/step - loss: 0.1544 - accuracy: 0.9431 - val_loss: 0.4401 - val_accuracy: 0.9033\n",
      "Epoch 15/30\n",
      "7352/7352 [==============================] - 27s 4ms/step - loss: 0.1778 - accuracy: 0.9421 - val_loss: 0.2845 - val_accuracy: 0.9131\n",
      "Epoch 16/30\n",
      "7352/7352 [==============================] - 26s 3ms/step - loss: 0.1749 - accuracy: 0.9392 - val_loss: 0.3084 - val_accuracy: 0.9087\n",
      "Epoch 17/30\n",
      "7352/7352 [==============================] - 26s 4ms/step - loss: 0.1582 - accuracy: 0.9436 - val_loss: 0.3808 - val_accuracy: 0.9108\n",
      "Epoch 18/30\n",
      "7352/7352 [==============================] - 25s 3ms/step - loss: 0.1480 - accuracy: 0.9487 - val_loss: 0.3502 - val_accuracy: 0.9138\n",
      "Epoch 19/30\n",
      "7352/7352 [==============================] - 21s 3ms/step - loss: 0.1504 - accuracy: 0.9484 - val_loss: 0.4116 - val_accuracy: 0.9036\n",
      "Epoch 20/30\n",
      "7352/7352 [==============================] - 24s 3ms/step - loss: 0.1431 - accuracy: 0.9494 - val_loss: 0.2973 - val_accuracy: 0.9050\n",
      "Epoch 21/30\n",
      "7352/7352 [==============================] - 22s 3ms/step - loss: 0.1542 - accuracy: 0.9474 - val_loss: 0.3730 - val_accuracy: 0.9145\n",
      "Epoch 22/30\n",
      "7352/7352 [==============================] - 20s 3ms/step - loss: 0.1414 - accuracy: 0.9502 - val_loss: 0.3996 - val_accuracy: 0.9158\n",
      "Epoch 23/30\n",
      "7352/7352 [==============================] - 22s 3ms/step - loss: 0.1364 - accuracy: 0.9497 - val_loss: 0.3808 - val_accuracy: 0.9097\n",
      "Epoch 24/30\n",
      "7352/7352 [==============================] - 21s 3ms/step - loss: 0.1403 - accuracy: 0.9512 - val_loss: 0.3501 - val_accuracy: 0.9036\n",
      "Epoch 25/30\n",
      "7352/7352 [==============================] - 31s 4ms/step - loss: 0.1381 - accuracy: 0.9478 - val_loss: 0.4506 - val_accuracy: 0.9074\n",
      "Epoch 26/30\n",
      "7352/7352 [==============================] - 21s 3ms/step - loss: 0.1473 - accuracy: 0.9491 - val_loss: 0.4966 - val_accuracy: 0.9006\n",
      "Epoch 27/30\n",
      "7352/7352 [==============================] - 31s 4ms/step - loss: 0.1539 - accuracy: 0.9499 - val_loss: 0.3719 - val_accuracy: 0.9060\n",
      "Epoch 28/30\n",
      "7352/7352 [==============================] - 30s 4ms/step - loss: 0.1417 - accuracy: 0.9508 - val_loss: 0.3556 - val_accuracy: 0.9057\n",
      "Epoch 29/30\n",
      "7352/7352 [==============================] - 25s 3ms/step - loss: 0.1339 - accuracy: 0.9512 - val_loss: 0.4193 - val_accuracy: 0.8928\n",
      "Epoch 30/30\n",
      "7352/7352 [==============================] - 26s 4ms/step - loss: 0.1781 - accuracy: 0.9480 - val_loss: 0.3534 - val_accuracy: 0.9148\n"
     ]
    },
    {
     "data": {
      "text/plain": [
       "<keras.callbacks.callbacks.History at 0x62f5f3518>"
      ]
     },
     "execution_count": 26,
     "metadata": {},
     "output_type": "execute_result"
    }
   ],
   "source": [
    "# Training the model\n",
    "model.fit(X_train,\n",
    "          Y_train,\n",
    "          batch_size=batch_size,\n",
    "          validation_data=(X_test, Y_test),\n",
    "          epochs=epochs)"
   ]
  },
  {
   "cell_type": "code",
   "execution_count": 27,
   "metadata": {},
   "outputs": [
    {
     "name": "stdout",
     "output_type": "stream",
     "text": [
      "Pred                LAYING  SITTING  STANDING  WALKING  WALKING_DOWNSTAIRS  \\\n",
      "True                                                                         \n",
      "LAYING                 509        0        27        0                   0   \n",
      "SITTING                  0      365       126        0                   0   \n",
      "STANDING                 0       47       485        0                   0   \n",
      "WALKING                  0        0         0      459                  25   \n",
      "WALKING_DOWNSTAIRS       0        0         0        0                 415   \n",
      "WALKING_UPSTAIRS         0        0         0        4                   4   \n",
      "\n",
      "Pred                WALKING_UPSTAIRS  \n",
      "True                                  \n",
      "LAYING                             1  \n",
      "SITTING                            0  \n",
      "STANDING                           0  \n",
      "WALKING                           12  \n",
      "WALKING_DOWNSTAIRS                 5  \n",
      "WALKING_UPSTAIRS                 463  \n"
     ]
    }
   ],
   "source": [
    "# Confusion Matrix\n",
    "print(confusion_matrix(Y_test, model.predict(X_test)))"
   ]
  },
  {
   "cell_type": "code",
   "execution_count": 28,
   "metadata": {},
   "outputs": [
    {
     "name": "stdout",
     "output_type": "stream",
     "text": [
      "2947/2947 [==============================] - 1s 411us/step\n"
     ]
    }
   ],
   "source": [
    "score = model.evaluate(X_test, Y_test)"
   ]
  },
  {
   "cell_type": "code",
   "execution_count": 30,
   "metadata": {},
   "outputs": [
    {
     "data": {
      "text/plain": [
       "[0.35375094639873494, 0.9148286581039429]"
      ]
     },
     "execution_count": 30,
     "metadata": {},
     "output_type": "execute_result"
    }
   ],
   "source": [
    "score"
   ]
  },
  {
   "cell_type": "markdown",
   "metadata": {},
   "source": [
    "- Updating LSTM layer from 32 to 64 increase the performance from 89.54% to 91.48% and reduce loss from 0.4165 to 0.3537"
   ]
  },
  {
   "cell_type": "markdown",
   "metadata": {},
   "source": [
    "<h2>1.2 Update Dropout Rate</h2>"
   ]
  },
  {
   "cell_type": "markdown",
   "metadata": {},
   "source": [
    "<h3>1.2.1 Use 64 LSTM Layer and Dropout rate 0.7</h3>"
   ]
  },
  {
   "cell_type": "code",
   "execution_count": 31,
   "metadata": {},
   "outputs": [],
   "source": [
    "# update LSTM layers\n",
    "n_hidden = 64"
   ]
  },
  {
   "cell_type": "markdown",
   "metadata": {},
   "source": [
    "- Defining the Architecture of LSTM"
   ]
  },
  {
   "cell_type": "code",
   "execution_count": 32,
   "metadata": {},
   "outputs": [
    {
     "name": "stdout",
     "output_type": "stream",
     "text": [
      "WARNING:tensorflow:Large dropout rate: 0.7 (>0.5). In TensorFlow 2.x, dropout() uses dropout rate instead of keep_prob. Please ensure that this is intended.\n",
      "Model: \"sequential_3\"\n",
      "_________________________________________________________________\n",
      "Layer (type)                 Output Shape              Param #   \n",
      "=================================================================\n",
      "lstm_3 (LSTM)                (None, 64)                18944     \n",
      "_________________________________________________________________\n",
      "dropout_3 (Dropout)          (None, 64)                0         \n",
      "_________________________________________________________________\n",
      "dense_3 (Dense)              (None, 6)                 390       \n",
      "=================================================================\n",
      "Total params: 19,334\n",
      "Trainable params: 19,334\n",
      "Non-trainable params: 0\n",
      "_________________________________________________________________\n"
     ]
    }
   ],
   "source": [
    "# Initiliazing the sequential model\n",
    "model = Sequential()\n",
    "# Configuring the parameters\n",
    "model.add(LSTM(n_hidden, input_shape=(timesteps, input_dim)))\n",
    "# Adding a dropout layer\n",
    "model.add(Dropout(0.7))\n",
    "# Adding a dense output layer with sigmoid activation\n",
    "model.add(Dense(n_classes, activation='sigmoid'))\n",
    "model.summary()"
   ]
  },
  {
   "cell_type": "code",
   "execution_count": 33,
   "metadata": {},
   "outputs": [],
   "source": [
    "# Compiling the model\n",
    "model.compile(loss='categorical_crossentropy',\n",
    "              optimizer='rmsprop',\n",
    "              metrics=['accuracy'])"
   ]
  },
  {
   "cell_type": "code",
   "execution_count": 34,
   "metadata": {},
   "outputs": [
    {
     "name": "stdout",
     "output_type": "stream",
     "text": [
      "Train on 7352 samples, validate on 2947 samples\n",
      "Epoch 1/30\n",
      "7352/7352 [==============================] - 21s 3ms/step - loss: 1.2668 - accuracy: 0.4523 - val_loss: 1.0892 - val_accuracy: 0.5199\n",
      "Epoch 2/30\n",
      "7352/7352 [==============================] - 20s 3ms/step - loss: 0.9252 - accuracy: 0.5966 - val_loss: 0.8212 - val_accuracy: 0.6244\n",
      "Epoch 3/30\n",
      "7352/7352 [==============================] - 18s 2ms/step - loss: 0.7997 - accuracy: 0.6314 - val_loss: 0.8336 - val_accuracy: 0.6179\n",
      "Epoch 4/30\n",
      "7352/7352 [==============================] - 19s 3ms/step - loss: 0.7036 - accuracy: 0.6722 - val_loss: 0.7824 - val_accuracy: 0.6216\n",
      "Epoch 5/30\n",
      "7352/7352 [==============================] - 20s 3ms/step - loss: 0.6839 - accuracy: 0.7152 - val_loss: 0.6875 - val_accuracy: 0.7248\n",
      "Epoch 6/30\n",
      "7352/7352 [==============================] - 21s 3ms/step - loss: 0.5654 - accuracy: 0.8130 - val_loss: 0.5180 - val_accuracy: 0.8273\n",
      "Epoch 7/30\n",
      "7352/7352 [==============================] - 16s 2ms/step - loss: 0.4122 - accuracy: 0.8833 - val_loss: 0.6306 - val_accuracy: 0.8344\n",
      "Epoch 8/30\n",
      "7352/7352 [==============================] - 17s 2ms/step - loss: 0.4030 - accuracy: 0.8911 - val_loss: 1.1381 - val_accuracy: 0.7255\n",
      "Epoch 9/30\n",
      "7352/7352 [==============================] - 17s 2ms/step - loss: 0.3243 - accuracy: 0.9074 - val_loss: 0.3398 - val_accuracy: 0.8979\n",
      "Epoch 10/30\n",
      "7352/7352 [==============================] - 17s 2ms/step - loss: 0.2563 - accuracy: 0.9255 - val_loss: 0.3548 - val_accuracy: 0.8914\n",
      "Epoch 11/30\n",
      "7352/7352 [==============================] - 16s 2ms/step - loss: 0.3041 - accuracy: 0.9191 - val_loss: 0.3749 - val_accuracy: 0.8867\n",
      "Epoch 12/30\n",
      "7352/7352 [==============================] - 16s 2ms/step - loss: 0.2504 - accuracy: 0.9257 - val_loss: 0.4726 - val_accuracy: 0.8761\n",
      "Epoch 13/30\n",
      "7352/7352 [==============================] - 16s 2ms/step - loss: 0.2604 - accuracy: 0.9285 - val_loss: 0.5156 - val_accuracy: 0.8663\n",
      "Epoch 14/30\n",
      "7352/7352 [==============================] - 16s 2ms/step - loss: 0.2206 - accuracy: 0.9331 - val_loss: 0.5957 - val_accuracy: 0.8612\n",
      "Epoch 15/30\n",
      "7352/7352 [==============================] - 16s 2ms/step - loss: 0.2023 - accuracy: 0.9324 - val_loss: 0.3542 - val_accuracy: 0.8877\n",
      "Epoch 16/30\n",
      "7352/7352 [==============================] - 16s 2ms/step - loss: 0.1955 - accuracy: 0.9385 - val_loss: 0.4524 - val_accuracy: 0.8836\n",
      "Epoch 17/30\n",
      "7352/7352 [==============================] - 16s 2ms/step - loss: 0.2068 - accuracy: 0.9372 - val_loss: 0.3065 - val_accuracy: 0.9016\n",
      "Epoch 18/30\n",
      "7352/7352 [==============================] - 16s 2ms/step - loss: 0.2338 - accuracy: 0.9358 - val_loss: 0.5638 - val_accuracy: 0.8860\n",
      "Epoch 19/30\n",
      "7352/7352 [==============================] - 16s 2ms/step - loss: 0.2166 - accuracy: 0.9362 - val_loss: 0.4288 - val_accuracy: 0.8863\n",
      "Epoch 20/30\n",
      "7352/7352 [==============================] - 16s 2ms/step - loss: 0.1724 - accuracy: 0.9431 - val_loss: 0.3221 - val_accuracy: 0.8985\n",
      "Epoch 21/30\n",
      "7352/7352 [==============================] - 16s 2ms/step - loss: 0.1826 - accuracy: 0.9438 - val_loss: 0.3623 - val_accuracy: 0.9043\n",
      "Epoch 22/30\n",
      "7352/7352 [==============================] - 16s 2ms/step - loss: 0.1771 - accuracy: 0.9430 - val_loss: 0.5044 - val_accuracy: 0.8931\n",
      "Epoch 23/30\n",
      "7352/7352 [==============================] - 16s 2ms/step - loss: 0.1904 - accuracy: 0.9426 - val_loss: 0.3908 - val_accuracy: 0.8951\n",
      "Epoch 24/30\n",
      "7352/7352 [==============================] - 16s 2ms/step - loss: 0.1789 - accuracy: 0.9426 - val_loss: 0.4822 - val_accuracy: 0.9118\n",
      "Epoch 25/30\n",
      "7352/7352 [==============================] - 16s 2ms/step - loss: nan - accuracy: 0.8251 - val_loss: nan - val_accuracy: 0.1683\n",
      "Epoch 26/30\n",
      "7352/7352 [==============================] - 16s 2ms/step - loss: nan - accuracy: 0.1668 - val_loss: nan - val_accuracy: 0.1683\n",
      "Epoch 27/30\n",
      "7352/7352 [==============================] - 16s 2ms/step - loss: nan - accuracy: 0.1668 - val_loss: nan - val_accuracy: 0.1683\n",
      "Epoch 28/30\n",
      "7352/7352 [==============================] - 16s 2ms/step - loss: nan - accuracy: 0.1668 - val_loss: nan - val_accuracy: 0.1683\n",
      "Epoch 29/30\n",
      "7352/7352 [==============================] - 16s 2ms/step - loss: nan - accuracy: 0.1668 - val_loss: nan - val_accuracy: 0.1683\n",
      "Epoch 30/30\n",
      "7352/7352 [==============================] - 16s 2ms/step - loss: nan - accuracy: 0.1668 - val_loss: nan - val_accuracy: 0.1683\n"
     ]
    },
    {
     "data": {
      "text/plain": [
       "<keras.callbacks.callbacks.History at 0x6300a6438>"
      ]
     },
     "execution_count": 34,
     "metadata": {},
     "output_type": "execute_result"
    }
   ],
   "source": [
    "# Training the model\n",
    "model.fit(X_train,\n",
    "          Y_train,\n",
    "          batch_size=batch_size,\n",
    "          validation_data=(X_test, Y_test),\n",
    "          epochs=epochs)"
   ]
  },
  {
   "cell_type": "code",
   "execution_count": 35,
   "metadata": {},
   "outputs": [
    {
     "name": "stdout",
     "output_type": "stream",
     "text": [
      "Pred                WALKING\n",
      "True                       \n",
      "LAYING                  537\n",
      "SITTING                 491\n",
      "STANDING                532\n",
      "WALKING                 496\n",
      "WALKING_DOWNSTAIRS      420\n",
      "WALKING_UPSTAIRS        471\n"
     ]
    }
   ],
   "source": [
    "# Confusion Matrix\n",
    "print(confusion_matrix(Y_test, model.predict(X_test)))"
   ]
  },
  {
   "cell_type": "code",
   "execution_count": 36,
   "metadata": {},
   "outputs": [
    {
     "name": "stdout",
     "output_type": "stream",
     "text": [
      "2947/2947 [==============================] - 1s 286us/step\n"
     ]
    }
   ],
   "source": [
    "score = model.evaluate(X_test, Y_test)"
   ]
  },
  {
   "cell_type": "code",
   "execution_count": 37,
   "metadata": {},
   "outputs": [
    {
     "data": {
      "text/plain": [
       "[nan, 0.16830675303936005]"
      ]
     },
     "execution_count": 37,
     "metadata": {},
     "output_type": "execute_result"
    }
   ],
   "source": [
    "score"
   ]
  },
  {
   "cell_type": "markdown",
   "metadata": {},
   "source": [
    "- With dropout 0.7 performance reduced drastically"
   ]
  },
  {
   "cell_type": "markdown",
   "metadata": {},
   "source": [
    "<h3>1.2.2 Use 32 LSTM Layer and Dropout rate 0.7</h3>"
   ]
  },
  {
   "cell_type": "code",
   "execution_count": 38,
   "metadata": {},
   "outputs": [],
   "source": [
    "# update LSTM layers\n",
    "n_hidden = 32"
   ]
  },
  {
   "cell_type": "markdown",
   "metadata": {},
   "source": [
    "- Defining the Architecture of LSTM"
   ]
  },
  {
   "cell_type": "code",
   "execution_count": 39,
   "metadata": {},
   "outputs": [
    {
     "name": "stdout",
     "output_type": "stream",
     "text": [
      "WARNING:tensorflow:Large dropout rate: 0.7 (>0.5). In TensorFlow 2.x, dropout() uses dropout rate instead of keep_prob. Please ensure that this is intended.\n",
      "Model: \"sequential_4\"\n",
      "_________________________________________________________________\n",
      "Layer (type)                 Output Shape              Param #   \n",
      "=================================================================\n",
      "lstm_4 (LSTM)                (None, 32)                5376      \n",
      "_________________________________________________________________\n",
      "dropout_4 (Dropout)          (None, 32)                0         \n",
      "_________________________________________________________________\n",
      "dense_4 (Dense)              (None, 6)                 198       \n",
      "=================================================================\n",
      "Total params: 5,574\n",
      "Trainable params: 5,574\n",
      "Non-trainable params: 0\n",
      "_________________________________________________________________\n"
     ]
    }
   ],
   "source": [
    "# Initiliazing the sequential model\n",
    "model = Sequential()\n",
    "# Configuring the parameters\n",
    "model.add(LSTM(n_hidden, input_shape=(timesteps, input_dim)))\n",
    "# Adding a dropout layer\n",
    "model.add(Dropout(0.7))\n",
    "# Adding a dense output layer with sigmoid activation\n",
    "model.add(Dense(n_classes, activation='sigmoid'))\n",
    "model.summary()"
   ]
  },
  {
   "cell_type": "code",
   "execution_count": 40,
   "metadata": {},
   "outputs": [],
   "source": [
    "# Compiling the model\n",
    "model.compile(loss='categorical_crossentropy',\n",
    "              optimizer='rmsprop',\n",
    "              metrics=['accuracy'])"
   ]
  },
  {
   "cell_type": "code",
   "execution_count": 41,
   "metadata": {},
   "outputs": [
    {
     "name": "stdout",
     "output_type": "stream",
     "text": [
      "Train on 7352 samples, validate on 2947 samples\n",
      "Epoch 1/30\n",
      "7352/7352 [==============================] - 15s 2ms/step - loss: 1.4131 - accuracy: 0.4053 - val_loss: 1.2057 - val_accuracy: 0.5199\n",
      "Epoch 2/30\n",
      "7352/7352 [==============================] - 16s 2ms/step - loss: 1.1514 - accuracy: 0.5004 - val_loss: 1.0854 - val_accuracy: 0.5212\n",
      "Epoch 3/30\n",
      "7352/7352 [==============================] - 14s 2ms/step - loss: 1.0306 - accuracy: 0.5483 - val_loss: 0.9328 - val_accuracy: 0.6186\n",
      "Epoch 4/30\n",
      "7352/7352 [==============================] - 14s 2ms/step - loss: 0.8413 - accuracy: 0.6328 - val_loss: 0.8098 - val_accuracy: 0.6403\n",
      "Epoch 5/30\n",
      "7352/7352 [==============================] - 14s 2ms/step - loss: 0.7508 - accuracy: 0.6718 - val_loss: 0.7237 - val_accuracy: 0.6481\n",
      "Epoch 6/30\n",
      "7352/7352 [==============================] - 14s 2ms/step - loss: 0.7021 - accuracy: 0.7036 - val_loss: 0.7130 - val_accuracy: 0.6977\n",
      "Epoch 7/30\n",
      "7352/7352 [==============================] - 15s 2ms/step - loss: 0.6250 - accuracy: 0.7408 - val_loss: 0.6587 - val_accuracy: 0.7218\n",
      "Epoch 8/30\n",
      "7352/7352 [==============================] - 18s 2ms/step - loss: 0.6306 - accuracy: 0.7467 - val_loss: 0.9023 - val_accuracy: 0.6749\n",
      "Epoch 9/30\n",
      "7352/7352 [==============================] - 16s 2ms/step - loss: 0.5728 - accuracy: 0.7552 - val_loss: 0.6066 - val_accuracy: 0.7370\n",
      "Epoch 10/30\n",
      "7352/7352 [==============================] - 17s 2ms/step - loss: 0.5665 - accuracy: 0.7582 - val_loss: 0.6308 - val_accuracy: 0.7122\n",
      "Epoch 11/30\n",
      "7352/7352 [==============================] - 16s 2ms/step - loss: 0.5529 - accuracy: 0.7632 - val_loss: 0.8747 - val_accuracy: 0.7129\n",
      "Epoch 12/30\n",
      "7352/7352 [==============================] - 17s 2ms/step - loss: 0.5008 - accuracy: 0.7757 - val_loss: 0.5392 - val_accuracy: 0.7513\n",
      "Epoch 13/30\n",
      "7352/7352 [==============================] - 15s 2ms/step - loss: 0.5068 - accuracy: 0.7767 - val_loss: 0.5349 - val_accuracy: 0.7448\n",
      "Epoch 14/30\n",
      "7352/7352 [==============================] - 15s 2ms/step - loss: 0.4965 - accuracy: 0.7792 - val_loss: 0.7161 - val_accuracy: 0.7313\n",
      "Epoch 15/30\n",
      "7352/7352 [==============================] - 16s 2ms/step - loss: 0.6753 - accuracy: 0.7588 - val_loss: 0.5898 - val_accuracy: 0.7448\n",
      "Epoch 16/30\n",
      "7352/7352 [==============================] - 16s 2ms/step - loss: 0.5031 - accuracy: 0.7777 - val_loss: 0.7619 - val_accuracy: 0.7245\n",
      "Epoch 17/30\n",
      "7352/7352 [==============================] - 15s 2ms/step - loss: 0.4484 - accuracy: 0.7890 - val_loss: 0.6495 - val_accuracy: 0.7336\n",
      "Epoch 18/30\n",
      "7352/7352 [==============================] - 17s 2ms/step - loss: 0.4806 - accuracy: 0.7837 - val_loss: 0.5810 - val_accuracy: 0.7496\n",
      "Epoch 19/30\n",
      "7352/7352 [==============================] - 15s 2ms/step - loss: 0.4920 - accuracy: 0.7875 - val_loss: 0.5989 - val_accuracy: 0.7855\n",
      "Epoch 20/30\n",
      "7352/7352 [==============================] - 15s 2ms/step - loss: 0.4532 - accuracy: 0.8157 - val_loss: 0.5946 - val_accuracy: 0.8049\n",
      "Epoch 21/30\n",
      "7352/7352 [==============================] - 13s 2ms/step - loss: 0.4626 - accuracy: 0.8255 - val_loss: 0.4647 - val_accuracy: 0.8317\n",
      "Epoch 22/30\n",
      "7352/7352 [==============================] - 13s 2ms/step - loss: 0.4284 - accuracy: 0.8477 - val_loss: 0.4966 - val_accuracy: 0.8616\n",
      "Epoch 23/30\n",
      "7352/7352 [==============================] - 13s 2ms/step - loss: 0.4184 - accuracy: 0.8561 - val_loss: 0.4365 - val_accuracy: 0.8636\n",
      "Epoch 24/30\n",
      "7352/7352 [==============================] - 13s 2ms/step - loss: 0.3954 - accuracy: 0.8677 - val_loss: 0.4070 - val_accuracy: 0.8778\n",
      "Epoch 25/30\n",
      "7352/7352 [==============================] - 13s 2ms/step - loss: 0.3787 - accuracy: 0.8750 - val_loss: 0.4029 - val_accuracy: 0.8761\n",
      "Epoch 26/30\n",
      "7352/7352 [==============================] - 15s 2ms/step - loss: 0.4372 - accuracy: 0.8668 - val_loss: 0.4681 - val_accuracy: 0.8619\n",
      "Epoch 27/30\n",
      "7352/7352 [==============================] - 14s 2ms/step - loss: 0.4192 - accuracy: 0.8783 - val_loss: 0.4248 - val_accuracy: 0.8833\n",
      "Epoch 28/30\n",
      "7352/7352 [==============================] - 17s 2ms/step - loss: 0.4191 - accuracy: 0.8732 - val_loss: 1.1744 - val_accuracy: 0.7923\n",
      "Epoch 29/30\n",
      "7352/7352 [==============================] - 15s 2ms/step - loss: 0.3634 - accuracy: 0.8832 - val_loss: 0.4041 - val_accuracy: 0.8907\n",
      "Epoch 30/30\n",
      "7352/7352 [==============================] - 14s 2ms/step - loss: 0.3713 - accuracy: 0.8783 - val_loss: 0.5968 - val_accuracy: 0.8381\n"
     ]
    },
    {
     "data": {
      "text/plain": [
       "<keras.callbacks.callbacks.History at 0x6309d69e8>"
      ]
     },
     "execution_count": 41,
     "metadata": {},
     "output_type": "execute_result"
    }
   ],
   "source": [
    "# Training the model\n",
    "model.fit(X_train,\n",
    "          Y_train,\n",
    "          batch_size=batch_size,\n",
    "          validation_data=(X_test, Y_test),\n",
    "          epochs=epochs)"
   ]
  },
  {
   "cell_type": "code",
   "execution_count": 42,
   "metadata": {},
   "outputs": [
    {
     "name": "stdout",
     "output_type": "stream",
     "text": [
      "Pred                LAYING  SITTING  STANDING  WALKING  WALKING_DOWNSTAIRS  \\\n",
      "True                                                                         \n",
      "LAYING                 510        0         0        0                   0   \n",
      "SITTING                  0      280       206        1                   1   \n",
      "STANDING                 0       34       489        4                   2   \n",
      "WALKING                  0        0         0      360                  33   \n",
      "WALKING_DOWNSTAIRS       0        0         0        3                 416   \n",
      "WALKING_UPSTAIRS         1        3         0       28                  24   \n",
      "\n",
      "Pred                WALKING_UPSTAIRS  \n",
      "True                                  \n",
      "LAYING                            27  \n",
      "SITTING                            3  \n",
      "STANDING                           3  \n",
      "WALKING                          103  \n",
      "WALKING_DOWNSTAIRS                 1  \n",
      "WALKING_UPSTAIRS                 415  \n"
     ]
    }
   ],
   "source": [
    "# Confusion Matrix\n",
    "print(confusion_matrix(Y_test, model.predict(X_test)))"
   ]
  },
  {
   "cell_type": "code",
   "execution_count": 43,
   "metadata": {},
   "outputs": [
    {
     "name": "stdout",
     "output_type": "stream",
     "text": [
      "2947/2947 [==============================] - 1s 243us/step\n"
     ]
    }
   ],
   "source": [
    "score = model.evaluate(X_test, Y_test)"
   ]
  },
  {
   "cell_type": "code",
   "execution_count": 44,
   "metadata": {},
   "outputs": [
    {
     "data": {
      "text/plain": [
       "[0.596762544016313, 0.8381404876708984]"
      ]
     },
     "execution_count": 44,
     "metadata": {},
     "output_type": "execute_result"
    }
   ],
   "source": [
    "score"
   ]
  },
  {
   "cell_type": "markdown",
   "metadata": {},
   "source": [
    "- Better than 64 layer with same dropout 0.7"
   ]
  },
  {
   "cell_type": "markdown",
   "metadata": {},
   "source": [
    "<h3>1.2.3 Use 64 LSTM Layer and Dropout rate 0.6</h3>"
   ]
  },
  {
   "cell_type": "code",
   "execution_count": 45,
   "metadata": {},
   "outputs": [],
   "source": [
    "# update LSTM layers\n",
    "n_hidden = 64"
   ]
  },
  {
   "cell_type": "markdown",
   "metadata": {},
   "source": [
    "- Defining the Architecture of LSTM"
   ]
  },
  {
   "cell_type": "code",
   "execution_count": 46,
   "metadata": {},
   "outputs": [
    {
     "name": "stdout",
     "output_type": "stream",
     "text": [
      "WARNING:tensorflow:Large dropout rate: 0.6 (>0.5). In TensorFlow 2.x, dropout() uses dropout rate instead of keep_prob. Please ensure that this is intended.\n",
      "Model: \"sequential_5\"\n",
      "_________________________________________________________________\n",
      "Layer (type)                 Output Shape              Param #   \n",
      "=================================================================\n",
      "lstm_5 (LSTM)                (None, 64)                18944     \n",
      "_________________________________________________________________\n",
      "dropout_5 (Dropout)          (None, 64)                0         \n",
      "_________________________________________________________________\n",
      "dense_5 (Dense)              (None, 6)                 390       \n",
      "=================================================================\n",
      "Total params: 19,334\n",
      "Trainable params: 19,334\n",
      "Non-trainable params: 0\n",
      "_________________________________________________________________\n"
     ]
    }
   ],
   "source": [
    "# Initiliazing the sequential model\n",
    "model = Sequential()\n",
    "# Configuring the parameters\n",
    "model.add(LSTM(n_hidden, input_shape=(timesteps, input_dim)))\n",
    "# Adding a dropout layer\n",
    "model.add(Dropout(0.6))\n",
    "# Adding a dense output layer with sigmoid activation\n",
    "model.add(Dense(n_classes, activation='sigmoid'))\n",
    "model.summary()"
   ]
  },
  {
   "cell_type": "code",
   "execution_count": 47,
   "metadata": {},
   "outputs": [],
   "source": [
    "# Compiling the model\n",
    "model.compile(loss='categorical_crossentropy',\n",
    "              optimizer='rmsprop',\n",
    "              metrics=['accuracy'])"
   ]
  },
  {
   "cell_type": "code",
   "execution_count": 48,
   "metadata": {},
   "outputs": [
    {
     "name": "stdout",
     "output_type": "stream",
     "text": [
      "Train on 7352 samples, validate on 2947 samples\n",
      "Epoch 1/30\n",
      "7352/7352 [==============================] - 19s 3ms/step - loss: 1.2606 - accuracy: 0.4646 - val_loss: 1.0564 - val_accuracy: 0.5443\n",
      "Epoch 2/30\n",
      "7352/7352 [==============================] - 19s 3ms/step - loss: 0.8792 - accuracy: 0.6002 - val_loss: 0.8393 - val_accuracy: 0.6179\n",
      "Epoch 3/30\n",
      "7352/7352 [==============================] - 18s 2ms/step - loss: 0.7371 - accuracy: 0.6447 - val_loss: 0.7495 - val_accuracy: 0.6183\n",
      "Epoch 4/30\n",
      "7352/7352 [==============================] - 18s 2ms/step - loss: 0.6515 - accuracy: 0.7088 - val_loss: 0.6700 - val_accuracy: 0.7048\n",
      "Epoch 5/30\n",
      "7352/7352 [==============================] - 18s 2ms/step - loss: 0.4806 - accuracy: 0.8392 - val_loss: 0.5685 - val_accuracy: 0.8073\n",
      "Epoch 6/30\n",
      "7352/7352 [==============================] - 18s 2ms/step - loss: 0.2974 - accuracy: 0.9057 - val_loss: 0.4664 - val_accuracy: 0.8660\n",
      "Epoch 7/30\n",
      "7352/7352 [==============================] - 18s 2ms/step - loss: 0.2478 - accuracy: 0.9236 - val_loss: 0.4457 - val_accuracy: 0.8738\n",
      "Epoch 8/30\n",
      "7352/7352 [==============================] - 18s 2ms/step - loss: 0.2243 - accuracy: 0.9282 - val_loss: 0.2996 - val_accuracy: 0.8863\n",
      "Epoch 9/30\n",
      "7352/7352 [==============================] - 18s 2ms/step - loss: 0.2131 - accuracy: 0.9249 - val_loss: 0.5138 - val_accuracy: 0.8792\n",
      "Epoch 10/30\n",
      "7352/7352 [==============================] - 18s 2ms/step - loss: 0.2012 - accuracy: 0.9329 - val_loss: 0.2673 - val_accuracy: 0.8979\n",
      "Epoch 11/30\n",
      "7352/7352 [==============================] - 18s 2ms/step - loss: 0.1872 - accuracy: 0.9353 - val_loss: 0.2656 - val_accuracy: 0.9101\n",
      "Epoch 12/30\n",
      "7352/7352 [==============================] - 18s 2ms/step - loss: 0.1965 - accuracy: 0.9366 - val_loss: 0.3882 - val_accuracy: 0.9080\n",
      "Epoch 13/30\n",
      "7352/7352 [==============================] - 18s 2ms/step - loss: 0.1710 - accuracy: 0.9404 - val_loss: 0.2497 - val_accuracy: 0.9091\n",
      "Epoch 14/30\n",
      "7352/7352 [==============================] - 18s 2ms/step - loss: 0.1621 - accuracy: 0.9408 - val_loss: 0.3737 - val_accuracy: 0.8921\n",
      "Epoch 15/30\n",
      "7352/7352 [==============================] - 18s 2ms/step - loss: 0.1517 - accuracy: 0.9456 - val_loss: 0.2366 - val_accuracy: 0.9165\n",
      "Epoch 16/30\n",
      "7352/7352 [==============================] - 18s 2ms/step - loss: 0.1870 - accuracy: 0.9423 - val_loss: 0.2972 - val_accuracy: 0.9036\n",
      "Epoch 17/30\n",
      "7352/7352 [==============================] - 18s 2ms/step - loss: 0.1612 - accuracy: 0.9418 - val_loss: 0.4051 - val_accuracy: 0.8890\n",
      "Epoch 18/30\n",
      "7352/7352 [==============================] - 19s 3ms/step - loss: 0.1619 - accuracy: 0.9434 - val_loss: 0.3921 - val_accuracy: 0.8941\n",
      "Epoch 19/30\n",
      "7352/7352 [==============================] - 19s 3ms/step - loss: 0.1394 - accuracy: 0.9493 - val_loss: 0.5242 - val_accuracy: 0.8985\n",
      "Epoch 20/30\n",
      "7352/7352 [==============================] - 20s 3ms/step - loss: 0.1573 - accuracy: 0.9467 - val_loss: 0.3529 - val_accuracy: 0.9097\n",
      "Epoch 21/30\n",
      "7352/7352 [==============================] - 22s 3ms/step - loss: 0.1615 - accuracy: 0.9499 - val_loss: 0.7128 - val_accuracy: 0.8789\n",
      "Epoch 22/30\n",
      "7352/7352 [==============================] - 18s 2ms/step - loss: 0.1429 - accuracy: 0.9518 - val_loss: 0.3295 - val_accuracy: 0.9223\n",
      "Epoch 23/30\n",
      "7352/7352 [==============================] - 18s 2ms/step - loss: 0.1548 - accuracy: 0.9479 - val_loss: 0.5361 - val_accuracy: 0.9063\n",
      "Epoch 24/30\n",
      "7352/7352 [==============================] - 20s 3ms/step - loss: 0.1543 - accuracy: 0.9467 - val_loss: 0.2969 - val_accuracy: 0.9016\n",
      "Epoch 25/30\n",
      "7352/7352 [==============================] - 18s 2ms/step - loss: 0.1431 - accuracy: 0.9471 - val_loss: 0.5244 - val_accuracy: 0.9050\n",
      "Epoch 26/30\n",
      "7352/7352 [==============================] - 21s 3ms/step - loss: 0.1457 - accuracy: 0.9499 - val_loss: 0.3353 - val_accuracy: 0.9186\n",
      "Epoch 27/30\n",
      "7352/7352 [==============================] - 19s 3ms/step - loss: 0.1532 - accuracy: 0.9510 - val_loss: 0.5023 - val_accuracy: 0.9074\n",
      "Epoch 28/30\n",
      "7352/7352 [==============================] - 20s 3ms/step - loss: 0.1357 - accuracy: 0.9514 - val_loss: 0.2958 - val_accuracy: 0.9152\n",
      "Epoch 29/30\n",
      "7352/7352 [==============================] - 16s 2ms/step - loss: 0.1368 - accuracy: 0.9490 - val_loss: 0.3224 - val_accuracy: 0.9189\n",
      "Epoch 30/30\n",
      "7352/7352 [==============================] - 16s 2ms/step - loss: 0.1569 - accuracy: 0.9467 - val_loss: 0.4957 - val_accuracy: 0.9060\n"
     ]
    },
    {
     "data": {
      "text/plain": [
       "<keras.callbacks.callbacks.History at 0x631129d68>"
      ]
     },
     "execution_count": 48,
     "metadata": {},
     "output_type": "execute_result"
    }
   ],
   "source": [
    "# Training the model\n",
    "model.fit(X_train,\n",
    "          Y_train,\n",
    "          batch_size=batch_size,\n",
    "          validation_data=(X_test, Y_test),\n",
    "          epochs=epochs)"
   ]
  },
  {
   "cell_type": "code",
   "execution_count": 49,
   "metadata": {},
   "outputs": [
    {
     "name": "stdout",
     "output_type": "stream",
     "text": [
      "Pred                LAYING  SITTING  STANDING  WALKING  WALKING_DOWNSTAIRS  \\\n",
      "True                                                                         \n",
      "LAYING                 517        0        19        0                   0   \n",
      "SITTING                  0      416        74        0                   0   \n",
      "STANDING                 0       94       438        0                   0   \n",
      "WALKING                  0        0         0      495                   0   \n",
      "WALKING_DOWNSTAIRS       0        0         0       15                 377   \n",
      "WALKING_UPSTAIRS         0        0         0       41                   3   \n",
      "\n",
      "Pred                WALKING_UPSTAIRS  \n",
      "True                                  \n",
      "LAYING                             1  \n",
      "SITTING                            1  \n",
      "STANDING                           0  \n",
      "WALKING                            1  \n",
      "WALKING_DOWNSTAIRS                28  \n",
      "WALKING_UPSTAIRS                 427  \n"
     ]
    }
   ],
   "source": [
    "# Confusion Matrix\n",
    "print(confusion_matrix(Y_test, model.predict(X_test)))"
   ]
  },
  {
   "cell_type": "code",
   "execution_count": 50,
   "metadata": {},
   "outputs": [
    {
     "name": "stdout",
     "output_type": "stream",
     "text": [
      "2947/2947 [==============================] - 1s 283us/step\n"
     ]
    }
   ],
   "source": [
    "score = model.evaluate(X_test, Y_test)"
   ]
  },
  {
   "cell_type": "code",
   "execution_count": 51,
   "metadata": {},
   "outputs": [
    {
     "data": {
      "text/plain": [
       "[0.4956902541945778, 0.9060060977935791]"
      ]
     },
     "execution_count": 51,
     "metadata": {},
     "output_type": "execute_result"
    }
   ],
   "source": [
    "score"
   ]
  },
  {
   "cell_type": "markdown",
   "metadata": {},
   "source": [
    "- Better than 0.7 dropout"
   ]
  },
  {
   "cell_type": "markdown",
   "metadata": {},
   "source": [
    "<h3>1.2.4 Use 32 LSTM Layer and Dropout rate 0.6</h3>"
   ]
  },
  {
   "cell_type": "code",
   "execution_count": 52,
   "metadata": {},
   "outputs": [],
   "source": [
    "# update LSTM layers\n",
    "n_hidden = 32"
   ]
  },
  {
   "cell_type": "markdown",
   "metadata": {},
   "source": [
    "- Defining the Architecture of LSTM"
   ]
  },
  {
   "cell_type": "code",
   "execution_count": 53,
   "metadata": {},
   "outputs": [
    {
     "name": "stdout",
     "output_type": "stream",
     "text": [
      "WARNING:tensorflow:Large dropout rate: 0.6 (>0.5). In TensorFlow 2.x, dropout() uses dropout rate instead of keep_prob. Please ensure that this is intended.\n",
      "Model: \"sequential_6\"\n",
      "_________________________________________________________________\n",
      "Layer (type)                 Output Shape              Param #   \n",
      "=================================================================\n",
      "lstm_6 (LSTM)                (None, 32)                5376      \n",
      "_________________________________________________________________\n",
      "dropout_6 (Dropout)          (None, 32)                0         \n",
      "_________________________________________________________________\n",
      "dense_6 (Dense)              (None, 6)                 198       \n",
      "=================================================================\n",
      "Total params: 5,574\n",
      "Trainable params: 5,574\n",
      "Non-trainable params: 0\n",
      "_________________________________________________________________\n"
     ]
    }
   ],
   "source": [
    "# Initiliazing the sequential model\n",
    "model = Sequential()\n",
    "# Configuring the parameters\n",
    "model.add(LSTM(n_hidden, input_shape=(timesteps, input_dim)))\n",
    "# Adding a dropout layer\n",
    "model.add(Dropout(0.6))\n",
    "# Adding a dense output layer with sigmoid activation\n",
    "model.add(Dense(n_classes, activation='sigmoid'))\n",
    "model.summary()"
   ]
  },
  {
   "cell_type": "code",
   "execution_count": 54,
   "metadata": {},
   "outputs": [],
   "source": [
    "# Compiling the model\n",
    "model.compile(loss='categorical_crossentropy',\n",
    "              optimizer='rmsprop',\n",
    "              metrics=['accuracy'])"
   ]
  },
  {
   "cell_type": "code",
   "execution_count": 55,
   "metadata": {},
   "outputs": [
    {
     "name": "stdout",
     "output_type": "stream",
     "text": [
      "Train on 7352 samples, validate on 2947 samples\n",
      "Epoch 1/30\n",
      "7352/7352 [==============================] - 17s 2ms/step - loss: 1.3738 - accuracy: 0.3864 - val_loss: 1.3047 - val_accuracy: 0.4381\n",
      "Epoch 2/30\n",
      "7352/7352 [==============================] - 15s 2ms/step - loss: 1.0837 - accuracy: 0.5292 - val_loss: 1.0199 - val_accuracy: 0.5565\n",
      "Epoch 3/30\n",
      "7352/7352 [==============================] - 14s 2ms/step - loss: 0.8871 - accuracy: 0.6268 - val_loss: 0.8298 - val_accuracy: 0.6121\n",
      "Epoch 4/30\n",
      "7352/7352 [==============================] - 14s 2ms/step - loss: 0.7479 - accuracy: 0.6549 - val_loss: 0.7888 - val_accuracy: 0.6149\n",
      "Epoch 5/30\n",
      "7352/7352 [==============================] - 16s 2ms/step - loss: 0.7072 - accuracy: 0.6639 - val_loss: 0.8324 - val_accuracy: 0.6020\n",
      "Epoch 6/30\n",
      "7352/7352 [==============================] - 15s 2ms/step - loss: 0.6625 - accuracy: 0.6814 - val_loss: 0.8694 - val_accuracy: 0.5979\n",
      "Epoch 7/30\n",
      "7352/7352 [==============================] - 14s 2ms/step - loss: 0.6415 - accuracy: 0.7081 - val_loss: 0.7401 - val_accuracy: 0.6614\n",
      "Epoch 8/30\n",
      "7352/7352 [==============================] - 15s 2ms/step - loss: 0.5871 - accuracy: 0.7678 - val_loss: 0.6918 - val_accuracy: 0.7754\n",
      "Epoch 9/30\n",
      "7352/7352 [==============================] - 16s 2ms/step - loss: 0.4870 - accuracy: 0.8341 - val_loss: 0.7611 - val_accuracy: 0.7540\n",
      "Epoch 10/30\n",
      "7352/7352 [==============================] - 14s 2ms/step - loss: 0.4380 - accuracy: 0.8558 - val_loss: 0.6525 - val_accuracy: 0.8022\n",
      "Epoch 11/30\n",
      "7352/7352 [==============================] - 14s 2ms/step - loss: 0.4693 - accuracy: 0.8546 - val_loss: 0.5199 - val_accuracy: 0.8636\n",
      "Epoch 12/30\n",
      "7352/7352 [==============================] - 15s 2ms/step - loss: 0.3959 - accuracy: 0.8878 - val_loss: 0.6564 - val_accuracy: 0.8290\n",
      "Epoch 13/30\n",
      "7352/7352 [==============================] - 17s 2ms/step - loss: 0.3703 - accuracy: 0.8953 - val_loss: 0.5741 - val_accuracy: 0.8324\n",
      "Epoch 14/30\n",
      "7352/7352 [==============================] - 15s 2ms/step - loss: 0.3400 - accuracy: 0.9029 - val_loss: 0.5634 - val_accuracy: 0.8497\n",
      "Epoch 15/30\n",
      "7352/7352 [==============================] - 15s 2ms/step - loss: 0.3523 - accuracy: 0.8976 - val_loss: 0.6537 - val_accuracy: 0.8449\n",
      "Epoch 16/30\n",
      "7352/7352 [==============================] - 17s 2ms/step - loss: 0.3631 - accuracy: 0.8946 - val_loss: 0.4173 - val_accuracy: 0.8789\n",
      "Epoch 17/30\n",
      "7352/7352 [==============================] - 16s 2ms/step - loss: 0.3099 - accuracy: 0.9123 - val_loss: 0.6522 - val_accuracy: 0.8490\n",
      "Epoch 18/30\n",
      "7352/7352 [==============================] - 16s 2ms/step - loss: 0.3181 - accuracy: 0.9066 - val_loss: 0.4997 - val_accuracy: 0.8748\n",
      "Epoch 19/30\n",
      "7352/7352 [==============================] - 15s 2ms/step - loss: 0.2624 - accuracy: 0.9219 - val_loss: 0.5491 - val_accuracy: 0.8700\n",
      "Epoch 20/30\n",
      "7352/7352 [==============================] - 18s 2ms/step - loss: 0.2779 - accuracy: 0.9229 - val_loss: 0.5618 - val_accuracy: 0.8850\n",
      "Epoch 21/30\n",
      "7352/7352 [==============================] - 16s 2ms/step - loss: 0.2645 - accuracy: 0.9272 - val_loss: 0.4384 - val_accuracy: 0.8941\n",
      "Epoch 22/30\n",
      "7352/7352 [==============================] - 15s 2ms/step - loss: 0.3439 - accuracy: 0.9105 - val_loss: 0.4841 - val_accuracy: 0.8789\n",
      "Epoch 23/30\n",
      "7352/7352 [==============================] - 16s 2ms/step - loss: 0.2935 - accuracy: 0.9139 - val_loss: 0.5743 - val_accuracy: 0.8870\n",
      "Epoch 24/30\n",
      "7352/7352 [==============================] - 16s 2ms/step - loss: 0.2599 - accuracy: 0.9293 - val_loss: 0.4404 - val_accuracy: 0.8945\n",
      "Epoch 25/30\n",
      "7352/7352 [==============================] - 15s 2ms/step - loss: 0.2976 - accuracy: 0.9149 - val_loss: 0.4465 - val_accuracy: 0.8836\n",
      "Epoch 26/30\n",
      "7352/7352 [==============================] - 15s 2ms/step - loss: 0.2633 - accuracy: 0.9237 - val_loss: 0.4992 - val_accuracy: 0.8924\n",
      "Epoch 27/30\n",
      "7352/7352 [==============================] - 15s 2ms/step - loss: 0.2649 - accuracy: 0.9261 - val_loss: 0.5707 - val_accuracy: 0.8711\n",
      "Epoch 28/30\n",
      "7352/7352 [==============================] - 17s 2ms/step - loss: 0.2830 - accuracy: 0.9229 - val_loss: 0.4471 - val_accuracy: 0.8887\n",
      "Epoch 29/30\n",
      "7352/7352 [==============================] - 16s 2ms/step - loss: 0.2589 - accuracy: 0.9263 - val_loss: 0.4967 - val_accuracy: 0.8843\n",
      "Epoch 30/30\n",
      "7352/7352 [==============================] - 15s 2ms/step - loss: 0.2628 - accuracy: 0.9279 - val_loss: 0.5602 - val_accuracy: 0.8812\n"
     ]
    },
    {
     "data": {
      "text/plain": [
       "<keras.callbacks.callbacks.History at 0x633723b70>"
      ]
     },
     "execution_count": 55,
     "metadata": {},
     "output_type": "execute_result"
    }
   ],
   "source": [
    "# Training the model\n",
    "model.fit(X_train,\n",
    "          Y_train,\n",
    "          batch_size=batch_size,\n",
    "          validation_data=(X_test, Y_test),\n",
    "          epochs=epochs)"
   ]
  },
  {
   "cell_type": "code",
   "execution_count": 56,
   "metadata": {},
   "outputs": [
    {
     "name": "stdout",
     "output_type": "stream",
     "text": [
      "Pred                LAYING  SITTING  STANDING  WALKING  WALKING_DOWNSTAIRS  \\\n",
      "True                                                                         \n",
      "LAYING                 510        0        24        0                   0   \n",
      "SITTING                  3      434        29        7                   0   \n",
      "STANDING                 0      135       379        1                   0   \n",
      "WALKING                  0        1         0      409                  20   \n",
      "WALKING_DOWNSTAIRS       0        0         0        7                 399   \n",
      "WALKING_UPSTAIRS         0        0         0        5                   0   \n",
      "\n",
      "Pred                WALKING_UPSTAIRS  \n",
      "True                                  \n",
      "LAYING                             3  \n",
      "SITTING                           18  \n",
      "STANDING                          17  \n",
      "WALKING                           66  \n",
      "WALKING_DOWNSTAIRS                14  \n",
      "WALKING_UPSTAIRS                 466  \n"
     ]
    }
   ],
   "source": [
    "# Confusion Matrix\n",
    "print(confusion_matrix(Y_test, model.predict(X_test)))"
   ]
  },
  {
   "cell_type": "code",
   "execution_count": 57,
   "metadata": {},
   "outputs": [
    {
     "name": "stdout",
     "output_type": "stream",
     "text": [
      "2947/2947 [==============================] - 1s 256us/step\n"
     ]
    }
   ],
   "source": [
    "score = model.evaluate(X_test, Y_test)"
   ]
  },
  {
   "cell_type": "code",
   "execution_count": 58,
   "metadata": {},
   "outputs": [
    {
     "data": {
      "text/plain": [
       "[0.5602035771178105, 0.8812351822853088]"
      ]
     },
     "execution_count": 58,
     "metadata": {},
     "output_type": "execute_result"
    }
   ],
   "source": [
    "score"
   ]
  },
  {
   "cell_type": "markdown",
   "metadata": {},
   "source": [
    "- It's perform worse than 64 layer with dropout 0.6"
   ]
  },
  {
   "cell_type": "markdown",
   "metadata": {},
   "source": [
    "<h2>1.3 Use 2 LSTM Layers with Larger Dropout</h2>"
   ]
  },
  {
   "cell_type": "markdown",
   "metadata": {},
   "source": [
    "<h3>1.3.1 LSTM Layer (64,32) with 2 layer of dropout 0.7</h3>"
   ]
  },
  {
   "cell_type": "code",
   "execution_count": 95,
   "metadata": {},
   "outputs": [],
   "source": [
    "# update LSTM layers\n",
    "n_hidden_1 = 64\n",
    "n_hidden_2 = 32"
   ]
  },
  {
   "cell_type": "markdown",
   "metadata": {},
   "source": [
    "- Initialize the LSTM Architecture"
   ]
  },
  {
   "cell_type": "code",
   "execution_count": 96,
   "metadata": {},
   "outputs": [
    {
     "name": "stdout",
     "output_type": "stream",
     "text": [
      "Model: \"sequential_28\"\n",
      "_________________________________________________________________\n",
      "Layer (type)                 Output Shape              Param #   \n",
      "=================================================================\n",
      "lstm_46 (LSTM)               (None, 128, 64)           18944     \n",
      "_________________________________________________________________\n",
      "dropout_27 (Dropout)         (None, 128, 64)           0         \n",
      "_________________________________________________________________\n",
      "lstm_47 (LSTM)               (None, 32)                12416     \n",
      "_________________________________________________________________\n",
      "dropout_28 (Dropout)         (None, 32)                0         \n",
      "_________________________________________________________________\n",
      "dense_12 (Dense)             (None, 6)                 198       \n",
      "=================================================================\n",
      "Total params: 31,558\n",
      "Trainable params: 31,558\n",
      "Non-trainable params: 0\n",
      "_________________________________________________________________\n"
     ]
    }
   ],
   "source": [
    "# https://stackoverflow.com/questions/51763983/error-when-checking-target-expected-dense-1-to-have-3-dimensions-but-got-array\n",
    "# https://github.com/keras-team/keras/issues/7403\n",
    "# 1. You need to set return_sequences=True from first LSTM\n",
    "# 2. You need to set return_sequences=True from second LSTM\n",
    "# Initiliazing the sequential model\n",
    "model = Sequential()\n",
    "# Configuring the parameters\n",
    "model.add(LSTM(n_hidden_1, input_shape=(timesteps, input_dim), return_sequences=True))\n",
    "# Adding a dropout layer\n",
    "model.add(Dropout(0.7))\n",
    "# Configuring the parameters\n",
    "model.add(LSTM(n_hidden_2 , return_sequences=False))\n",
    "# Adding a dropout layer\n",
    "model.add(Dropout(0.7))\n",
    "# Adding a dense output layer with sigmoid activation\n",
    "model.add(Dense(n_classes, activation='sigmoid'))\n",
    "model.summary()"
   ]
  },
  {
   "cell_type": "code",
   "execution_count": 97,
   "metadata": {},
   "outputs": [],
   "source": [
    "# Compiling the model\n",
    "model.compile(loss='categorical_crossentropy',\n",
    "              optimizer='rmsprop',\n",
    "              metrics=['accuracy'])"
   ]
  },
  {
   "cell_type": "code",
   "execution_count": 98,
   "metadata": {},
   "outputs": [
    {
     "name": "stdout",
     "output_type": "stream",
     "text": [
      "Train on 7352 samples, validate on 2947 samples\n",
      "Epoch 1/30\n",
      "7352/7352 [==============================] - 85s 12ms/step - loss: 1.2737 - accuracy: 0.4884 - val_loss: 0.9074 - val_accuracy: 0.5938\n",
      "Epoch 2/30\n",
      "7352/7352 [==============================] - 88s 12ms/step - loss: 0.8894 - accuracy: 0.6167 - val_loss: 0.7144 - val_accuracy: 0.6206\n",
      "Epoch 3/30\n",
      "7352/7352 [==============================] - 85s 12ms/step - loss: 0.7967 - accuracy: 0.6294 - val_loss: 0.7580 - val_accuracy: 0.6237\n",
      "Epoch 4/30\n",
      "7352/7352 [==============================] - 89s 12ms/step - loss: 0.7435 - accuracy: 0.6506 - val_loss: 0.7531 - val_accuracy: 0.6216\n",
      "Epoch 5/30\n",
      "7352/7352 [==============================] - 89s 12ms/step - loss: 0.7146 - accuracy: 0.6518 - val_loss: 0.7442 - val_accuracy: 0.6315\n",
      "Epoch 6/30\n",
      "7352/7352 [==============================] - 84s 11ms/step - loss: 0.7182 - accuracy: 0.6578 - val_loss: 0.7171 - val_accuracy: 0.6328\n",
      "Epoch 7/30\n",
      "7352/7352 [==============================] - 86s 12ms/step - loss: 0.7103 - accuracy: 0.6644 - val_loss: 0.8312 - val_accuracy: 0.6189\n",
      "Epoch 8/30\n",
      "7352/7352 [==============================] - 83s 11ms/step - loss: 0.6082 - accuracy: 0.7271 - val_loss: 0.5815 - val_accuracy: 0.7472\n",
      "Epoch 9/30\n",
      "7352/7352 [==============================] - 89s 12ms/step - loss: 0.5212 - accuracy: 0.7779 - val_loss: 0.6235 - val_accuracy: 0.7482\n",
      "Epoch 10/30\n",
      "7352/7352 [==============================] - 84s 11ms/step - loss: 0.4809 - accuracy: 0.7831 - val_loss: 0.4557 - val_accuracy: 0.7560\n",
      "Epoch 11/30\n",
      "7352/7352 [==============================] - 89s 12ms/step - loss: 0.4502 - accuracy: 0.7949 - val_loss: 0.5220 - val_accuracy: 0.7486\n",
      "Epoch 12/30\n",
      "7352/7352 [==============================] - 84s 11ms/step - loss: 0.4417 - accuracy: 0.8214 - val_loss: 0.4750 - val_accuracy: 0.8195\n",
      "Epoch 13/30\n",
      "7352/7352 [==============================] - 91s 12ms/step - loss: 0.3882 - accuracy: 0.8807 - val_loss: 0.6525 - val_accuracy: 0.8300\n",
      "Epoch 14/30\n",
      "7352/7352 [==============================] - 90s 12ms/step - loss: 0.3461 - accuracy: 0.9051 - val_loss: 0.3229 - val_accuracy: 0.8856\n",
      "Epoch 15/30\n",
      "7352/7352 [==============================] - 93s 13ms/step - loss: 0.2932 - accuracy: 0.9212 - val_loss: 0.3832 - val_accuracy: 0.8873\n",
      "Epoch 16/30\n",
      "7352/7352 [==============================] - 86s 12ms/step - loss: 0.2834 - accuracy: 0.9229 - val_loss: 0.4894 - val_accuracy: 0.8565\n",
      "Epoch 17/30\n",
      "7352/7352 [==============================] - 87s 12ms/step - loss: 0.2440 - accuracy: 0.9328 - val_loss: 0.3598 - val_accuracy: 0.9040\n",
      "Epoch 18/30\n",
      "7352/7352 [==============================] - 88s 12ms/step - loss: 0.2287 - accuracy: 0.9357 - val_loss: 0.2449 - val_accuracy: 0.9070\n",
      "Epoch 19/30\n",
      "7352/7352 [==============================] - 90s 12ms/step - loss: 0.2432 - accuracy: 0.9314 - val_loss: 0.2899 - val_accuracy: 0.9199\n",
      "Epoch 20/30\n",
      "7352/7352 [==============================] - 88s 12ms/step - loss: 0.2307 - accuracy: 0.9343 - val_loss: 0.3551 - val_accuracy: 0.8948\n",
      "Epoch 21/30\n",
      "7352/7352 [==============================] - 117s 16ms/step - loss: 0.2071 - accuracy: 0.9377 - val_loss: 0.3508 - val_accuracy: 0.9145\n",
      "Epoch 22/30\n",
      "7352/7352 [==============================] - 106s 14ms/step - loss: 0.2145 - accuracy: 0.9353 - val_loss: 0.7906 - val_accuracy: 0.8666\n",
      "Epoch 23/30\n",
      "7352/7352 [==============================] - 91s 12ms/step - loss: 0.2291 - accuracy: 0.9347 - val_loss: 0.3717 - val_accuracy: 0.9080\n",
      "Epoch 24/30\n",
      "7352/7352 [==============================] - 97s 13ms/step - loss: 0.1955 - accuracy: 0.9402 - val_loss: 0.3518 - val_accuracy: 0.9182\n",
      "Epoch 25/30\n",
      "7352/7352 [==============================] - 77s 10ms/step - loss: 0.2144 - accuracy: 0.9388 - val_loss: 0.4186 - val_accuracy: 0.9155\n",
      "Epoch 26/30\n",
      "7352/7352 [==============================] - 78s 11ms/step - loss: 0.2106 - accuracy: 0.9389 - val_loss: 0.2988 - val_accuracy: 0.9165\n",
      "Epoch 27/30\n",
      "7352/7352 [==============================] - 79s 11ms/step - loss: 0.1955 - accuracy: 0.9395 - val_loss: 0.3549 - val_accuracy: 0.9046\n",
      "Epoch 28/30\n",
      "7352/7352 [==============================] - 75s 10ms/step - loss: nan - accuracy: 0.3413 - val_loss: nan - val_accuracy: 0.1683\n",
      "Epoch 29/30\n",
      "7352/7352 [==============================] - 76s 10ms/step - loss: nan - accuracy: 0.1668 - val_loss: nan - val_accuracy: 0.1683\n",
      "Epoch 30/30\n",
      "7352/7352 [==============================] - 78s 11ms/step - loss: nan - accuracy: 0.1668 - val_loss: nan - val_accuracy: 0.1683\n"
     ]
    },
    {
     "data": {
      "text/plain": [
       "<keras.callbacks.callbacks.History at 0x63c6b10b8>"
      ]
     },
     "execution_count": 98,
     "metadata": {},
     "output_type": "execute_result"
    }
   ],
   "source": [
    "# Training the model\n",
    "model.fit(X_train,\n",
    "          Y_train,\n",
    "          batch_size=batch_size,\n",
    "          validation_data=(X_test, Y_test),\n",
    "          epochs=epochs)"
   ]
  },
  {
   "cell_type": "code",
   "execution_count": 99,
   "metadata": {},
   "outputs": [
    {
     "name": "stdout",
     "output_type": "stream",
     "text": [
      "Pred                WALKING\n",
      "True                       \n",
      "LAYING                  537\n",
      "SITTING                 491\n",
      "STANDING                532\n",
      "WALKING                 496\n",
      "WALKING_DOWNSTAIRS      420\n",
      "WALKING_UPSTAIRS        471\n"
     ]
    }
   ],
   "source": [
    "# Confusion Matrix\n",
    "print(confusion_matrix(Y_test, model.predict(X_test)))"
   ]
  },
  {
   "cell_type": "code",
   "execution_count": 100,
   "metadata": {},
   "outputs": [
    {
     "name": "stdout",
     "output_type": "stream",
     "text": [
      "2947/2947 [==============================] - 4s 1ms/step\n"
     ]
    }
   ],
   "source": [
    "score = model.evaluate(X_test, Y_test)"
   ]
  },
  {
   "cell_type": "code",
   "execution_count": 101,
   "metadata": {},
   "outputs": [
    {
     "data": {
      "text/plain": [
       "[nan, 0.16830675303936005]"
      ]
     },
     "execution_count": 101,
     "metadata": {},
     "output_type": "execute_result"
    }
   ],
   "source": [
    "score"
   ]
  },
  {
   "cell_type": "markdown",
   "metadata": {},
   "source": [
    "- It's performance is worst"
   ]
  },
  {
   "cell_type": "markdown",
   "metadata": {},
   "source": [
    "<h3>1.3.2 LSTM Layer (64,32) with 2 layer dropout 0.6</h3>"
   ]
  },
  {
   "cell_type": "code",
   "execution_count": 102,
   "metadata": {},
   "outputs": [],
   "source": [
    "# update LSTM layers\n",
    "n_hidden_1 = 64\n",
    "n_hidden_2 = 32"
   ]
  },
  {
   "cell_type": "markdown",
   "metadata": {},
   "source": [
    "- Initialize the LSTM Architecture"
   ]
  },
  {
   "cell_type": "code",
   "execution_count": 103,
   "metadata": {},
   "outputs": [
    {
     "name": "stdout",
     "output_type": "stream",
     "text": [
      "Model: \"sequential_29\"\n",
      "_________________________________________________________________\n",
      "Layer (type)                 Output Shape              Param #   \n",
      "=================================================================\n",
      "lstm_48 (LSTM)               (None, 128, 64)           18944     \n",
      "_________________________________________________________________\n",
      "dropout_29 (Dropout)         (None, 128, 64)           0         \n",
      "_________________________________________________________________\n",
      "lstm_49 (LSTM)               (None, 32)                12416     \n",
      "_________________________________________________________________\n",
      "dropout_30 (Dropout)         (None, 32)                0         \n",
      "_________________________________________________________________\n",
      "dense_13 (Dense)             (None, 6)                 198       \n",
      "=================================================================\n",
      "Total params: 31,558\n",
      "Trainable params: 31,558\n",
      "Non-trainable params: 0\n",
      "_________________________________________________________________\n"
     ]
    }
   ],
   "source": [
    "# https://stackoverflow.com/questions/51763983/error-when-checking-target-expected-dense-1-to-have-3-dimensions-but-got-array\n",
    "# https://github.com/keras-team/keras/issues/7403\n",
    "# 1. You need to set return_sequences=True from first LSTM\n",
    "# 2. You need to set return_sequences=True from second LSTM\n",
    "# Initiliazing the sequential model\n",
    "model = Sequential()\n",
    "# Configuring the parameters\n",
    "model.add(LSTM(n_hidden_1, input_shape=(timesteps, input_dim), return_sequences=True))\n",
    "# Adding a dropout layer\n",
    "model.add(Dropout(0.6))\n",
    "# Configuring the parameters\n",
    "model.add(LSTM(n_hidden_2 , return_sequences=False))\n",
    "# Adding a dropout layer\n",
    "model.add(Dropout(0.6))\n",
    "# Adding a dense output layer with sigmoid activation\n",
    "model.add(Dense(n_classes, activation='sigmoid'))\n",
    "model.summary()"
   ]
  },
  {
   "cell_type": "code",
   "execution_count": 104,
   "metadata": {},
   "outputs": [],
   "source": [
    "# Compiling the model\n",
    "model.compile(loss='categorical_crossentropy',\n",
    "              optimizer='rmsprop',\n",
    "              metrics=['accuracy'])"
   ]
  },
  {
   "cell_type": "code",
   "execution_count": 105,
   "metadata": {},
   "outputs": [
    {
     "name": "stdout",
     "output_type": "stream",
     "text": [
      "Train on 7352 samples, validate on 2947 samples\n",
      "Epoch 1/30\n",
      "7352/7352 [==============================] - 78s 11ms/step - loss: 1.2568 - accuracy: 0.4778 - val_loss: 1.2977 - val_accuracy: 0.4462\n",
      "Epoch 2/30\n",
      "7352/7352 [==============================] - 77s 10ms/step - loss: 0.8864 - accuracy: 0.6138 - val_loss: 0.8237 - val_accuracy: 0.6179\n",
      "Epoch 3/30\n",
      "7352/7352 [==============================] - 79s 11ms/step - loss: 0.7344 - accuracy: 0.6719 - val_loss: 0.7058 - val_accuracy: 0.6804\n",
      "Epoch 4/30\n",
      "7352/7352 [==============================] - 75s 10ms/step - loss: 0.6797 - accuracy: 0.7223 - val_loss: 0.6778 - val_accuracy: 0.7411\n",
      "Epoch 5/30\n",
      "7352/7352 [==============================] - 78s 11ms/step - loss: 0.5348 - accuracy: 0.8092 - val_loss: 0.4354 - val_accuracy: 0.8537\n",
      "Epoch 6/30\n",
      "7352/7352 [==============================] - 79s 11ms/step - loss: 0.3872 - accuracy: 0.8938 - val_loss: 0.4438 - val_accuracy: 0.8799\n",
      "Epoch 7/30\n",
      "7352/7352 [==============================] - 76s 10ms/step - loss: 0.3565 - accuracy: 0.9079 - val_loss: 0.4188 - val_accuracy: 0.8823\n",
      "Epoch 8/30\n",
      "7352/7352 [==============================] - 75s 10ms/step - loss: 0.2932 - accuracy: 0.9203 - val_loss: 0.4461 - val_accuracy: 0.8850\n",
      "Epoch 9/30\n",
      "7352/7352 [==============================] - 76s 10ms/step - loss: 0.2624 - accuracy: 0.9271 - val_loss: 0.4734 - val_accuracy: 0.8894\n",
      "Epoch 10/30\n",
      "7352/7352 [==============================] - 77s 11ms/step - loss: 0.2479 - accuracy: 0.9272 - val_loss: 0.3673 - val_accuracy: 0.9023\n",
      "Epoch 11/30\n",
      "7352/7352 [==============================] - 77s 10ms/step - loss: 0.2425 - accuracy: 0.9328 - val_loss: 0.4653 - val_accuracy: 0.8839\n",
      "Epoch 12/30\n",
      "7352/7352 [==============================] - 76s 10ms/step - loss: 0.2103 - accuracy: 0.9389 - val_loss: 0.3446 - val_accuracy: 0.9030\n",
      "Epoch 13/30\n",
      "7352/7352 [==============================] - 74s 10ms/step - loss: 0.1988 - accuracy: 0.9399 - val_loss: 0.3912 - val_accuracy: 0.9148\n",
      "Epoch 14/30\n",
      "7352/7352 [==============================] - 78s 11ms/step - loss: 0.1747 - accuracy: 0.9414 - val_loss: 0.5197 - val_accuracy: 0.8921\n",
      "Epoch 15/30\n",
      "7352/7352 [==============================] - 74s 10ms/step - loss: 0.1786 - accuracy: 0.9455 - val_loss: 0.6204 - val_accuracy: 0.8945\n",
      "Epoch 16/30\n",
      "7352/7352 [==============================] - 76s 10ms/step - loss: 0.1747 - accuracy: 0.9426 - val_loss: 0.3647 - val_accuracy: 0.9087\n",
      "Epoch 17/30\n",
      "7352/7352 [==============================] - 76s 10ms/step - loss: 0.1764 - accuracy: 0.9414 - val_loss: 0.7391 - val_accuracy: 0.8799\n",
      "Epoch 18/30\n",
      "7352/7352 [==============================] - 78s 11ms/step - loss: 0.1691 - accuracy: 0.9440 - val_loss: 0.3439 - val_accuracy: 0.9053\n",
      "Epoch 19/30\n",
      "7352/7352 [==============================] - 76s 10ms/step - loss: 0.1668 - accuracy: 0.9487 - val_loss: 0.4053 - val_accuracy: 0.9040\n",
      "Epoch 20/30\n",
      "7352/7352 [==============================] - 75s 10ms/step - loss: 0.1707 - accuracy: 0.9430 - val_loss: 0.5533 - val_accuracy: 0.8904\n",
      "Epoch 21/30\n",
      "7352/7352 [==============================] - 75s 10ms/step - loss: 0.1765 - accuracy: 0.9457 - val_loss: 0.4594 - val_accuracy: 0.9077\n",
      "Epoch 22/30\n",
      "7352/7352 [==============================] - 76s 10ms/step - loss: 0.2275 - accuracy: 0.9396 - val_loss: 0.4258 - val_accuracy: 0.9169\n",
      "Epoch 23/30\n",
      "7352/7352 [==============================] - 76s 10ms/step - loss: 0.1920 - accuracy: 0.9434 - val_loss: 0.4475 - val_accuracy: 0.9077\n",
      "Epoch 24/30\n",
      "7352/7352 [==============================] - 75s 10ms/step - loss: 0.1931 - accuracy: 0.9445 - val_loss: 0.6805 - val_accuracy: 0.8799\n",
      "Epoch 25/30\n",
      "7352/7352 [==============================] - 77s 11ms/step - loss: 0.1535 - accuracy: 0.9461 - val_loss: 0.4987 - val_accuracy: 0.9006\n",
      "Epoch 26/30\n",
      "7352/7352 [==============================] - 75s 10ms/step - loss: nan - accuracy: 0.6254 - val_loss: nan - val_accuracy: 0.1683\n",
      "Epoch 27/30\n",
      "7352/7352 [==============================] - 77s 10ms/step - loss: nan - accuracy: 0.1668 - val_loss: nan - val_accuracy: 0.1683\n",
      "Epoch 28/30\n",
      "7352/7352 [==============================] - 75s 10ms/step - loss: nan - accuracy: 0.1668 - val_loss: nan - val_accuracy: 0.1683\n",
      "Epoch 29/30\n",
      "7352/7352 [==============================] - 79s 11ms/step - loss: nan - accuracy: 0.1668 - val_loss: nan - val_accuracy: 0.1683\n",
      "Epoch 30/30\n",
      "7352/7352 [==============================] - 77s 10ms/step - loss: nan - accuracy: 0.1668 - val_loss: nan - val_accuracy: 0.1683\n"
     ]
    },
    {
     "data": {
      "text/plain": [
       "<keras.callbacks.callbacks.History at 0x63d0cecf8>"
      ]
     },
     "execution_count": 105,
     "metadata": {},
     "output_type": "execute_result"
    }
   ],
   "source": [
    "# Training the model\n",
    "model.fit(X_train,\n",
    "          Y_train,\n",
    "          batch_size=batch_size,\n",
    "          validation_data=(X_test, Y_test),\n",
    "          epochs=epochs)"
   ]
  },
  {
   "cell_type": "code",
   "execution_count": 106,
   "metadata": {},
   "outputs": [
    {
     "name": "stdout",
     "output_type": "stream",
     "text": [
      "Pred                WALKING\n",
      "True                       \n",
      "LAYING                  537\n",
      "SITTING                 491\n",
      "STANDING                532\n",
      "WALKING                 496\n",
      "WALKING_DOWNSTAIRS      420\n",
      "WALKING_UPSTAIRS        471\n"
     ]
    }
   ],
   "source": [
    "# Confusion Matrix\n",
    "print(confusion_matrix(Y_test, model.predict(X_test)))"
   ]
  },
  {
   "cell_type": "code",
   "execution_count": 107,
   "metadata": {},
   "outputs": [
    {
     "name": "stdout",
     "output_type": "stream",
     "text": [
      "2947/2947 [==============================] - 4s 1ms/step\n"
     ]
    }
   ],
   "source": [
    "score = model.evaluate(X_test, Y_test)"
   ]
  },
  {
   "cell_type": "code",
   "execution_count": 108,
   "metadata": {},
   "outputs": [
    {
     "data": {
      "text/plain": [
       "[nan, 0.16830675303936005]"
      ]
     },
     "execution_count": 108,
     "metadata": {},
     "output_type": "execute_result"
    }
   ],
   "source": [
    "score"
   ]
  },
  {
   "cell_type": "markdown",
   "metadata": {},
   "source": [
    "- It's performance is worst"
   ]
  },
  {
   "cell_type": "markdown",
   "metadata": {},
   "source": [
    "<h3>1.3.3 LSTM Layer (64,32) with 2 layer dropout 0.5</h3>"
   ]
  },
  {
   "cell_type": "code",
   "execution_count": 110,
   "metadata": {},
   "outputs": [],
   "source": [
    "# update LSTM layers\n",
    "n_hidden_1 = 64\n",
    "n_hidden_2 = 32"
   ]
  },
  {
   "cell_type": "code",
   "execution_count": 111,
   "metadata": {},
   "outputs": [
    {
     "name": "stdout",
     "output_type": "stream",
     "text": [
      "Model: \"sequential_30\"\n",
      "_________________________________________________________________\n",
      "Layer (type)                 Output Shape              Param #   \n",
      "=================================================================\n",
      "lstm_50 (LSTM)               (None, 128, 64)           18944     \n",
      "_________________________________________________________________\n",
      "dropout_31 (Dropout)         (None, 128, 64)           0         \n",
      "_________________________________________________________________\n",
      "lstm_51 (LSTM)               (None, 32)                12416     \n",
      "_________________________________________________________________\n",
      "dropout_32 (Dropout)         (None, 32)                0         \n",
      "_________________________________________________________________\n",
      "dense_14 (Dense)             (None, 6)                 198       \n",
      "=================================================================\n",
      "Total params: 31,558\n",
      "Trainable params: 31,558\n",
      "Non-trainable params: 0\n",
      "_________________________________________________________________\n"
     ]
    }
   ],
   "source": [
    "# https://stackoverflow.com/questions/51763983/error-when-checking-target-expected-dense-1-to-have-3-dimensions-but-got-array\n",
    "# https://github.com/keras-team/keras/issues/7403\n",
    "# 1. You need to set return_sequences=True from first LSTM\n",
    "# 2. You need to set return_sequences=True from second LSTM\n",
    "# Initiliazing the sequential model\n",
    "model = Sequential()\n",
    "# Configuring the parameters\n",
    "model.add(LSTM(n_hidden_1, input_shape=(timesteps, input_dim), return_sequences=True))\n",
    "# Adding a dropout layer\n",
    "model.add(Dropout(0.5))\n",
    "# Configuring the parameters\n",
    "model.add(LSTM(n_hidden_2 , return_sequences=False))\n",
    "# Adding a dropout layer\n",
    "model.add(Dropout(0.5))\n",
    "# Adding a dense output layer with sigmoid activation\n",
    "model.add(Dense(n_classes, activation='sigmoid'))\n",
    "model.summary()"
   ]
  },
  {
   "cell_type": "code",
   "execution_count": 112,
   "metadata": {},
   "outputs": [],
   "source": [
    "# Compiling the model\n",
    "model.compile(loss='categorical_crossentropy',\n",
    "              optimizer='rmsprop',\n",
    "              metrics=['accuracy'])"
   ]
  },
  {
   "cell_type": "code",
   "execution_count": 113,
   "metadata": {},
   "outputs": [
    {
     "name": "stdout",
     "output_type": "stream",
     "text": [
      "Train on 7352 samples, validate on 2947 samples\n",
      "Epoch 1/30\n",
      "7352/7352 [==============================] - 96s 13ms/step - loss: 1.0873 - accuracy: 0.5563 - val_loss: 0.7762 - val_accuracy: 0.7038\n",
      "Epoch 2/30\n",
      "7352/7352 [==============================] - 95s 13ms/step - loss: 0.6862 - accuracy: 0.7337 - val_loss: 0.5855 - val_accuracy: 0.7299\n",
      "Epoch 3/30\n",
      "7352/7352 [==============================] - 118s 16ms/step - loss: 0.5282 - accuracy: 0.7763 - val_loss: 0.5286 - val_accuracy: 0.7615\n",
      "Epoch 4/30\n",
      "7352/7352 [==============================] - 93s 13ms/step - loss: 0.4156 - accuracy: 0.8392 - val_loss: 0.4071 - val_accuracy: 0.8819\n",
      "Epoch 5/30\n",
      "7352/7352 [==============================] - 81s 11ms/step - loss: 0.2848 - accuracy: 0.9139 - val_loss: 0.4556 - val_accuracy: 0.8755\n",
      "Epoch 6/30\n",
      "7352/7352 [==============================] - 80s 11ms/step - loss: 0.2346 - accuracy: 0.9327 - val_loss: 0.5155 - val_accuracy: 0.8731\n",
      "Epoch 7/30\n",
      "7352/7352 [==============================] - 83s 11ms/step - loss: 0.2368 - accuracy: 0.9323 - val_loss: 0.4285 - val_accuracy: 0.8772\n",
      "Epoch 8/30\n",
      "7352/7352 [==============================] - 84s 11ms/step - loss: 0.2111 - accuracy: 0.9358 - val_loss: 0.3157 - val_accuracy: 0.9057\n",
      "Epoch 9/30\n",
      "7352/7352 [==============================] - 82s 11ms/step - loss: 0.1866 - accuracy: 0.9404 - val_loss: 0.4269 - val_accuracy: 0.9019\n",
      "Epoch 10/30\n",
      "7352/7352 [==============================] - 82s 11ms/step - loss: 0.1835 - accuracy: 0.9389 - val_loss: 0.2840 - val_accuracy: 0.9108\n",
      "Epoch 11/30\n",
      "7352/7352 [==============================] - 82s 11ms/step - loss: 0.1625 - accuracy: 0.9470 - val_loss: 0.3311 - val_accuracy: 0.9077\n",
      "Epoch 12/30\n",
      "7352/7352 [==============================] - 82s 11ms/step - loss: 0.1528 - accuracy: 0.9460 - val_loss: 0.4299 - val_accuracy: 0.9145\n",
      "Epoch 13/30\n",
      "7352/7352 [==============================] - 82s 11ms/step - loss: 0.1541 - accuracy: 0.9434 - val_loss: 0.3474 - val_accuracy: 0.9199\n",
      "Epoch 14/30\n",
      "7352/7352 [==============================] - 83s 11ms/step - loss: 0.1506 - accuracy: 0.9464 - val_loss: 0.4714 - val_accuracy: 0.8968\n",
      "Epoch 15/30\n",
      "7352/7352 [==============================] - 83s 11ms/step - loss: 0.1506 - accuracy: 0.9482 - val_loss: 0.4906 - val_accuracy: 0.9104\n",
      "Epoch 16/30\n",
      "7352/7352 [==============================] - 78s 11ms/step - loss: 0.1481 - accuracy: 0.9486 - val_loss: 0.5460 - val_accuracy: 0.9023\n",
      "Epoch 17/30\n",
      "7352/7352 [==============================] - 76s 10ms/step - loss: 0.1604 - accuracy: 0.9490 - val_loss: 0.4505 - val_accuracy: 0.9057\n",
      "Epoch 18/30\n",
      "7352/7352 [==============================] - 77s 10ms/step - loss: 0.1389 - accuracy: 0.9510 - val_loss: 0.5048 - val_accuracy: 0.9036\n",
      "Epoch 19/30\n",
      "7352/7352 [==============================] - 77s 11ms/step - loss: 0.1574 - accuracy: 0.9479 - val_loss: 0.6674 - val_accuracy: 0.8880\n",
      "Epoch 20/30\n",
      "7352/7352 [==============================] - 77s 10ms/step - loss: 0.1591 - accuracy: 0.9509 - val_loss: 0.5377 - val_accuracy: 0.9118\n",
      "Epoch 21/30\n",
      "7352/7352 [==============================] - 76s 10ms/step - loss: 0.1516 - accuracy: 0.9474 - val_loss: 0.3849 - val_accuracy: 0.9030\n",
      "Epoch 22/30\n",
      "7352/7352 [==============================] - 79s 11ms/step - loss: 0.1376 - accuracy: 0.9524 - val_loss: 0.9215 - val_accuracy: 0.8877\n",
      "Epoch 23/30\n",
      "7352/7352 [==============================] - 76s 10ms/step - loss: 0.1471 - accuracy: 0.9508 - val_loss: 0.5519 - val_accuracy: 0.9074\n",
      "Epoch 24/30\n",
      "7352/7352 [==============================] - 78s 11ms/step - loss: 0.1971 - accuracy: 0.9373 - val_loss: 0.6929 - val_accuracy: 0.8823\n",
      "Epoch 25/30\n",
      "7352/7352 [==============================] - 78s 11ms/step - loss: 0.1533 - accuracy: 0.9482 - val_loss: 0.6994 - val_accuracy: 0.8867\n",
      "Epoch 26/30\n",
      "7352/7352 [==============================] - 123s 17ms/step - loss: 0.1517 - accuracy: 0.9510 - val_loss: 0.4023 - val_accuracy: 0.8948\n",
      "Epoch 27/30\n",
      "7352/7352 [==============================] - 88s 12ms/step - loss: 0.1306 - accuracy: 0.9523 - val_loss: 0.4267 - val_accuracy: 0.9036\n",
      "Epoch 28/30\n",
      "7352/7352 [==============================] - 78s 11ms/step - loss: 0.1561 - accuracy: 0.9476 - val_loss: 0.5926 - val_accuracy: 0.9114\n",
      "Epoch 29/30\n",
      "7352/7352 [==============================] - 84s 11ms/step - loss: 0.1539 - accuracy: 0.9452 - val_loss: 0.5725 - val_accuracy: 0.9030\n",
      "Epoch 30/30\n",
      "7352/7352 [==============================] - 80s 11ms/step - loss: 0.1292 - accuracy: 0.9533 - val_loss: 0.6457 - val_accuracy: 0.9002\n"
     ]
    },
    {
     "data": {
      "text/plain": [
       "<keras.callbacks.callbacks.History at 0x63f20dd30>"
      ]
     },
     "execution_count": 113,
     "metadata": {},
     "output_type": "execute_result"
    }
   ],
   "source": [
    "# Training the model\n",
    "model.fit(X_train,\n",
    "          Y_train,\n",
    "          batch_size=batch_size,\n",
    "          validation_data=(X_test, Y_test),\n",
    "          epochs=epochs)"
   ]
  },
  {
   "cell_type": "code",
   "execution_count": 114,
   "metadata": {},
   "outputs": [
    {
     "name": "stdout",
     "output_type": "stream",
     "text": [
      "Pred                LAYING  SITTING  STANDING  WALKING  WALKING_DOWNSTAIRS  \\\n",
      "True                                                                         \n",
      "LAYING                 510        0        27        0                   0   \n",
      "SITTING                  0      397        91        0                   0   \n",
      "STANDING                 0       92       440        0                   0   \n",
      "WALKING                  0        1         1      458                  28   \n",
      "WALKING_DOWNSTAIRS       0        0         0        1                 410   \n",
      "WALKING_UPSTAIRS         1        0         6       16                  10   \n",
      "\n",
      "Pred                WALKING_UPSTAIRS  \n",
      "True                                  \n",
      "LAYING                             0  \n",
      "SITTING                            3  \n",
      "STANDING                           0  \n",
      "WALKING                            8  \n",
      "WALKING_DOWNSTAIRS                 9  \n",
      "WALKING_UPSTAIRS                 438  \n"
     ]
    }
   ],
   "source": [
    "# Confusion Matrix\n",
    "print(confusion_matrix(Y_test, model.predict(X_test)))"
   ]
  },
  {
   "cell_type": "code",
   "execution_count": 115,
   "metadata": {},
   "outputs": [
    {
     "name": "stdout",
     "output_type": "stream",
     "text": [
      "2947/2947 [==============================] - 4s 1ms/step\n"
     ]
    }
   ],
   "source": [
    "score = model.evaluate(X_test, Y_test)"
   ]
  },
  {
   "cell_type": "code",
   "execution_count": 116,
   "metadata": {},
   "outputs": [
    {
     "data": {
      "text/plain": [
       "[0.6456601167650766, 0.900237500667572]"
      ]
     },
     "execution_count": 116,
     "metadata": {},
     "output_type": "execute_result"
    }
   ],
   "source": [
    "score"
   ]
  },
  {
   "cell_type": "markdown",
   "metadata": {},
   "source": [
    "- It's performance is better than 0.7 and 0.6 but loss is considerably high"
   ]
  },
  {
   "cell_type": "markdown",
   "metadata": {},
   "source": [
    "<h3>1.3.4 LSTM Layer (64,32) with 1 layer of dropout 0.7</h3>"
   ]
  },
  {
   "cell_type": "code",
   "execution_count": 117,
   "metadata": {},
   "outputs": [],
   "source": [
    "# update LSTM layers\n",
    "n_hidden_1 = 64\n",
    "n_hidden_2 = 32"
   ]
  },
  {
   "cell_type": "code",
   "execution_count": 118,
   "metadata": {},
   "outputs": [
    {
     "name": "stdout",
     "output_type": "stream",
     "text": [
      "Model: \"sequential_31\"\n",
      "_________________________________________________________________\n",
      "Layer (type)                 Output Shape              Param #   \n",
      "=================================================================\n",
      "lstm_52 (LSTM)               (None, 128, 64)           18944     \n",
      "_________________________________________________________________\n",
      "lstm_53 (LSTM)               (None, 32)                12416     \n",
      "_________________________________________________________________\n",
      "dropout_33 (Dropout)         (None, 32)                0         \n",
      "_________________________________________________________________\n",
      "dense_15 (Dense)             (None, 6)                 198       \n",
      "=================================================================\n",
      "Total params: 31,558\n",
      "Trainable params: 31,558\n",
      "Non-trainable params: 0\n",
      "_________________________________________________________________\n"
     ]
    }
   ],
   "source": [
    "# https://stackoverflow.com/questions/51763983/error-when-checking-target-expected-dense-1-to-have-3-dimensions-but-got-array\n",
    "# https://github.com/keras-team/keras/issues/7403\n",
    "# 1. You need to set return_sequences=True from first LSTM\n",
    "# 2. You need to set return_sequences=True from second LSTM\n",
    "# Initiliazing the sequential model\n",
    "model = Sequential()\n",
    "# Configuring the parameters\n",
    "model.add(LSTM(n_hidden_1, input_shape=(timesteps, input_dim), return_sequences=True))\n",
    "# Adding a dropout layer\n",
    "# model.add(Dropout(0.5))\n",
    "# Configuring the parameters\n",
    "model.add(LSTM(n_hidden_2 , return_sequences=False))\n",
    "# Adding a dropout layer\n",
    "model.add(Dropout(0.7))\n",
    "# Adding a dense output layer with sigmoid activation\n",
    "model.add(Dense(n_classes, activation='sigmoid'))\n",
    "model.summary()"
   ]
  },
  {
   "cell_type": "code",
   "execution_count": 119,
   "metadata": {},
   "outputs": [],
   "source": [
    "# Compiling the model\n",
    "model.compile(loss='categorical_crossentropy',\n",
    "              optimizer='rmsprop',\n",
    "              metrics=['accuracy'])"
   ]
  },
  {
   "cell_type": "code",
   "execution_count": 120,
   "metadata": {},
   "outputs": [
    {
     "name": "stdout",
     "output_type": "stream",
     "text": [
      "Train on 7352 samples, validate on 2947 samples\n",
      "Epoch 1/30\n",
      "7352/7352 [==============================] - 97s 13ms/step - loss: 1.2252 - accuracy: 0.4883 - val_loss: 0.9514 - val_accuracy: 0.5755\n",
      "Epoch 2/30\n",
      "7352/7352 [==============================] - 82s 11ms/step - loss: 0.8989 - accuracy: 0.6023 - val_loss: 0.7508 - val_accuracy: 0.6498\n",
      "Epoch 3/30\n",
      "7352/7352 [==============================] - 81s 11ms/step - loss: 0.7873 - accuracy: 0.6359 - val_loss: 0.7832 - val_accuracy: 0.6159\n",
      "Epoch 4/30\n",
      "7352/7352 [==============================] - 76s 10ms/step - loss: 0.7230 - accuracy: 0.6726 - val_loss: 0.8069 - val_accuracy: 0.5959\n",
      "Epoch 5/30\n",
      "7352/7352 [==============================] - 78s 11ms/step - loss: 0.6513 - accuracy: 0.6876 - val_loss: 0.7456 - val_accuracy: 0.6227\n",
      "Epoch 6/30\n",
      "7352/7352 [==============================] - 80s 11ms/step - loss: 0.5906 - accuracy: 0.7155 - val_loss: 0.6538 - val_accuracy: 0.7469\n",
      "Epoch 7/30\n",
      "7352/7352 [==============================] - 75s 10ms/step - loss: 0.5490 - accuracy: 0.7606 - val_loss: 0.5527 - val_accuracy: 0.7784\n",
      "Epoch 8/30\n",
      "7352/7352 [==============================] - 75s 10ms/step - loss: 0.5179 - accuracy: 0.7835 - val_loss: 0.5049 - val_accuracy: 0.7720\n",
      "Epoch 9/30\n",
      "7352/7352 [==============================] - 76s 10ms/step - loss: 0.4791 - accuracy: 0.8198 - val_loss: 0.5555 - val_accuracy: 0.8599\n",
      "Epoch 10/30\n",
      "7352/7352 [==============================] - 76s 10ms/step - loss: 0.4130 - accuracy: 0.8700 - val_loss: 0.4166 - val_accuracy: 0.8751\n",
      "Epoch 11/30\n",
      "7352/7352 [==============================] - 75s 10ms/step - loss: 0.3465 - accuracy: 0.9037 - val_loss: 0.3210 - val_accuracy: 0.8965\n",
      "Epoch 12/30\n",
      "7352/7352 [==============================] - 77s 11ms/step - loss: 0.2978 - accuracy: 0.9174 - val_loss: 0.3080 - val_accuracy: 0.9067\n",
      "Epoch 13/30\n",
      "7352/7352 [==============================] - 75s 10ms/step - loss: 0.2804 - accuracy: 0.9202 - val_loss: 0.3070 - val_accuracy: 0.9145\n",
      "Epoch 14/30\n",
      "7352/7352 [==============================] - 76s 10ms/step - loss: 0.2638 - accuracy: 0.9248 - val_loss: 0.3665 - val_accuracy: 0.9057\n",
      "Epoch 15/30\n",
      "7352/7352 [==============================] - 77s 10ms/step - loss: 0.2558 - accuracy: 0.9266 - val_loss: 0.3212 - val_accuracy: 0.9125\n",
      "Epoch 16/30\n",
      "7352/7352 [==============================] - 87s 12ms/step - loss: 0.2393 - accuracy: 0.9369 - val_loss: 0.3172 - val_accuracy: 0.9148\n",
      "Epoch 17/30\n",
      "7352/7352 [==============================] - 93s 13ms/step - loss: 0.2349 - accuracy: 0.9370 - val_loss: 0.3730 - val_accuracy: 0.9135\n",
      "Epoch 18/30\n",
      "7352/7352 [==============================] - 89s 12ms/step - loss: 0.2188 - accuracy: 0.9378 - val_loss: 0.3914 - val_accuracy: 0.9030\n",
      "Epoch 19/30\n",
      "7352/7352 [==============================] - 92s 13ms/step - loss: 0.2022 - accuracy: 0.9384 - val_loss: 0.3416 - val_accuracy: 0.9274\n",
      "Epoch 20/30\n",
      "7352/7352 [==============================] - 81s 11ms/step - loss: 0.1937 - accuracy: 0.9403 - val_loss: 0.3226 - val_accuracy: 0.9199\n",
      "Epoch 21/30\n",
      "7352/7352 [==============================] - 80s 11ms/step - loss: 0.2018 - accuracy: 0.9391 - val_loss: 0.3630 - val_accuracy: 0.9135\n",
      "Epoch 22/30\n",
      "7352/7352 [==============================] - 80s 11ms/step - loss: nan - accuracy: 0.5140 - val_loss: nan - val_accuracy: 0.1683\n",
      "Epoch 23/30\n",
      "7352/7352 [==============================] - 86s 12ms/step - loss: nan - accuracy: 0.1668 - val_loss: nan - val_accuracy: 0.1683\n",
      "Epoch 24/30\n",
      "7352/7352 [==============================] - 85s 12ms/step - loss: nan - accuracy: 0.1668 - val_loss: nan - val_accuracy: 0.1683\n",
      "Epoch 25/30\n",
      "7352/7352 [==============================] - 110s 15ms/step - loss: nan - accuracy: 0.1668 - val_loss: nan - val_accuracy: 0.1683\n",
      "Epoch 26/30\n",
      "7352/7352 [==============================] - 90s 12ms/step - loss: nan - accuracy: 0.1668 - val_loss: nan - val_accuracy: 0.1683\n",
      "Epoch 27/30\n",
      "7352/7352 [==============================] - 87s 12ms/step - loss: nan - accuracy: 0.1668 - val_loss: nan - val_accuracy: 0.1683\n",
      "Epoch 28/30\n",
      "7352/7352 [==============================] - 87s 12ms/step - loss: nan - accuracy: 0.1668 - val_loss: nan - val_accuracy: 0.1683\n",
      "Epoch 29/30\n",
      "7352/7352 [==============================] - 120s 16ms/step - loss: nan - accuracy: 0.1668 - val_loss: nan - val_accuracy: 0.1683\n",
      "Epoch 30/30\n",
      "7352/7352 [==============================] - 122s 17ms/step - loss: nan - accuracy: 0.1668 - val_loss: nan - val_accuracy: 0.1683\n"
     ]
    },
    {
     "data": {
      "text/plain": [
       "<keras.callbacks.callbacks.History at 0x640211cc0>"
      ]
     },
     "execution_count": 120,
     "metadata": {},
     "output_type": "execute_result"
    }
   ],
   "source": [
    "# Training the model\n",
    "model.fit(X_train,\n",
    "          Y_train,\n",
    "          batch_size=batch_size,\n",
    "          validation_data=(X_test, Y_test),\n",
    "          epochs=epochs)"
   ]
  },
  {
   "cell_type": "code",
   "execution_count": 121,
   "metadata": {},
   "outputs": [
    {
     "name": "stdout",
     "output_type": "stream",
     "text": [
      "Pred                WALKING\n",
      "True                       \n",
      "LAYING                  537\n",
      "SITTING                 491\n",
      "STANDING                532\n",
      "WALKING                 496\n",
      "WALKING_DOWNSTAIRS      420\n",
      "WALKING_UPSTAIRS        471\n"
     ]
    }
   ],
   "source": [
    "# Confusion Matrix\n",
    "print(confusion_matrix(Y_test, model.predict(X_test)))"
   ]
  },
  {
   "cell_type": "code",
   "execution_count": 122,
   "metadata": {},
   "outputs": [
    {
     "name": "stdout",
     "output_type": "stream",
     "text": [
      "2947/2947 [==============================] - 6s 2ms/step\n"
     ]
    }
   ],
   "source": [
    "score = model.evaluate(X_test, Y_test)"
   ]
  },
  {
   "cell_type": "code",
   "execution_count": 123,
   "metadata": {},
   "outputs": [
    {
     "data": {
      "text/plain": [
       "[nan, 0.16830675303936005]"
      ]
     },
     "execution_count": 123,
     "metadata": {},
     "output_type": "execute_result"
    }
   ],
   "source": [
    "score"
   ]
  },
  {
   "cell_type": "markdown",
   "metadata": {},
   "source": [
    "- It's performance is worst"
   ]
  },
  {
   "cell_type": "markdown",
   "metadata": {},
   "source": [
    "<h3>1.3.5 LSTM Layer (64,32) with 1 layer of dropout 0.6</h3>"
   ]
  },
  {
   "cell_type": "code",
   "execution_count": 124,
   "metadata": {},
   "outputs": [],
   "source": [
    "# update LSTM layers\n",
    "n_hidden_1 = 64\n",
    "n_hidden_2 = 32"
   ]
  },
  {
   "cell_type": "code",
   "execution_count": 125,
   "metadata": {},
   "outputs": [
    {
     "name": "stdout",
     "output_type": "stream",
     "text": [
      "Model: \"sequential_32\"\n",
      "_________________________________________________________________\n",
      "Layer (type)                 Output Shape              Param #   \n",
      "=================================================================\n",
      "lstm_54 (LSTM)               (None, 128, 64)           18944     \n",
      "_________________________________________________________________\n",
      "lstm_55 (LSTM)               (None, 32)                12416     \n",
      "_________________________________________________________________\n",
      "dropout_34 (Dropout)         (None, 32)                0         \n",
      "_________________________________________________________________\n",
      "dense_16 (Dense)             (None, 6)                 198       \n",
      "=================================================================\n",
      "Total params: 31,558\n",
      "Trainable params: 31,558\n",
      "Non-trainable params: 0\n",
      "_________________________________________________________________\n"
     ]
    }
   ],
   "source": [
    "# https://stackoverflow.com/questions/51763983/error-when-checking-target-expected-dense-1-to-have-3-dimensions-but-got-array\n",
    "# https://github.com/keras-team/keras/issues/7403\n",
    "# 1. You need to set return_sequences=True from first LSTM\n",
    "# 2. You need to set return_sequences=True from second LSTM\n",
    "# Initiliazing the sequential model\n",
    "model = Sequential()\n",
    "# Configuring the parameters\n",
    "model.add(LSTM(n_hidden_1, input_shape=(timesteps, input_dim), return_sequences=True))\n",
    "# Adding a dropout layer\n",
    "# model.add(Dropout(0.5))\n",
    "# Configuring the parameters\n",
    "model.add(LSTM(n_hidden_2 , return_sequences=False))\n",
    "# Adding a dropout layer\n",
    "model.add(Dropout(0.6))\n",
    "# Adding a dense output layer with sigmoid activation\n",
    "model.add(Dense(n_classes, activation='sigmoid'))\n",
    "model.summary()"
   ]
  },
  {
   "cell_type": "code",
   "execution_count": 126,
   "metadata": {},
   "outputs": [],
   "source": [
    "# Compiling the model\n",
    "model.compile(loss='categorical_crossentropy',\n",
    "              optimizer='rmsprop',\n",
    "              metrics=['accuracy'])"
   ]
  },
  {
   "cell_type": "code",
   "execution_count": 127,
   "metadata": {},
   "outputs": [
    {
     "name": "stdout",
     "output_type": "stream",
     "text": [
      "Train on 7352 samples, validate on 2947 samples\n",
      "Epoch 1/30\n",
      "7352/7352 [==============================] - 118s 16ms/step - loss: 1.2553 - accuracy: 0.4732 - val_loss: 0.9856 - val_accuracy: 0.6434\n",
      "Epoch 2/30\n",
      "7352/7352 [==============================] - 108s 15ms/step - loss: 0.9545 - accuracy: 0.6049 - val_loss: 0.8514 - val_accuracy: 0.6244\n",
      "Epoch 3/30\n",
      "7352/7352 [==============================] - 136s 18ms/step - loss: 0.7894 - accuracy: 0.6738 - val_loss: 0.6679 - val_accuracy: 0.7408\n",
      "Epoch 4/30\n",
      "7352/7352 [==============================] - 119s 16ms/step - loss: 0.6387 - accuracy: 0.7881 - val_loss: 0.5631 - val_accuracy: 0.7842\n",
      "Epoch 5/30\n",
      "7352/7352 [==============================] - 93s 13ms/step - loss: 0.4644 - accuracy: 0.8754 - val_loss: 0.4742 - val_accuracy: 0.8548\n",
      "Epoch 6/30\n",
      "7352/7352 [==============================] - 80s 11ms/step - loss: 0.3441 - accuracy: 0.9072 - val_loss: 0.3645 - val_accuracy: 0.8972\n",
      "Epoch 7/30\n",
      "7352/7352 [==============================] - 76s 10ms/step - loss: 0.3192 - accuracy: 0.9155 - val_loss: 0.4117 - val_accuracy: 0.8904\n",
      "Epoch 8/30\n",
      "7352/7352 [==============================] - 76s 10ms/step - loss: 0.3052 - accuracy: 0.9158 - val_loss: 0.4517 - val_accuracy: 0.8768\n",
      "Epoch 9/30\n",
      "7352/7352 [==============================] - 75s 10ms/step - loss: 0.2712 - accuracy: 0.9221 - val_loss: 0.3708 - val_accuracy: 0.9002\n",
      "Epoch 10/30\n",
      "7352/7352 [==============================] - 77s 10ms/step - loss: 0.2295 - accuracy: 0.9372 - val_loss: 0.3945 - val_accuracy: 0.9108\n",
      "Epoch 11/30\n",
      "7352/7352 [==============================] - 77s 11ms/step - loss: 0.2267 - accuracy: 0.9385 - val_loss: 0.5272 - val_accuracy: 0.8935\n",
      "Epoch 12/30\n",
      "7352/7352 [==============================] - 75s 10ms/step - loss: 0.2112 - accuracy: 0.9363 - val_loss: 0.4001 - val_accuracy: 0.9060\n",
      "Epoch 13/30\n",
      "7352/7352 [==============================] - 75s 10ms/step - loss: 0.2116 - accuracy: 0.9414 - val_loss: 0.4747 - val_accuracy: 0.9023\n",
      "Epoch 14/30\n",
      "7352/7352 [==============================] - 82s 11ms/step - loss: 0.2028 - accuracy: 0.9385 - val_loss: 0.4646 - val_accuracy: 0.9070\n",
      "Epoch 15/30\n",
      "7352/7352 [==============================] - 76s 10ms/step - loss: 0.1896 - accuracy: 0.9414 - val_loss: 0.4164 - val_accuracy: 0.9033\n",
      "Epoch 16/30\n",
      "7352/7352 [==============================] - 75s 10ms/step - loss: 0.1874 - accuracy: 0.9423 - val_loss: 0.2969 - val_accuracy: 0.9179\n",
      "Epoch 17/30\n",
      "7352/7352 [==============================] - 81s 11ms/step - loss: 0.1810 - accuracy: 0.9399 - val_loss: 0.2758 - val_accuracy: 0.9182\n",
      "Epoch 18/30\n",
      "7352/7352 [==============================] - 75s 10ms/step - loss: 0.1782 - accuracy: 0.9425 - val_loss: 0.5199 - val_accuracy: 0.8941\n",
      "Epoch 19/30\n",
      "7352/7352 [==============================] - 75s 10ms/step - loss: 0.1690 - accuracy: 0.9476 - val_loss: 0.3118 - val_accuracy: 0.9213\n",
      "Epoch 20/30\n",
      "7352/7352 [==============================] - 76s 10ms/step - loss: 0.1558 - accuracy: 0.9433 - val_loss: 0.4242 - val_accuracy: 0.9155\n",
      "Epoch 21/30\n",
      "7352/7352 [==============================] - 76s 10ms/step - loss: 0.1561 - accuracy: 0.9505 - val_loss: 0.4087 - val_accuracy: 0.9026\n",
      "Epoch 22/30\n",
      "7352/7352 [==============================] - 75s 10ms/step - loss: 0.1585 - accuracy: 0.9467 - val_loss: 0.4679 - val_accuracy: 0.9019\n",
      "Epoch 23/30\n",
      "7352/7352 [==============================] - 78s 11ms/step - loss: 0.1696 - accuracy: 0.9452 - val_loss: 0.4305 - val_accuracy: 0.8999\n",
      "Epoch 24/30\n",
      "7352/7352 [==============================] - 75s 10ms/step - loss: 0.1605 - accuracy: 0.9479 - val_loss: 0.4813 - val_accuracy: 0.9019\n",
      "Epoch 25/30\n",
      "7352/7352 [==============================] - 75s 10ms/step - loss: 0.1505 - accuracy: 0.9480 - val_loss: 0.5688 - val_accuracy: 0.9016\n",
      "Epoch 26/30\n",
      "7352/7352 [==============================] - 77s 11ms/step - loss: 0.1430 - accuracy: 0.9498 - val_loss: 0.5675 - val_accuracy: 0.8951\n",
      "Epoch 27/30\n",
      "7352/7352 [==============================] - 76s 10ms/step - loss: 0.1477 - accuracy: 0.9498 - val_loss: 0.6166 - val_accuracy: 0.8989\n",
      "Epoch 28/30\n",
      "7352/7352 [==============================] - 76s 10ms/step - loss: 0.1605 - accuracy: 0.9445 - val_loss: 0.3368 - val_accuracy: 0.9169\n",
      "Epoch 29/30\n",
      "7352/7352 [==============================] - 75s 10ms/step - loss: 0.1704 - accuracy: 0.9456 - val_loss: 0.3571 - val_accuracy: 0.9175\n",
      "Epoch 30/30\n",
      "7352/7352 [==============================] - 75s 10ms/step - loss: 0.1643 - accuracy: 0.9449 - val_loss: 0.5376 - val_accuracy: 0.9053\n"
     ]
    },
    {
     "data": {
      "text/plain": [
       "<keras.callbacks.callbacks.History at 0x63edc1a58>"
      ]
     },
     "execution_count": 127,
     "metadata": {},
     "output_type": "execute_result"
    }
   ],
   "source": [
    "# Training the model\n",
    "model.fit(X_train,\n",
    "          Y_train,\n",
    "          batch_size=batch_size,\n",
    "          validation_data=(X_test, Y_test),\n",
    "          epochs=epochs)"
   ]
  },
  {
   "cell_type": "code",
   "execution_count": 128,
   "metadata": {},
   "outputs": [
    {
     "name": "stdout",
     "output_type": "stream",
     "text": [
      "Pred                LAYING  SITTING  STANDING  WALKING  WALKING_DOWNSTAIRS  \\\n",
      "True                                                                         \n",
      "LAYING                 512        0        25        0                   0   \n",
      "SITTING                  2      400        87        0                   0   \n",
      "STANDING                 0       95       436        1                   0   \n",
      "WALKING                  0        0         0      450                   3   \n",
      "WALKING_DOWNSTAIRS       0        0         0        2                 414   \n",
      "WALKING_UPSTAIRS         1        0         0       11                   3   \n",
      "\n",
      "Pred                WALKING_UPSTAIRS  \n",
      "True                                  \n",
      "LAYING                             0  \n",
      "SITTING                            2  \n",
      "STANDING                           0  \n",
      "WALKING                           43  \n",
      "WALKING_DOWNSTAIRS                 4  \n",
      "WALKING_UPSTAIRS                 456  \n"
     ]
    }
   ],
   "source": [
    "# Confusion Matrix\n",
    "print(confusion_matrix(Y_test, model.predict(X_test)))"
   ]
  },
  {
   "cell_type": "code",
   "execution_count": 129,
   "metadata": {},
   "outputs": [
    {
     "name": "stdout",
     "output_type": "stream",
     "text": [
      "2947/2947 [==============================] - 4s 1ms/step\n"
     ]
    }
   ],
   "source": [
    "score = model.evaluate(X_test, Y_test)"
   ]
  },
  {
   "cell_type": "code",
   "execution_count": 130,
   "metadata": {},
   "outputs": [
    {
     "data": {
      "text/plain": [
       "[0.5375813010956876, 0.9053274393081665]"
      ]
     },
     "execution_count": 130,
     "metadata": {},
     "output_type": "execute_result"
    }
   ],
   "source": [
    "score"
   ]
  },
  {
   "cell_type": "markdown",
   "metadata": {},
   "source": [
    "- It's performance is better but loss is higher"
   ]
  },
  {
   "cell_type": "markdown",
   "metadata": {},
   "source": [
    "<h3>1.3.6 LSTM Layer (64,32) with 1 layer of dropout 0.5</h3>"
   ]
  },
  {
   "cell_type": "code",
   "execution_count": 131,
   "metadata": {},
   "outputs": [],
   "source": [
    "# update LSTM layers\n",
    "n_hidden_1 = 64\n",
    "n_hidden_2 = 32"
   ]
  },
  {
   "cell_type": "code",
   "execution_count": 132,
   "metadata": {},
   "outputs": [
    {
     "name": "stdout",
     "output_type": "stream",
     "text": [
      "Model: \"sequential_33\"\n",
      "_________________________________________________________________\n",
      "Layer (type)                 Output Shape              Param #   \n",
      "=================================================================\n",
      "lstm_56 (LSTM)               (None, 128, 64)           18944     \n",
      "_________________________________________________________________\n",
      "lstm_57 (LSTM)               (None, 32)                12416     \n",
      "_________________________________________________________________\n",
      "dropout_35 (Dropout)         (None, 32)                0         \n",
      "_________________________________________________________________\n",
      "dense_17 (Dense)             (None, 6)                 198       \n",
      "=================================================================\n",
      "Total params: 31,558\n",
      "Trainable params: 31,558\n",
      "Non-trainable params: 0\n",
      "_________________________________________________________________\n"
     ]
    }
   ],
   "source": [
    "# https://stackoverflow.com/questions/51763983/error-when-checking-target-expected-dense-1-to-have-3-dimensions-but-got-array\n",
    "# https://github.com/keras-team/keras/issues/7403\n",
    "# 1. You need to set return_sequences=True from first LSTM\n",
    "# 2. You need to set return_sequences=True from second LSTM\n",
    "# Initiliazing the sequential model\n",
    "model = Sequential()\n",
    "# Configuring the parameters\n",
    "model.add(LSTM(n_hidden_1, input_shape=(timesteps, input_dim), return_sequences=True))\n",
    "# Adding a dropout layer\n",
    "# model.add(Dropout(0.5))\n",
    "# Configuring the parameters\n",
    "model.add(LSTM(n_hidden_2 , return_sequences=False))\n",
    "# Adding a dropout layer\n",
    "model.add(Dropout(0.5))\n",
    "# Adding a dense output layer with sigmoid activation\n",
    "model.add(Dense(n_classes, activation='sigmoid'))\n",
    "model.summary()"
   ]
  },
  {
   "cell_type": "code",
   "execution_count": 133,
   "metadata": {},
   "outputs": [],
   "source": [
    "# Compiling the model\n",
    "model.compile(loss='categorical_crossentropy',\n",
    "              optimizer='rmsprop',\n",
    "              metrics=['accuracy'])"
   ]
  },
  {
   "cell_type": "code",
   "execution_count": 134,
   "metadata": {},
   "outputs": [
    {
     "name": "stdout",
     "output_type": "stream",
     "text": [
      "Train on 7352 samples, validate on 2947 samples\n",
      "Epoch 1/30\n",
      "7352/7352 [==============================] - 80s 11ms/step - loss: 1.1323 - accuracy: 0.5397 - val_loss: 0.8477 - val_accuracy: 0.6787\n",
      "Epoch 2/30\n",
      "7352/7352 [==============================] - 75s 10ms/step - loss: 0.7404 - accuracy: 0.7203 - val_loss: 0.5979 - val_accuracy: 0.7699\n",
      "Epoch 3/30\n",
      "7352/7352 [==============================] - 74s 10ms/step - loss: 0.5092 - accuracy: 0.8400 - val_loss: 1.2509 - val_accuracy: 0.6763\n",
      "Epoch 4/30\n",
      "7352/7352 [==============================] - 75s 10ms/step - loss: 0.3954 - accuracy: 0.8917 - val_loss: 0.4537 - val_accuracy: 0.8300\n",
      "Epoch 5/30\n",
      "7352/7352 [==============================] - 75s 10ms/step - loss: 0.2696 - accuracy: 0.9217 - val_loss: 0.3626 - val_accuracy: 0.8887\n",
      "Epoch 6/30\n",
      "7352/7352 [==============================] - 75s 10ms/step - loss: 0.2443 - accuracy: 0.9300 - val_loss: 0.3439 - val_accuracy: 0.8975\n",
      "Epoch 7/30\n",
      "7352/7352 [==============================] - 76s 10ms/step - loss: 0.2122 - accuracy: 0.9350 - val_loss: 0.4547 - val_accuracy: 0.8996\n",
      "Epoch 8/30\n",
      "7352/7352 [==============================] - 76s 10ms/step - loss: 0.2518 - accuracy: 0.9225 - val_loss: 0.3921 - val_accuracy: 0.8982\n",
      "Epoch 9/30\n",
      "7352/7352 [==============================] - 78s 11ms/step - loss: 0.1827 - accuracy: 0.9440 - val_loss: 0.3997 - val_accuracy: 0.9019\n",
      "Epoch 10/30\n",
      "7352/7352 [==============================] - 75s 10ms/step - loss: 0.1704 - accuracy: 0.9460 - val_loss: 0.4512 - val_accuracy: 0.8782\n",
      "Epoch 11/30\n",
      "7352/7352 [==============================] - 73s 10ms/step - loss: 0.1747 - accuracy: 0.9406 - val_loss: 0.3169 - val_accuracy: 0.9080\n",
      "Epoch 12/30\n",
      "7352/7352 [==============================] - 75s 10ms/step - loss: 0.1636 - accuracy: 0.9459 - val_loss: 0.2829 - val_accuracy: 0.9162\n",
      "Epoch 13/30\n",
      "7352/7352 [==============================] - 77s 10ms/step - loss: 0.1427 - accuracy: 0.9514 - val_loss: 0.3661 - val_accuracy: 0.9013\n",
      "Epoch 14/30\n",
      "7352/7352 [==============================] - 74s 10ms/step - loss: 0.1546 - accuracy: 0.9475 - val_loss: 0.3250 - val_accuracy: 0.9128\n",
      "Epoch 15/30\n",
      "7352/7352 [==============================] - 75s 10ms/step - loss: 0.1498 - accuracy: 0.9518 - val_loss: 0.4040 - val_accuracy: 0.9046\n",
      "Epoch 16/30\n",
      "7352/7352 [==============================] - 75s 10ms/step - loss: 0.1360 - accuracy: 0.9525 - val_loss: 0.3080 - val_accuracy: 0.9087\n",
      "Epoch 17/30\n",
      "7352/7352 [==============================] - 76s 10ms/step - loss: 0.1641 - accuracy: 0.9431 - val_loss: 0.3339 - val_accuracy: 0.9189\n",
      "Epoch 18/30\n",
      "7352/7352 [==============================] - 76s 10ms/step - loss: 0.1443 - accuracy: 0.9497 - val_loss: 0.3439 - val_accuracy: 0.9084\n",
      "Epoch 19/30\n",
      "7352/7352 [==============================] - 76s 10ms/step - loss: 0.1435 - accuracy: 0.9494 - val_loss: 0.2949 - val_accuracy: 0.9104\n",
      "Epoch 20/30\n",
      "7352/7352 [==============================] - 77s 10ms/step - loss: 0.1318 - accuracy: 0.9543 - val_loss: 0.4108 - val_accuracy: 0.9074\n",
      "Epoch 21/30\n",
      "7352/7352 [==============================] - 74s 10ms/step - loss: 0.1448 - accuracy: 0.9509 - val_loss: 0.3502 - val_accuracy: 0.9135\n",
      "Epoch 22/30\n",
      "7352/7352 [==============================] - 73s 10ms/step - loss: 0.1454 - accuracy: 0.9495 - val_loss: 0.3810 - val_accuracy: 0.9101\n",
      "Epoch 23/30\n",
      "7352/7352 [==============================] - 77s 10ms/step - loss: 0.1220 - accuracy: 0.9547 - val_loss: 0.4707 - val_accuracy: 0.9040\n",
      "Epoch 24/30\n",
      "7352/7352 [==============================] - 78s 11ms/step - loss: 0.1434 - accuracy: 0.9487 - val_loss: 0.4171 - val_accuracy: 0.9087\n",
      "Epoch 25/30\n",
      "7352/7352 [==============================] - 75s 10ms/step - loss: 0.1398 - accuracy: 0.9506 - val_loss: 0.3381 - val_accuracy: 0.9179\n",
      "Epoch 26/30\n",
      "7352/7352 [==============================] - 74s 10ms/step - loss: 0.1377 - accuracy: 0.9504 - val_loss: 0.3495 - val_accuracy: 0.9114\n",
      "Epoch 27/30\n",
      "7352/7352 [==============================] - 75s 10ms/step - loss: 0.1352 - accuracy: 0.9512 - val_loss: 0.3892 - val_accuracy: 0.9175\n",
      "Epoch 28/30\n",
      "7352/7352 [==============================] - 76s 10ms/step - loss: 0.1536 - accuracy: 0.9480 - val_loss: 0.5848 - val_accuracy: 0.8985\n",
      "Epoch 29/30\n",
      "7352/7352 [==============================] - 77s 11ms/step - loss: 0.1492 - accuracy: 0.9535 - val_loss: 0.4154 - val_accuracy: 0.9135\n",
      "Epoch 30/30\n",
      "7352/7352 [==============================] - 75s 10ms/step - loss: 0.1280 - accuracy: 0.9525 - val_loss: 0.3805 - val_accuracy: 0.9141\n"
     ]
    },
    {
     "data": {
      "text/plain": [
       "<keras.callbacks.callbacks.History at 0x64262e940>"
      ]
     },
     "execution_count": 134,
     "metadata": {},
     "output_type": "execute_result"
    }
   ],
   "source": [
    "# Training the model\n",
    "model.fit(X_train,\n",
    "          Y_train,\n",
    "          batch_size=batch_size,\n",
    "          validation_data=(X_test, Y_test),\n",
    "          epochs=epochs)"
   ]
  },
  {
   "cell_type": "code",
   "execution_count": 135,
   "metadata": {},
   "outputs": [
    {
     "name": "stdout",
     "output_type": "stream",
     "text": [
      "Pred                LAYING  SITTING  STANDING  WALKING  WALKING_DOWNSTAIRS  \\\n",
      "True                                                                         \n",
      "LAYING                 510        0        25        0                   0   \n",
      "SITTING                  3      416        68        0                   2   \n",
      "STANDING                 0       96       434        1                   0   \n",
      "WALKING                  0        0         2      473                  20   \n",
      "WALKING_DOWNSTAIRS       0        0         0        4                 413   \n",
      "WALKING_UPSTAIRS         0        1         6       16                   0   \n",
      "\n",
      "Pred                WALKING_UPSTAIRS  \n",
      "True                                  \n",
      "LAYING                             2  \n",
      "SITTING                            2  \n",
      "STANDING                           1  \n",
      "WALKING                            1  \n",
      "WALKING_DOWNSTAIRS                 3  \n",
      "WALKING_UPSTAIRS                 448  \n"
     ]
    }
   ],
   "source": [
    "# Confusion Matrix\n",
    "print(confusion_matrix(Y_test, model.predict(X_test)))"
   ]
  },
  {
   "cell_type": "code",
   "execution_count": 136,
   "metadata": {},
   "outputs": [
    {
     "name": "stdout",
     "output_type": "stream",
     "text": [
      "2947/2947 [==============================] - 4s 1ms/step\n"
     ]
    }
   ],
   "source": [
    "score = model.evaluate(X_test, Y_test)"
   ]
  },
  {
   "cell_type": "code",
   "execution_count": 137,
   "metadata": {},
   "outputs": [
    {
     "data": {
      "text/plain": [
       "[0.3804781971405892, 0.9141499996185303]"
      ]
     },
     "execution_count": 137,
     "metadata": {},
     "output_type": "execute_result"
    }
   ],
   "source": [
    "score"
   ]
  },
  {
   "cell_type": "markdown",
   "metadata": {},
   "source": [
    "- It's perform much better compared to 0.6 and 0.7"
   ]
  },
  {
   "cell_type": "markdown",
   "metadata": {},
   "source": [
    "<h3>1.3.7 LSTM Layer (64,16) with dropout 0.5</h3>"
   ]
  },
  {
   "cell_type": "code",
   "execution_count": 141,
   "metadata": {},
   "outputs": [],
   "source": [
    "# update LSTM layers\n",
    "n_hidden_1 = 64\n",
    "n_hidden_2 = 16"
   ]
  },
  {
   "cell_type": "markdown",
   "metadata": {},
   "source": [
    "- Initialize the LSTM Architecture"
   ]
  },
  {
   "cell_type": "code",
   "execution_count": 142,
   "metadata": {},
   "outputs": [
    {
     "name": "stdout",
     "output_type": "stream",
     "text": [
      "Model: \"sequential_35\"\n",
      "_________________________________________________________________\n",
      "Layer (type)                 Output Shape              Param #   \n",
      "=================================================================\n",
      "lstm_60 (LSTM)               (None, 128, 64)           18944     \n",
      "_________________________________________________________________\n",
      "lstm_61 (LSTM)               (None, 16)                5184      \n",
      "_________________________________________________________________\n",
      "dropout_37 (Dropout)         (None, 16)                0         \n",
      "_________________________________________________________________\n",
      "dense_19 (Dense)             (None, 6)                 102       \n",
      "=================================================================\n",
      "Total params: 24,230\n",
      "Trainable params: 24,230\n",
      "Non-trainable params: 0\n",
      "_________________________________________________________________\n"
     ]
    }
   ],
   "source": [
    "# https://stackoverflow.com/questions/51763983/error-when-checking-target-expected-dense-1-to-have-3-dimensions-but-got-array\n",
    "# https://github.com/keras-team/keras/issues/7403\n",
    "# 1. You need to set return_sequences=True from first LSTM\n",
    "# 2. You need to set return_sequences=True from second LSTM\n",
    "# Initiliazing the sequential model\n",
    "model = Sequential()\n",
    "# Configuring the parameters\n",
    "model.add(LSTM(n_hidden_1, input_shape=(timesteps, input_dim), return_sequences=True))\n",
    "# Adding a dropout layer\n",
    "# model.add(Dropout(0.6))\n",
    "# Configuring the parameters\n",
    "model.add(LSTM(n_hidden_2 , return_sequences=False))\n",
    "# Adding a dropout layer\n",
    "model.add(Dropout(0.5))\n",
    "# Adding a dense output layer with sigmoid activation\n",
    "model.add(Dense(n_classes, activation='sigmoid'))\n",
    "model.summary()"
   ]
  },
  {
   "cell_type": "code",
   "execution_count": 143,
   "metadata": {},
   "outputs": [],
   "source": [
    "# Compiling the model\n",
    "model.compile(loss='categorical_crossentropy',\n",
    "              optimizer='rmsprop',\n",
    "              metrics=['accuracy'])"
   ]
  },
  {
   "cell_type": "code",
   "execution_count": 144,
   "metadata": {},
   "outputs": [
    {
     "name": "stdout",
     "output_type": "stream",
     "text": [
      "Train on 7352 samples, validate on 2947 samples\n",
      "Epoch 1/30\n",
      "7352/7352 [==============================] - 87s 12ms/step - loss: 1.2980 - accuracy: 0.5016 - val_loss: 1.0061 - val_accuracy: 0.5796\n",
      "Epoch 2/30\n",
      "7352/7352 [==============================] - 75s 10ms/step - loss: 0.9582 - accuracy: 0.6060 - val_loss: 0.8328 - val_accuracy: 0.6495\n",
      "Epoch 3/30\n",
      "7352/7352 [==============================] - 80s 11ms/step - loss: 0.8071 - accuracy: 0.7008 - val_loss: 0.6999 - val_accuracy: 0.7710\n",
      "Epoch 4/30\n",
      "7352/7352 [==============================] - 79s 11ms/step - loss: 0.6449 - accuracy: 0.7953 - val_loss: 0.5793 - val_accuracy: 0.8297\n",
      "Epoch 5/30\n",
      "7352/7352 [==============================] - 82s 11ms/step - loss: 0.5014 - accuracy: 0.8687 - val_loss: 0.5518 - val_accuracy: 0.8422\n",
      "Epoch 6/30\n",
      "7352/7352 [==============================] - 82s 11ms/step - loss: 0.4958 - accuracy: 0.8734 - val_loss: 0.3736 - val_accuracy: 0.8860\n",
      "Epoch 7/30\n",
      "7352/7352 [==============================] - 81s 11ms/step - loss: 0.3628 - accuracy: 0.9060 - val_loss: 0.4399 - val_accuracy: 0.8860\n",
      "Epoch 8/30\n",
      "7352/7352 [==============================] - 82s 11ms/step - loss: 0.3272 - accuracy: 0.9119 - val_loss: 0.3274 - val_accuracy: 0.9030\n",
      "Epoch 9/30\n",
      "7352/7352 [==============================] - 79s 11ms/step - loss: 0.2879 - accuracy: 0.9218 - val_loss: 0.3329 - val_accuracy: 0.9009\n",
      "Epoch 10/30\n",
      "7352/7352 [==============================] - 80s 11ms/step - loss: 0.2658 - accuracy: 0.9252 - val_loss: 0.6884 - val_accuracy: 0.8347\n",
      "Epoch 11/30\n",
      "7352/7352 [==============================] - 77s 10ms/step - loss: 0.2757 - accuracy: 0.9193 - val_loss: 0.4459 - val_accuracy: 0.8955\n",
      "Epoch 12/30\n",
      "7352/7352 [==============================] - 88s 12ms/step - loss: 0.2671 - accuracy: 0.9245 - val_loss: 0.3746 - val_accuracy: 0.9070\n",
      "Epoch 13/30\n",
      "7352/7352 [==============================] - 92s 12ms/step - loss: 0.2660 - accuracy: 0.9229 - val_loss: 0.3872 - val_accuracy: 0.9036\n",
      "Epoch 14/30\n",
      "7352/7352 [==============================] - 91s 12ms/step - loss: 0.2746 - accuracy: 0.9197 - val_loss: 0.3580 - val_accuracy: 0.9091\n",
      "Epoch 15/30\n",
      "7352/7352 [==============================] - 89s 12ms/step - loss: 0.2464 - accuracy: 0.9225 - val_loss: 0.4930 - val_accuracy: 0.8975\n",
      "Epoch 16/30\n",
      "7352/7352 [==============================] - 89s 12ms/step - loss: 0.2147 - accuracy: 0.9320 - val_loss: 0.4268 - val_accuracy: 0.9063\n",
      "Epoch 17/30\n",
      "7352/7352 [==============================] - 84s 11ms/step - loss: 0.2211 - accuracy: 0.9260 - val_loss: 0.4903 - val_accuracy: 0.8999\n",
      "Epoch 18/30\n",
      "7352/7352 [==============================] - 93s 13ms/step - loss: 0.2274 - accuracy: 0.9261 - val_loss: 0.4916 - val_accuracy: 0.9063\n",
      "Epoch 19/30\n",
      "7352/7352 [==============================] - 85s 12ms/step - loss: 0.2101 - accuracy: 0.9335 - val_loss: 0.5254 - val_accuracy: 0.9013\n",
      "Epoch 20/30\n",
      "7352/7352 [==============================] - 78s 11ms/step - loss: 0.2397 - accuracy: 0.9218 - val_loss: 0.4428 - val_accuracy: 0.9186\n",
      "Epoch 21/30\n",
      "7352/7352 [==============================] - 81s 11ms/step - loss: 0.2112 - accuracy: 0.9241 - val_loss: 0.4918 - val_accuracy: 0.9023\n",
      "Epoch 22/30\n",
      "7352/7352 [==============================] - 86s 12ms/step - loss: 0.2058 - accuracy: 0.9283 - val_loss: 0.4324 - val_accuracy: 0.9175\n",
      "Epoch 23/30\n",
      "7352/7352 [==============================] - 89s 12ms/step - loss: 0.2068 - accuracy: 0.9316 - val_loss: 0.5082 - val_accuracy: 0.8951\n",
      "Epoch 24/30\n",
      "7352/7352 [==============================] - 89s 12ms/step - loss: 0.2010 - accuracy: 0.9325 - val_loss: 0.4982 - val_accuracy: 0.9026\n",
      "Epoch 25/30\n",
      "7352/7352 [==============================] - 92s 13ms/step - loss: 0.2106 - accuracy: 0.9316 - val_loss: 0.6370 - val_accuracy: 0.8921\n",
      "Epoch 26/30\n",
      "7352/7352 [==============================] - 83s 11ms/step - loss: 0.2256 - accuracy: 0.9276 - val_loss: 0.5423 - val_accuracy: 0.9023\n",
      "Epoch 27/30\n",
      "7352/7352 [==============================] - 84s 11ms/step - loss: 0.2045 - accuracy: 0.9340 - val_loss: 0.5803 - val_accuracy: 0.9141\n",
      "Epoch 28/30\n",
      "7352/7352 [==============================] - 85s 12ms/step - loss: 0.2197 - accuracy: 0.9323 - val_loss: 0.5890 - val_accuracy: 0.9050\n",
      "Epoch 29/30\n",
      "7352/7352 [==============================] - 95s 13ms/step - loss: 0.1964 - accuracy: 0.9357 - val_loss: 0.5434 - val_accuracy: 0.9091\n",
      "Epoch 30/30\n",
      "7352/7352 [==============================] - 93s 13ms/step - loss: 0.1971 - accuracy: 0.9308 - val_loss: 0.5415 - val_accuracy: 0.9057\n"
     ]
    },
    {
     "data": {
      "text/plain": [
       "<keras.callbacks.callbacks.History at 0x644516ef0>"
      ]
     },
     "execution_count": 144,
     "metadata": {},
     "output_type": "execute_result"
    }
   ],
   "source": [
    "# Training the model\n",
    "model.fit(X_train,\n",
    "          Y_train,\n",
    "          batch_size=batch_size,\n",
    "          validation_data=(X_test, Y_test),\n",
    "          epochs=epochs)"
   ]
  },
  {
   "cell_type": "code",
   "execution_count": 145,
   "metadata": {},
   "outputs": [
    {
     "name": "stdout",
     "output_type": "stream",
     "text": [
      "Pred                LAYING  SITTING  STANDING  WALKING  WALKING_DOWNSTAIRS  \\\n",
      "True                                                                         \n",
      "LAYING                 510        0         3        0                   0   \n",
      "SITTING                  5      425        57        2                   0   \n",
      "STANDING                 0      101       430        0                   0   \n",
      "WALKING                  0        0         0      444                  34   \n",
      "WALKING_DOWNSTAIRS       0        0         0        5                 401   \n",
      "WALKING_UPSTAIRS         0        0         0        0                  12   \n",
      "\n",
      "Pred                WALKING_UPSTAIRS  \n",
      "True                                  \n",
      "LAYING                            24  \n",
      "SITTING                            2  \n",
      "STANDING                           1  \n",
      "WALKING                           18  \n",
      "WALKING_DOWNSTAIRS                14  \n",
      "WALKING_UPSTAIRS                 459  \n"
     ]
    }
   ],
   "source": [
    "# Confusion Matrix\n",
    "print(confusion_matrix(Y_test, model.predict(X_test)))"
   ]
  },
  {
   "cell_type": "code",
   "execution_count": 146,
   "metadata": {},
   "outputs": [
    {
     "name": "stdout",
     "output_type": "stream",
     "text": [
      "2947/2947 [==============================] - 4s 1ms/step\n"
     ]
    }
   ],
   "source": [
    "score = model.evaluate(X_test, Y_test)"
   ]
  },
  {
   "cell_type": "code",
   "execution_count": 147,
   "metadata": {},
   "outputs": [
    {
     "data": {
      "text/plain": [
       "[0.5414807511955393, 0.9056667685508728]"
      ]
     },
     "execution_count": 147,
     "metadata": {},
     "output_type": "execute_result"
    }
   ],
   "source": [
    "score"
   ]
  },
  {
   "cell_type": "markdown",
   "metadata": {},
   "source": [
    "- It's performance is good but loss is high"
   ]
  },
  {
   "cell_type": "markdown",
   "metadata": {},
   "source": [
    "<h3>1.3.8 LSTM Layer (32,16) with dropout 0.5</h3>"
   ]
  },
  {
   "cell_type": "code",
   "execution_count": 148,
   "metadata": {},
   "outputs": [],
   "source": [
    "# update LSTM layers\n",
    "n_hidden_1 = 32\n",
    "n_hidden_2 = 16"
   ]
  },
  {
   "cell_type": "markdown",
   "metadata": {},
   "source": [
    "- Initialize the LSTM Architecture"
   ]
  },
  {
   "cell_type": "code",
   "execution_count": 149,
   "metadata": {},
   "outputs": [
    {
     "name": "stdout",
     "output_type": "stream",
     "text": [
      "Model: \"sequential_36\"\n",
      "_________________________________________________________________\n",
      "Layer (type)                 Output Shape              Param #   \n",
      "=================================================================\n",
      "lstm_62 (LSTM)               (None, 128, 32)           5376      \n",
      "_________________________________________________________________\n",
      "lstm_63 (LSTM)               (None, 16)                3136      \n",
      "_________________________________________________________________\n",
      "dropout_38 (Dropout)         (None, 16)                0         \n",
      "_________________________________________________________________\n",
      "dense_20 (Dense)             (None, 6)                 102       \n",
      "=================================================================\n",
      "Total params: 8,614\n",
      "Trainable params: 8,614\n",
      "Non-trainable params: 0\n",
      "_________________________________________________________________\n"
     ]
    }
   ],
   "source": [
    "# https://stackoverflow.com/questions/51763983/error-when-checking-target-expected-dense-1-to-have-3-dimensions-but-got-array\n",
    "# https://github.com/keras-team/keras/issues/7403\n",
    "# 1. You need to set return_sequences=True from first LSTM\n",
    "# 2. You need to set return_sequences=True from second LSTM\n",
    "# Initiliazing the sequential model\n",
    "model = Sequential()\n",
    "# Configuring the parameters\n",
    "model.add(LSTM(n_hidden_1, input_shape=(timesteps, input_dim), return_sequences=True))\n",
    "# Adding a dropout layer\n",
    "# model.add(Dropout(0.6))\n",
    "# Configuring the parameters\n",
    "model.add(LSTM(n_hidden_2 , return_sequences=False))\n",
    "# Adding a dropout layer\n",
    "model.add(Dropout(0.5))\n",
    "# Adding a dense output layer with sigmoid activation\n",
    "model.add(Dense(n_classes, activation='sigmoid'))\n",
    "model.summary()"
   ]
  },
  {
   "cell_type": "code",
   "execution_count": 150,
   "metadata": {},
   "outputs": [],
   "source": [
    "# Compiling the model\n",
    "model.compile(loss='categorical_crossentropy',\n",
    "              optimizer='rmsprop',\n",
    "              metrics=['accuracy'])"
   ]
  },
  {
   "cell_type": "code",
   "execution_count": 151,
   "metadata": {},
   "outputs": [
    {
     "name": "stdout",
     "output_type": "stream",
     "text": [
      "Train on 7352 samples, validate on 2947 samples\n",
      "Epoch 1/30\n",
      "7352/7352 [==============================] - 108s 15ms/step - loss: 1.3059 - accuracy: 0.4993 - val_loss: 1.0121 - val_accuracy: 0.5724\n",
      "Epoch 2/30\n",
      "7352/7352 [==============================] - 113s 15ms/step - loss: 0.9606 - accuracy: 0.5797 - val_loss: 0.7977 - val_accuracy: 0.6081\n",
      "Epoch 3/30\n",
      "7352/7352 [==============================] - 75s 10ms/step - loss: 0.8199 - accuracy: 0.6274 - val_loss: 0.7922 - val_accuracy: 0.5938\n",
      "Epoch 4/30\n",
      "7352/7352 [==============================] - 72s 10ms/step - loss: 0.7544 - accuracy: 0.6387 - val_loss: 0.7379 - val_accuracy: 0.6179\n",
      "Epoch 5/30\n",
      "7352/7352 [==============================] - 111s 15ms/step - loss: 0.7201 - accuracy: 0.6538 - val_loss: 0.7295 - val_accuracy: 0.6315\n",
      "Epoch 6/30\n",
      "7352/7352 [==============================] - 93s 13ms/step - loss: 0.7087 - accuracy: 0.6568 - val_loss: 0.7252 - val_accuracy: 0.6247\n",
      "Epoch 7/30\n",
      "7352/7352 [==============================] - 92s 13ms/step - loss: 0.6802 - accuracy: 0.6673 - val_loss: 0.7158 - val_accuracy: 0.6172\n",
      "Epoch 8/30\n",
      "7352/7352 [==============================] - 91s 12ms/step - loss: 0.6422 - accuracy: 0.6827 - val_loss: 0.6055 - val_accuracy: 0.6335\n",
      "Epoch 9/30\n",
      "7352/7352 [==============================] - 89s 12ms/step - loss: 0.6010 - accuracy: 0.6967 - val_loss: 0.5963 - val_accuracy: 0.6345\n",
      "Epoch 10/30\n",
      "7352/7352 [==============================] - 84s 11ms/step - loss: 0.5590 - accuracy: 0.7346 - val_loss: 0.5663 - val_accuracy: 0.7455\n",
      "Epoch 11/30\n",
      "7352/7352 [==============================] - 86s 12ms/step - loss: 0.5296 - accuracy: 0.7776 - val_loss: 0.5300 - val_accuracy: 0.7645\n",
      "Epoch 12/30\n",
      "7352/7352 [==============================] - 84s 11ms/step - loss: 0.4499 - accuracy: 0.8449 - val_loss: 0.4595 - val_accuracy: 0.8690\n",
      "Epoch 13/30\n",
      "7352/7352 [==============================] - 75s 10ms/step - loss: 0.3973 - accuracy: 0.8825 - val_loss: 0.3912 - val_accuracy: 0.8748\n",
      "Epoch 14/30\n",
      "7352/7352 [==============================] - 69s 9ms/step - loss: 0.3332 - accuracy: 0.8976 - val_loss: 0.3851 - val_accuracy: 0.8928\n",
      "Epoch 15/30\n",
      "7352/7352 [==============================] - 69s 9ms/step - loss: 0.3229 - accuracy: 0.9115 - val_loss: 0.4235 - val_accuracy: 0.8772\n",
      "Epoch 16/30\n",
      "7352/7352 [==============================] - 71s 10ms/step - loss: 0.2927 - accuracy: 0.9166 - val_loss: 0.3071 - val_accuracy: 0.9013\n",
      "Epoch 17/30\n",
      "7352/7352 [==============================] - 71s 10ms/step - loss: 0.2774 - accuracy: 0.9210 - val_loss: 0.4124 - val_accuracy: 0.9019\n",
      "Epoch 18/30\n",
      "7352/7352 [==============================] - 89s 12ms/step - loss: 0.2632 - accuracy: 0.9267 - val_loss: 0.3328 - val_accuracy: 0.9053\n",
      "Epoch 19/30\n",
      "7352/7352 [==============================] - 86s 12ms/step - loss: 0.2567 - accuracy: 0.9286 - val_loss: 0.3363 - val_accuracy: 0.8921\n",
      "Epoch 20/30\n",
      "7352/7352 [==============================] - 85s 12ms/step - loss: 0.2283 - accuracy: 0.9346 - val_loss: 0.3214 - val_accuracy: 0.9077\n",
      "Epoch 21/30\n",
      "7352/7352 [==============================] - 70s 9ms/step - loss: 0.2282 - accuracy: 0.9357 - val_loss: 0.4113 - val_accuracy: 0.8965\n",
      "Epoch 22/30\n",
      "7352/7352 [==============================] - 64s 9ms/step - loss: 0.2258 - accuracy: 0.9332 - val_loss: 0.3970 - val_accuracy: 0.8965\n",
      "Epoch 23/30\n",
      "7352/7352 [==============================] - 63s 9ms/step - loss: 0.2020 - accuracy: 0.9400 - val_loss: 0.3651 - val_accuracy: 0.9077\n",
      "Epoch 24/30\n",
      "7352/7352 [==============================] - 63s 9ms/step - loss: 0.2156 - accuracy: 0.9372 - val_loss: 0.2834 - val_accuracy: 0.9199\n",
      "Epoch 25/30\n",
      "7352/7352 [==============================] - 74s 10ms/step - loss: 0.2100 - accuracy: 0.9369 - val_loss: 0.2916 - val_accuracy: 0.9145\n",
      "Epoch 26/30\n",
      "7352/7352 [==============================] - 70s 9ms/step - loss: 0.2071 - accuracy: 0.9369 - val_loss: 0.3984 - val_accuracy: 0.9053\n",
      "Epoch 27/30\n",
      "7352/7352 [==============================] - 70s 10ms/step - loss: 0.2109 - accuracy: 0.9388 - val_loss: 0.3134 - val_accuracy: 0.9172\n",
      "Epoch 28/30\n",
      "7352/7352 [==============================] - 85s 12ms/step - loss: 0.2009 - accuracy: 0.9374 - val_loss: 0.3572 - val_accuracy: 0.9199\n",
      "Epoch 29/30\n",
      "7352/7352 [==============================] - 81s 11ms/step - loss: 0.2002 - accuracy: 0.9377 - val_loss: 0.3658 - val_accuracy: 0.9128\n",
      "Epoch 30/30\n",
      "7352/7352 [==============================] - 74s 10ms/step - loss: 0.2017 - accuracy: 0.9395 - val_loss: 0.3589 - val_accuracy: 0.9226\n"
     ]
    },
    {
     "data": {
      "text/plain": [
       "<keras.callbacks.callbacks.History at 0x6456d7a20>"
      ]
     },
     "execution_count": 151,
     "metadata": {},
     "output_type": "execute_result"
    }
   ],
   "source": [
    "# Training the model\n",
    "model.fit(X_train,\n",
    "          Y_train,\n",
    "          batch_size=batch_size,\n",
    "          validation_data=(X_test, Y_test),\n",
    "          epochs=epochs)"
   ]
  },
  {
   "cell_type": "code",
   "execution_count": 152,
   "metadata": {},
   "outputs": [
    {
     "name": "stdout",
     "output_type": "stream",
     "text": [
      "Pred                LAYING  SITTING  STANDING  WALKING  WALKING_DOWNSTAIRS  \\\n",
      "True                                                                         \n",
      "LAYING                 536        0         1        0                   0   \n",
      "SITTING                  1      414        71        2                   1   \n",
      "STANDING                 0       80       445        7                   0   \n",
      "WALKING                  0        0         0      458                   9   \n",
      "WALKING_DOWNSTAIRS       0        6         0        1                 403   \n",
      "WALKING_UPSTAIRS         0        1         0        4                   3   \n",
      "\n",
      "Pred                WALKING_UPSTAIRS  \n",
      "True                                  \n",
      "LAYING                             0  \n",
      "SITTING                            2  \n",
      "STANDING                           0  \n",
      "WALKING                           29  \n",
      "WALKING_DOWNSTAIRS                10  \n",
      "WALKING_UPSTAIRS                 463  \n"
     ]
    }
   ],
   "source": [
    "# Confusion Matrix\n",
    "print(confusion_matrix(Y_test, model.predict(X_test)))"
   ]
  },
  {
   "cell_type": "code",
   "execution_count": 153,
   "metadata": {},
   "outputs": [
    {
     "name": "stdout",
     "output_type": "stream",
     "text": [
      "2947/2947 [==============================] - 3s 1ms/step\n"
     ]
    }
   ],
   "source": [
    "score = model.evaluate(X_test, Y_test)"
   ]
  },
  {
   "cell_type": "code",
   "execution_count": 154,
   "metadata": {},
   "outputs": [
    {
     "data": {
      "text/plain": [
       "[0.3589311393391746, 0.922633171081543]"
      ]
     },
     "execution_count": 154,
     "metadata": {},
     "output_type": "execute_result"
    }
   ],
   "source": [
    "score"
   ]
  },
  {
   "cell_type": "markdown",
   "metadata": {},
   "source": [
    "- It's performance is best till now, I got 92.26% accuracy and loss 0.3589"
   ]
  },
  {
   "cell_type": "markdown",
   "metadata": {},
   "source": [
    "<h3>1.3.9 LSTM Layer (32,8) with dropout 0.5</h3>"
   ]
  },
  {
   "cell_type": "code",
   "execution_count": 155,
   "metadata": {},
   "outputs": [],
   "source": [
    "# update LSTM layers\n",
    "n_hidden_1 = 32\n",
    "n_hidden_2 = 8"
   ]
  },
  {
   "cell_type": "markdown",
   "metadata": {},
   "source": [
    "- Initialize the LSTM Architecture"
   ]
  },
  {
   "cell_type": "code",
   "execution_count": 156,
   "metadata": {},
   "outputs": [
    {
     "name": "stdout",
     "output_type": "stream",
     "text": [
      "Model: \"sequential_37\"\n",
      "_________________________________________________________________\n",
      "Layer (type)                 Output Shape              Param #   \n",
      "=================================================================\n",
      "lstm_64 (LSTM)               (None, 128, 32)           5376      \n",
      "_________________________________________________________________\n",
      "lstm_65 (LSTM)               (None, 8)                 1312      \n",
      "_________________________________________________________________\n",
      "dropout_39 (Dropout)         (None, 8)                 0         \n",
      "_________________________________________________________________\n",
      "dense_21 (Dense)             (None, 6)                 54        \n",
      "=================================================================\n",
      "Total params: 6,742\n",
      "Trainable params: 6,742\n",
      "Non-trainable params: 0\n",
      "_________________________________________________________________\n"
     ]
    }
   ],
   "source": [
    "# https://stackoverflow.com/questions/51763983/error-when-checking-target-expected-dense-1-to-have-3-dimensions-but-got-array\n",
    "# https://github.com/keras-team/keras/issues/7403\n",
    "# 1. You need to set return_sequences=True from first LSTM\n",
    "# 2. You need to set return_sequences=True from second LSTM\n",
    "# Initiliazing the sequential model\n",
    "model = Sequential()\n",
    "# Configuring the parameters\n",
    "model.add(LSTM(n_hidden_1, input_shape=(timesteps, input_dim), return_sequences=True))\n",
    "# Adding a dropout layer\n",
    "# model.add(Dropout(0.6))\n",
    "# Configuring the parameters\n",
    "model.add(LSTM(n_hidden_2 , return_sequences=False))\n",
    "# Adding a dropout layer\n",
    "model.add(Dropout(0.5))\n",
    "# Adding a dense output layer with sigmoid activation\n",
    "model.add(Dense(n_classes, activation='sigmoid'))\n",
    "model.summary()"
   ]
  },
  {
   "cell_type": "code",
   "execution_count": 157,
   "metadata": {},
   "outputs": [],
   "source": [
    "# Compiling the model\n",
    "model.compile(loss='categorical_crossentropy',\n",
    "              optimizer='rmsprop',\n",
    "              metrics=['accuracy'])"
   ]
  },
  {
   "cell_type": "code",
   "execution_count": 158,
   "metadata": {},
   "outputs": [
    {
     "name": "stdout",
     "output_type": "stream",
     "text": [
      "Train on 7352 samples, validate on 2947 samples\n",
      "Epoch 1/30\n",
      "7352/7352 [==============================] - 72s 10ms/step - loss: 1.4856 - accuracy: 0.4123 - val_loss: 1.3371 - val_accuracy: 0.4608\n",
      "Epoch 2/30\n",
      "7352/7352 [==============================] - 71s 10ms/step - loss: 1.2285 - accuracy: 0.5116 - val_loss: 1.0945 - val_accuracy: 0.5270\n",
      "Epoch 3/30\n",
      "7352/7352 [==============================] - 73s 10ms/step - loss: 1.0665 - accuracy: 0.5305 - val_loss: 0.9436 - val_accuracy: 0.5541\n",
      "Epoch 4/30\n",
      "7352/7352 [==============================] - 75s 10ms/step - loss: 0.9660 - accuracy: 0.5257 - val_loss: 0.9440 - val_accuracy: 0.4880\n",
      "Epoch 5/30\n",
      "7352/7352 [==============================] - 71s 10ms/step - loss: 0.9060 - accuracy: 0.5547 - val_loss: 0.8240 - val_accuracy: 0.5684\n",
      "Epoch 6/30\n",
      "7352/7352 [==============================] - 74s 10ms/step - loss: 0.8786 - accuracy: 0.5654 - val_loss: 0.7971 - val_accuracy: 0.6529\n",
      "Epoch 7/30\n",
      "7352/7352 [==============================] - 75s 10ms/step - loss: 0.8483 - accuracy: 0.5914 - val_loss: 0.8113 - val_accuracy: 0.6586\n",
      "Epoch 8/30\n",
      "7352/7352 [==============================] - 68s 9ms/step - loss: 0.8286 - accuracy: 0.6151 - val_loss: 0.8513 - val_accuracy: 0.6071\n",
      "Epoch 9/30\n",
      "7352/7352 [==============================] - 62s 8ms/step - loss: 0.8480 - accuracy: 0.6223 - val_loss: 0.7308 - val_accuracy: 0.6508\n",
      "Epoch 10/30\n",
      "7352/7352 [==============================] - 62s 8ms/step - loss: 0.7699 - accuracy: 0.6659 - val_loss: 0.6510 - val_accuracy: 0.7122\n",
      "Epoch 11/30\n",
      "7352/7352 [==============================] - 64s 9ms/step - loss: 0.7407 - accuracy: 0.6878 - val_loss: 0.6161 - val_accuracy: 0.7282\n",
      "Epoch 12/30\n",
      "7352/7352 [==============================] - 63s 9ms/step - loss: 0.7204 - accuracy: 0.7065 - val_loss: 0.6398 - val_accuracy: 0.7489\n",
      "Epoch 13/30\n",
      "7352/7352 [==============================] - 64s 9ms/step - loss: 0.6857 - accuracy: 0.7171 - val_loss: 0.5320 - val_accuracy: 0.7818\n",
      "Epoch 14/30\n",
      "7352/7352 [==============================] - 63s 9ms/step - loss: 0.6436 - accuracy: 0.7297 - val_loss: 0.5111 - val_accuracy: 0.7374\n",
      "Epoch 15/30\n",
      "7352/7352 [==============================] - 61s 8ms/step - loss: 0.6151 - accuracy: 0.7432 - val_loss: 0.4787 - val_accuracy: 0.7296\n",
      "Epoch 16/30\n",
      "7352/7352 [==============================] - 62s 8ms/step - loss: 0.6339 - accuracy: 0.7444 - val_loss: 0.4256 - val_accuracy: 0.7642\n",
      "Epoch 17/30\n",
      "7352/7352 [==============================] - 62s 8ms/step - loss: 0.5582 - accuracy: 0.7655 - val_loss: 0.4290 - val_accuracy: 0.7560\n",
      "Epoch 18/30\n",
      "7352/7352 [==============================] - 61s 8ms/step - loss: 0.5327 - accuracy: 0.7703 - val_loss: 0.4810 - val_accuracy: 0.7669\n",
      "Epoch 19/30\n",
      "7352/7352 [==============================] - 65s 9ms/step - loss: 0.5647 - accuracy: 0.7677 - val_loss: 0.4285 - val_accuracy: 0.7516\n",
      "Epoch 20/30\n",
      "7352/7352 [==============================] - 72s 10ms/step - loss: 0.5090 - accuracy: 0.7817 - val_loss: 0.3965 - val_accuracy: 0.7401\n",
      "Epoch 21/30\n",
      "7352/7352 [==============================] - 69s 9ms/step - loss: 0.5086 - accuracy: 0.7835 - val_loss: 0.4745 - val_accuracy: 0.7418\n",
      "Epoch 22/30\n",
      "7352/7352 [==============================] - 71s 10ms/step - loss: 0.4800 - accuracy: 0.7829 - val_loss: 0.4516 - val_accuracy: 0.7282\n",
      "Epoch 23/30\n",
      "7352/7352 [==============================] - 69s 9ms/step - loss: 0.4852 - accuracy: 0.7777 - val_loss: 0.4051 - val_accuracy: 0.7533\n",
      "Epoch 24/30\n",
      "7352/7352 [==============================] - 69s 9ms/step - loss: 0.4614 - accuracy: 0.7845 - val_loss: 0.3709 - val_accuracy: 0.7540\n",
      "Epoch 25/30\n",
      "7352/7352 [==============================] - 70s 10ms/step - loss: 0.4826 - accuracy: 0.7795 - val_loss: 1.3639 - val_accuracy: 0.6037\n",
      "Epoch 26/30\n",
      "7352/7352 [==============================] - 71s 10ms/step - loss: 0.5301 - accuracy: 0.7686 - val_loss: 0.8841 - val_accuracy: 0.6529\n",
      "Epoch 27/30\n",
      "7352/7352 [==============================] - 69s 9ms/step - loss: 0.4808 - accuracy: 0.7758 - val_loss: 0.3784 - val_accuracy: 0.7472\n",
      "Epoch 28/30\n",
      "7352/7352 [==============================] - 68s 9ms/step - loss: 0.4476 - accuracy: 0.7924 - val_loss: 0.4192 - val_accuracy: 0.7520\n",
      "Epoch 29/30\n",
      "7352/7352 [==============================] - 69s 9ms/step - loss: 0.4208 - accuracy: 0.8067 - val_loss: 0.3983 - val_accuracy: 0.7496\n",
      "Epoch 30/30\n",
      "7352/7352 [==============================] - 69s 9ms/step - loss: 0.4232 - accuracy: 0.7926 - val_loss: 0.3762 - val_accuracy: 0.7540\n"
     ]
    },
    {
     "data": {
      "text/plain": [
       "<keras.callbacks.callbacks.History at 0x64672ce10>"
      ]
     },
     "execution_count": 158,
     "metadata": {},
     "output_type": "execute_result"
    }
   ],
   "source": [
    "# Training the model\n",
    "model.fit(X_train,\n",
    "          Y_train,\n",
    "          batch_size=batch_size,\n",
    "          validation_data=(X_test, Y_test),\n",
    "          epochs=epochs)"
   ]
  },
  {
   "cell_type": "code",
   "execution_count": 159,
   "metadata": {},
   "outputs": [
    {
     "name": "stdout",
     "output_type": "stream",
     "text": [
      "Pred                LAYING  SITTING  STANDING  WALKING  WALKING_DOWNSTAIRS  \\\n",
      "True                                                                         \n",
      "LAYING                 534        0         0        0                   0   \n",
      "SITTING                  0      420        61        0                   0   \n",
      "STANDING                 0      122       405        0                   0   \n",
      "WALKING                  0        0         0        0                   0   \n",
      "WALKING_DOWNSTAIRS       0        0         0        4                 397   \n",
      "WALKING_UPSTAIRS         0        5         0        0                   0   \n",
      "\n",
      "Pred                WALKING_UPSTAIRS  \n",
      "True                                  \n",
      "LAYING                             3  \n",
      "SITTING                           10  \n",
      "STANDING                           5  \n",
      "WALKING                          496  \n",
      "WALKING_DOWNSTAIRS                19  \n",
      "WALKING_UPSTAIRS                 466  \n"
     ]
    }
   ],
   "source": [
    "# Confusion Matrix\n",
    "print(confusion_matrix(Y_test, model.predict(X_test)))"
   ]
  },
  {
   "cell_type": "code",
   "execution_count": 160,
   "metadata": {},
   "outputs": [
    {
     "name": "stdout",
     "output_type": "stream",
     "text": [
      "2947/2947 [==============================] - 3s 953us/step\n"
     ]
    }
   ],
   "source": [
    "score = model.evaluate(X_test, Y_test)"
   ]
  },
  {
   "cell_type": "code",
   "execution_count": 161,
   "metadata": {},
   "outputs": [
    {
     "data": {
      "text/plain": [
       "[0.3761567989555303, 0.7539871335029602]"
      ]
     },
     "execution_count": 161,
     "metadata": {},
     "output_type": "execute_result"
    }
   ],
   "source": [
    "score"
   ]
  },
  {
   "cell_type": "markdown",
   "metadata": {},
   "source": [
    "- Performance degraded for this combination of LSTM"
   ]
  },
  {
   "cell_type": "markdown",
   "metadata": {},
   "source": [
    "<h3>1.4.0 Assignment feedback to improve accuracy > 94% </h3>"
   ]
  },
  {
   "cell_type": "markdown",
   "metadata": {},
   "source": [
    "<h3>1.4.1 Increase dropout on the best LSTM combination</h3>"
   ]
  },
  {
   "cell_type": "code",
   "execution_count": 17,
   "metadata": {},
   "outputs": [],
   "source": [
    "# update LSTM layers\n",
    "n_hidden_1 = 32\n",
    "n_hidden_2 = 16"
   ]
  },
  {
   "cell_type": "markdown",
   "metadata": {},
   "source": [
    "- Initialize the LSTM Architecture"
   ]
  },
  {
   "cell_type": "code",
   "execution_count": 18,
   "metadata": {},
   "outputs": [
    {
     "name": "stdout",
     "output_type": "stream",
     "text": [
      "WARNING:tensorflow:Large dropout rate: 0.6 (>0.5). In TensorFlow 2.x, dropout() uses dropout rate instead of keep_prob. Please ensure that this is intended.\n",
      "Model: \"sequential_1\"\n",
      "_________________________________________________________________\n",
      "Layer (type)                 Output Shape              Param #   \n",
      "=================================================================\n",
      "lstm_1 (LSTM)                (None, 128, 32)           5376      \n",
      "_________________________________________________________________\n",
      "lstm_2 (LSTM)                (None, 16)                3136      \n",
      "_________________________________________________________________\n",
      "dropout_1 (Dropout)          (None, 16)                0         \n",
      "_________________________________________________________________\n",
      "dense_1 (Dense)              (None, 6)                 102       \n",
      "=================================================================\n",
      "Total params: 8,614\n",
      "Trainable params: 8,614\n",
      "Non-trainable params: 0\n",
      "_________________________________________________________________\n"
     ]
    }
   ],
   "source": [
    "# https://stackoverflow.com/questions/51763983/error-when-checking-target-expected-dense-1-to-have-3-dimensions-but-got-array\n",
    "# https://github.com/keras-team/keras/issues/7403\n",
    "# 1. You need to set return_sequences=True from first LSTM\n",
    "# 2. You need to set return_sequences=True from second LSTM\n",
    "# Initiliazing the sequential model\n",
    "model = Sequential()\n",
    "# Configuring the parameters\n",
    "model.add(LSTM(n_hidden_1, input_shape=(timesteps, input_dim), return_sequences=True))\n",
    "# Adding a dropout layer\n",
    "# model.add(Dropout(0.6))\n",
    "# Configuring the parameters\n",
    "model.add(LSTM(n_hidden_2 , return_sequences=False))\n",
    "# Adding a dropout layer\n",
    "model.add(Dropout(0.6))\n",
    "# Adding a dense output layer with sigmoid activation\n",
    "model.add(Dense(n_classes, activation='sigmoid'))\n",
    "model.summary()"
   ]
  },
  {
   "cell_type": "code",
   "execution_count": 19,
   "metadata": {},
   "outputs": [],
   "source": [
    "# Compiling the model\n",
    "model.compile(loss='categorical_crossentropy',\n",
    "              optimizer='rmsprop',\n",
    "              metrics=['accuracy'])"
   ]
  },
  {
   "cell_type": "code",
   "execution_count": 20,
   "metadata": {},
   "outputs": [
    {
     "name": "stdout",
     "output_type": "stream",
     "text": [
      "WARNING:tensorflow:From /Users/mayankgupta/anaconda3/lib/python3.7/site-packages/tensorflow/python/ops/math_grad.py:1250: add_dispatch_support.<locals>.wrapper (from tensorflow.python.ops.array_ops) is deprecated and will be removed in a future version.\n",
      "Instructions for updating:\n",
      "Use tf.where in 2.0, which has the same broadcast rule as np.where\n",
      "WARNING:tensorflow:From /Users/mayankgupta/anaconda3/lib/python3.7/site-packages/keras/backend/tensorflow_backend.py:422: The name tf.global_variables is deprecated. Please use tf.compat.v1.global_variables instead.\n",
      "\n",
      "Train on 7352 samples, validate on 2947 samples\n",
      "Epoch 1/30\n",
      "7352/7352 [==============================] - 28s 4ms/step - loss: 1.3771 - accuracy: 0.4679 - val_loss: 1.2075 - val_accuracy: 0.5063\n",
      "Epoch 2/30\n",
      "7352/7352 [==============================] - 29s 4ms/step - loss: 1.0661 - accuracy: 0.5615 - val_loss: 0.9215 - val_accuracy: 0.6546\n",
      "Epoch 3/30\n",
      "7352/7352 [==============================] - 28s 4ms/step - loss: 0.9246 - accuracy: 0.6035 - val_loss: 0.7882 - val_accuracy: 0.6474\n",
      "Epoch 4/30\n",
      "7352/7352 [==============================] - 30s 4ms/step - loss: 0.8082 - accuracy: 0.6484 - val_loss: 0.9662 - val_accuracy: 0.6223\n",
      "Epoch 5/30\n",
      "7352/7352 [==============================] - 28s 4ms/step - loss: 0.7176 - accuracy: 0.7084 - val_loss: 0.7233 - val_accuracy: 0.6702\n",
      "Epoch 6/30\n",
      "7352/7352 [==============================] - 30s 4ms/step - loss: 0.6610 - accuracy: 0.7329 - val_loss: 0.6340 - val_accuracy: 0.7268\n",
      "Epoch 7/30\n",
      "7352/7352 [==============================] - 32s 4ms/step - loss: 0.5957 - accuracy: 0.7606 - val_loss: 0.4884 - val_accuracy: 0.7458\n",
      "Epoch 8/30\n",
      "7352/7352 [==============================] - 42s 6ms/step - loss: 0.5444 - accuracy: 0.7705 - val_loss: 0.4884 - val_accuracy: 0.7547\n",
      "Epoch 9/30\n",
      "7352/7352 [==============================] - 29s 4ms/step - loss: 0.5301 - accuracy: 0.7749 - val_loss: 0.5527 - val_accuracy: 0.7448\n",
      "Epoch 10/30\n",
      "7352/7352 [==============================] - 29s 4ms/step - loss: 0.4985 - accuracy: 0.7761 - val_loss: 0.5010 - val_accuracy: 0.7489\n",
      "Epoch 11/30\n",
      "7352/7352 [==============================] - 30s 4ms/step - loss: 0.4811 - accuracy: 0.7811 - val_loss: 0.5013 - val_accuracy: 0.7706\n",
      "Epoch 12/30\n",
      "7352/7352 [==============================] - 29s 4ms/step - loss: 0.4723 - accuracy: 0.7758 - val_loss: 0.5427 - val_accuracy: 0.7384\n",
      "Epoch 13/30\n",
      "7352/7352 [==============================] - 28s 4ms/step - loss: 0.4699 - accuracy: 0.7801 - val_loss: 0.5415 - val_accuracy: 0.7638\n",
      "Epoch 14/30\n",
      "7352/7352 [==============================] - 29s 4ms/step - loss: 0.4475 - accuracy: 0.7879 - val_loss: 0.5366 - val_accuracy: 0.7564\n",
      "Epoch 15/30\n",
      "7352/7352 [==============================] - 29s 4ms/step - loss: 0.4817 - accuracy: 0.7795 - val_loss: 0.9002 - val_accuracy: 0.6841\n",
      "Epoch 16/30\n",
      "7352/7352 [==============================] - 32s 4ms/step - loss: 0.4505 - accuracy: 0.7894 - val_loss: 0.4372 - val_accuracy: 0.7798\n",
      "Epoch 17/30\n",
      "7352/7352 [==============================] - 29s 4ms/step - loss: 0.4303 - accuracy: 0.7878 - val_loss: 0.4430 - val_accuracy: 0.7845\n",
      "Epoch 18/30\n",
      "7352/7352 [==============================] - 29s 4ms/step - loss: 0.4273 - accuracy: 0.7950 - val_loss: 0.4931 - val_accuracy: 0.7672\n",
      "Epoch 19/30\n",
      "7352/7352 [==============================] - 30s 4ms/step - loss: 0.4387 - accuracy: 0.7996 - val_loss: 0.4052 - val_accuracy: 0.7927\n",
      "Epoch 20/30\n",
      "7352/7352 [==============================] - 29s 4ms/step - loss: 0.4401 - accuracy: 0.8062 - val_loss: 0.4650 - val_accuracy: 0.7774\n",
      "Epoch 21/30\n",
      "7352/7352 [==============================] - 28s 4ms/step - loss: 0.4293 - accuracy: 0.8244 - val_loss: 0.5555 - val_accuracy: 0.7587\n",
      "Epoch 22/30\n",
      "7352/7352 [==============================] - 29s 4ms/step - loss: 0.3975 - accuracy: 0.8384 - val_loss: 0.4290 - val_accuracy: 0.7665\n",
      "Epoch 23/30\n",
      "7352/7352 [==============================] - 31s 4ms/step - loss: 0.3760 - accuracy: 0.8474 - val_loss: 0.4030 - val_accuracy: 0.8836\n",
      "Epoch 24/30\n",
      "7352/7352 [==============================] - 28s 4ms/step - loss: 0.3758 - accuracy: 0.8453 - val_loss: 0.4144 - val_accuracy: 0.9057\n",
      "Epoch 25/30\n",
      "7352/7352 [==============================] - 26s 4ms/step - loss: 0.3429 - accuracy: 0.8659 - val_loss: 0.4352 - val_accuracy: 0.8948\n",
      "Epoch 26/30\n",
      "7352/7352 [==============================] - 27s 4ms/step - loss: 0.3329 - accuracy: 0.8802 - val_loss: 0.4077 - val_accuracy: 0.8914\n",
      "Epoch 27/30\n",
      "7352/7352 [==============================] - 29s 4ms/step - loss: 0.3310 - accuracy: 0.8977 - val_loss: 0.3974 - val_accuracy: 0.8948\n",
      "Epoch 28/30\n",
      "7352/7352 [==============================] - 26s 3ms/step - loss: 0.3205 - accuracy: 0.9048 - val_loss: 0.3721 - val_accuracy: 0.8897\n",
      "Epoch 29/30\n",
      "7352/7352 [==============================] - 26s 4ms/step - loss: 0.2805 - accuracy: 0.9168 - val_loss: 0.4258 - val_accuracy: 0.8833\n",
      "Epoch 30/30\n",
      "7352/7352 [==============================] - 26s 4ms/step - loss: 0.2897 - accuracy: 0.9117 - val_loss: 0.3616 - val_accuracy: 0.9101\n"
     ]
    },
    {
     "data": {
      "text/plain": [
       "<keras.callbacks.callbacks.History at 0x629ebef60>"
      ]
     },
     "execution_count": 20,
     "metadata": {},
     "output_type": "execute_result"
    }
   ],
   "source": [
    "# Training the model\n",
    "model.fit(X_train,\n",
    "          Y_train,\n",
    "          batch_size=batch_size,\n",
    "          validation_data=(X_test, Y_test),\n",
    "          epochs=epochs)"
   ]
  },
  {
   "cell_type": "code",
   "execution_count": 21,
   "metadata": {},
   "outputs": [
    {
     "name": "stdout",
     "output_type": "stream",
     "text": [
      "Pred                LAYING  SITTING  STANDING  WALKING  WALKING_DOWNSTAIRS  \\\n",
      "True                                                                         \n",
      "LAYING                 510        0         2        0                   0   \n",
      "SITTING                  0      404        87        0                   0   \n",
      "STANDING                 0       81       450        1                   0   \n",
      "WALKING                  0        0         0      450                  44   \n",
      "WALKING_DOWNSTAIRS       0        0         0        0                 414   \n",
      "WALKING_UPSTAIRS         1        0        10        0                   6   \n",
      "\n",
      "Pred                WALKING_UPSTAIRS  \n",
      "True                                  \n",
      "LAYING                            25  \n",
      "SITTING                            0  \n",
      "STANDING                           0  \n",
      "WALKING                            2  \n",
      "WALKING_DOWNSTAIRS                 6  \n",
      "WALKING_UPSTAIRS                 454  \n"
     ]
    }
   ],
   "source": [
    "# Confusion Matrix\n",
    "print(confusion_matrix(Y_test, model.predict(X_test)))"
   ]
  },
  {
   "cell_type": "code",
   "execution_count": 22,
   "metadata": {},
   "outputs": [
    {
     "name": "stdout",
     "output_type": "stream",
     "text": [
      "2947/2947 [==============================] - 1s 402us/step\n"
     ]
    }
   ],
   "source": [
    "score = model.evaluate(X_test, Y_test)"
   ]
  },
  {
   "cell_type": "code",
   "execution_count": 23,
   "metadata": {},
   "outputs": [
    {
     "data": {
      "text/plain": [
       "[0.36157595883878874, 0.9100780487060547]"
      ]
     },
     "execution_count": 23,
     "metadata": {},
     "output_type": "execute_result"
    }
   ],
   "source": [
    "score"
   ]
  },
  {
   "cell_type": "markdown",
   "metadata": {},
   "source": [
    "<h3>1.4.2 Decrease dropout on the best LSTM combination</h3>"
   ]
  },
  {
   "cell_type": "code",
   "execution_count": 24,
   "metadata": {},
   "outputs": [],
   "source": [
    "# update LSTM layers\n",
    "n_hidden_1 = 32\n",
    "n_hidden_2 = 16"
   ]
  },
  {
   "cell_type": "markdown",
   "metadata": {},
   "source": [
    "- Initialize the LSTM architecture"
   ]
  },
  {
   "cell_type": "code",
   "execution_count": 25,
   "metadata": {},
   "outputs": [
    {
     "name": "stdout",
     "output_type": "stream",
     "text": [
      "Model: \"sequential_2\"\n",
      "_________________________________________________________________\n",
      "Layer (type)                 Output Shape              Param #   \n",
      "=================================================================\n",
      "lstm_3 (LSTM)                (None, 128, 32)           5376      \n",
      "_________________________________________________________________\n",
      "lstm_4 (LSTM)                (None, 16)                3136      \n",
      "_________________________________________________________________\n",
      "dropout_2 (Dropout)          (None, 16)                0         \n",
      "_________________________________________________________________\n",
      "dense_2 (Dense)              (None, 6)                 102       \n",
      "=================================================================\n",
      "Total params: 8,614\n",
      "Trainable params: 8,614\n",
      "Non-trainable params: 0\n",
      "_________________________________________________________________\n"
     ]
    }
   ],
   "source": [
    "# https://stackoverflow.com/questions/51763983/error-when-checking-target-expected-dense-1-to-have-3-dimensions-but-got-array\n",
    "# https://github.com/keras-team/keras/issues/7403\n",
    "# 1. You need to set return_sequences=True from first LSTM\n",
    "# 2. You need to set return_sequences=True from second LSTM\n",
    "# Initiliazing the sequential model\n",
    "model = Sequential()\n",
    "# Configuring the parameters\n",
    "model.add(LSTM(n_hidden_1, input_shape=(timesteps, input_dim), return_sequences=True))\n",
    "# Adding a dropout layer\n",
    "# model.add(Dropout(0.6))\n",
    "# Configuring the parameters\n",
    "model.add(LSTM(n_hidden_2 , return_sequences=False))\n",
    "# Adding a dropout layer\n",
    "model.add(Dropout(0.4))\n",
    "# Adding a dense output layer with sigmoid activation\n",
    "model.add(Dense(n_classes, activation='sigmoid'))\n",
    "model.summary()"
   ]
  },
  {
   "cell_type": "code",
   "execution_count": 26,
   "metadata": {},
   "outputs": [],
   "source": [
    "# Compiling the model\n",
    "model.compile(loss='categorical_crossentropy',\n",
    "              optimizer='rmsprop',\n",
    "              metrics=['accuracy'])"
   ]
  },
  {
   "cell_type": "code",
   "execution_count": 27,
   "metadata": {},
   "outputs": [
    {
     "name": "stdout",
     "output_type": "stream",
     "text": [
      "Train on 7352 samples, validate on 2947 samples\n",
      "Epoch 1/30\n",
      "7352/7352 [==============================] - 30s 4ms/step - loss: 1.2955 - accuracy: 0.5092 - val_loss: 0.9788 - val_accuracy: 0.5667\n",
      "Epoch 2/30\n",
      "7352/7352 [==============================] - 29s 4ms/step - loss: 0.9335 - accuracy: 0.6260 - val_loss: 0.8553 - val_accuracy: 0.5850\n",
      "Epoch 3/30\n",
      "7352/7352 [==============================] - 26s 4ms/step - loss: 0.7509 - accuracy: 0.6903 - val_loss: 0.6851 - val_accuracy: 0.6875\n",
      "Epoch 4/30\n",
      "7352/7352 [==============================] - 26s 4ms/step - loss: 0.6576 - accuracy: 0.7371 - val_loss: 0.6529 - val_accuracy: 0.7153\n",
      "Epoch 5/30\n",
      "7352/7352 [==============================] - 28s 4ms/step - loss: 0.5653 - accuracy: 0.7776 - val_loss: 0.5315 - val_accuracy: 0.7598\n",
      "Epoch 6/30\n",
      "7352/7352 [==============================] - 28s 4ms/step - loss: 0.4963 - accuracy: 0.7875 - val_loss: 0.5693 - val_accuracy: 0.7397\n",
      "Epoch 7/30\n",
      "7352/7352 [==============================] - 28s 4ms/step - loss: 0.4593 - accuracy: 0.8021 - val_loss: 0.8562 - val_accuracy: 0.6997\n",
      "Epoch 8/30\n",
      "7352/7352 [==============================] - 32s 4ms/step - loss: 0.4336 - accuracy: 0.8022 - val_loss: 0.4901 - val_accuracy: 0.7733\n",
      "Epoch 9/30\n",
      "7352/7352 [==============================] - 30s 4ms/step - loss: 0.4291 - accuracy: 0.8105 - val_loss: 0.4846 - val_accuracy: 0.8344\n",
      "Epoch 10/30\n",
      "7352/7352 [==============================] - 26s 4ms/step - loss: 0.3871 - accuracy: 0.8746 - val_loss: 0.4090 - val_accuracy: 0.8626\n",
      "Epoch 11/30\n",
      "7352/7352 [==============================] - 26s 4ms/step - loss: 0.3232 - accuracy: 0.9104 - val_loss: 0.3683 - val_accuracy: 0.8884\n",
      "Epoch 12/30\n",
      "7352/7352 [==============================] - 26s 4ms/step - loss: 0.2601 - accuracy: 0.9312 - val_loss: 0.4261 - val_accuracy: 0.8789\n",
      "Epoch 13/30\n",
      "7352/7352 [==============================] - 27s 4ms/step - loss: 0.2371 - accuracy: 0.9312 - val_loss: 0.3696 - val_accuracy: 0.8955\n",
      "Epoch 14/30\n",
      "7352/7352 [==============================] - 29s 4ms/step - loss: 0.2219 - accuracy: 0.9354 - val_loss: 0.3854 - val_accuracy: 0.8897\n",
      "Epoch 15/30\n",
      "7352/7352 [==============================] - 26s 4ms/step - loss: 0.2124 - accuracy: 0.9388 - val_loss: 0.3734 - val_accuracy: 0.8890\n",
      "Epoch 16/30\n",
      "7352/7352 [==============================] - 30s 4ms/step - loss: 0.1963 - accuracy: 0.9403 - val_loss: 0.4284 - val_accuracy: 0.8887\n",
      "Epoch 17/30\n",
      "7352/7352 [==============================] - 29s 4ms/step - loss: 0.1849 - accuracy: 0.9396 - val_loss: 0.3498 - val_accuracy: 0.9016\n",
      "Epoch 18/30\n",
      "7352/7352 [==============================] - 29s 4ms/step - loss: 0.1981 - accuracy: 0.9415 - val_loss: 0.4388 - val_accuracy: 0.8924\n",
      "Epoch 19/30\n",
      "7352/7352 [==============================] - 27s 4ms/step - loss: 0.1978 - accuracy: 0.9408 - val_loss: 0.4307 - val_accuracy: 0.8911\n",
      "Epoch 20/30\n",
      "7352/7352 [==============================] - 27s 4ms/step - loss: 0.1884 - accuracy: 0.9377 - val_loss: 0.4191 - val_accuracy: 0.8948\n",
      "Epoch 21/30\n",
      "7352/7352 [==============================] - 25s 3ms/step - loss: 0.1669 - accuracy: 0.9444 - val_loss: 0.5406 - val_accuracy: 0.8901\n",
      "Epoch 22/30\n",
      "7352/7352 [==============================] - 27s 4ms/step - loss: 0.1731 - accuracy: 0.9442 - val_loss: 0.4263 - val_accuracy: 0.8921\n",
      "Epoch 23/30\n",
      "7352/7352 [==============================] - 27s 4ms/step - loss: 0.1697 - accuracy: 0.9459 - val_loss: 0.4441 - val_accuracy: 0.8904\n",
      "Epoch 24/30\n",
      "7352/7352 [==============================] - 26s 4ms/step - loss: 0.1615 - accuracy: 0.9474 - val_loss: 0.4375 - val_accuracy: 0.8955\n",
      "Epoch 25/30\n",
      "7352/7352 [==============================] - 28s 4ms/step - loss: 0.1651 - accuracy: 0.9448 - val_loss: 0.6645 - val_accuracy: 0.8826\n",
      "Epoch 26/30\n",
      "7352/7352 [==============================] - 25s 3ms/step - loss: 0.1563 - accuracy: 0.9475 - val_loss: 0.6143 - val_accuracy: 0.8890\n",
      "Epoch 27/30\n",
      "7352/7352 [==============================] - 28s 4ms/step - loss: 0.1582 - accuracy: 0.9489 - val_loss: 0.5653 - val_accuracy: 0.8958\n",
      "Epoch 28/30\n",
      "7352/7352 [==============================] - 28s 4ms/step - loss: 0.1520 - accuracy: 0.9465 - val_loss: 0.3868 - val_accuracy: 0.9111\n",
      "Epoch 29/30\n",
      "7352/7352 [==============================] - 28s 4ms/step - loss: 0.1610 - accuracy: 0.9465 - val_loss: 0.4674 - val_accuracy: 0.9033\n",
      "Epoch 30/30\n",
      "7352/7352 [==============================] - 32s 4ms/step - loss: 0.1460 - accuracy: 0.9489 - val_loss: 0.3913 - val_accuracy: 0.9067\n"
     ]
    },
    {
     "data": {
      "text/plain": [
       "<keras.callbacks.callbacks.History at 0x62b400e10>"
      ]
     },
     "execution_count": 27,
     "metadata": {},
     "output_type": "execute_result"
    }
   ],
   "source": [
    "# Training the model\n",
    "model.fit(X_train,\n",
    "          Y_train,\n",
    "          batch_size=batch_size,\n",
    "          validation_data=(X_test, Y_test),\n",
    "          epochs=epochs)"
   ]
  },
  {
   "cell_type": "code",
   "execution_count": 28,
   "metadata": {},
   "outputs": [
    {
     "name": "stdout",
     "output_type": "stream",
     "text": [
      "Pred                LAYING  SITTING  STANDING  WALKING  WALKING_DOWNSTAIRS  \\\n",
      "True                                                                         \n",
      "LAYING                 537        0         0        0                   0   \n",
      "SITTING                  4      387        78        0                   4   \n",
      "STANDING                 0       98       432        0                   0   \n",
      "WALKING                  0        0         0      448                  10   \n",
      "WALKING_DOWNSTAIRS       0        0         0        0                 413   \n",
      "WALKING_UPSTAIRS         0        0         0        7                   9   \n",
      "\n",
      "Pred                WALKING_UPSTAIRS  \n",
      "True                                  \n",
      "LAYING                             0  \n",
      "SITTING                           18  \n",
      "STANDING                           2  \n",
      "WALKING                           38  \n",
      "WALKING_DOWNSTAIRS                 7  \n",
      "WALKING_UPSTAIRS                 455  \n"
     ]
    }
   ],
   "source": [
    "# Confusion Matrix\n",
    "print(confusion_matrix(Y_test, model.predict(X_test)))"
   ]
  },
  {
   "cell_type": "code",
   "execution_count": 29,
   "metadata": {},
   "outputs": [
    {
     "name": "stdout",
     "output_type": "stream",
     "text": [
      "2947/2947 [==============================] - 1s 397us/step\n"
     ]
    }
   ],
   "source": [
    "score = model.evaluate(X_test, Y_test)"
   ]
  },
  {
   "cell_type": "code",
   "execution_count": 30,
   "metadata": {},
   "outputs": [
    {
     "data": {
      "text/plain": [
       "[0.39125852214684165, 0.9066847562789917]"
      ]
     },
     "execution_count": 30,
     "metadata": {},
     "output_type": "execute_result"
    }
   ],
   "source": [
    "score"
   ]
  },
  {
   "cell_type": "markdown",
   "metadata": {},
   "source": [
    "<h3>1.4.3 Increase layer size to 128 and lesser dropout</h3>"
   ]
  },
  {
   "cell_type": "code",
   "execution_count": 37,
   "metadata": {},
   "outputs": [],
   "source": [
    "# update LSTM layers\n",
    "n_hidden_1 = 128\n",
    "# n_hidden_2 = 16"
   ]
  },
  {
   "cell_type": "markdown",
   "metadata": {},
   "source": [
    "- Initialize LSTM"
   ]
  },
  {
   "cell_type": "code",
   "execution_count": 38,
   "metadata": {},
   "outputs": [
    {
     "name": "stdout",
     "output_type": "stream",
     "text": [
      "Model: \"sequential_6\"\n",
      "_________________________________________________________________\n",
      "Layer (type)                 Output Shape              Param #   \n",
      "=================================================================\n",
      "lstm_8 (LSTM)                (None, 128)               70656     \n",
      "_________________________________________________________________\n",
      "batch_normalization_3 (Batch (None, 128)               512       \n",
      "_________________________________________________________________\n",
      "dropout_5 (Dropout)          (None, 128)               0         \n",
      "_________________________________________________________________\n",
      "dense_5 (Dense)              (None, 6)                 774       \n",
      "=================================================================\n",
      "Total params: 71,942\n",
      "Trainable params: 71,686\n",
      "Non-trainable params: 256\n",
      "_________________________________________________________________\n"
     ]
    }
   ],
   "source": [
    "# https://stackoverflow.com/questions/51763983/error-when-checking-target-expected-dense-1-to-have-3-dimensions-but-got-array\n",
    "# https://github.com/keras-team/keras/issues/7403\n",
    "# 1. You need to set return_sequences=True from first LSTM\n",
    "# 2. You need to set return_sequences=True from second LSTM\n",
    "# Initiliazing the sequential model\n",
    "model = Sequential()\n",
    "# Configuring the parameters\n",
    "model.add(LSTM(n_hidden_1, input_shape=(timesteps, input_dim)))#, return_sequences=True\n",
    "# Adding BatchNormalization\n",
    "model.add(BatchNormalization())\n",
    "# Adding a dropout layer\n",
    "# model.add(Dropout(0.6))\n",
    "# Configuring the parameters\n",
    "# model.add(LSTM(n_hidden_2 , return_sequences=False))\n",
    "# Adding a dropout layer\n",
    "model.add(Dropout(0.25))\n",
    "# Adding a dense output layer with sigmoid activation\n",
    "model.add(Dense(n_classes, activation='sigmoid'))\n",
    "model.summary()"
   ]
  },
  {
   "cell_type": "code",
   "execution_count": 39,
   "metadata": {},
   "outputs": [],
   "source": [
    "# Compiling the model\n",
    "model.compile(loss='categorical_crossentropy',\n",
    "              optimizer='rmsprop',\n",
    "              metrics=['accuracy'])"
   ]
  },
  {
   "cell_type": "code",
   "execution_count": 40,
   "metadata": {},
   "outputs": [
    {
     "name": "stdout",
     "output_type": "stream",
     "text": [
      "Train on 7352 samples, validate on 2947 samples\n",
      "Epoch 1/30\n",
      "7352/7352 [==============================] - 29s 4ms/step - loss: 0.9291 - accuracy: 0.5952 - val_loss: 0.7638 - val_accuracy: 0.6359\n",
      "Epoch 2/30\n",
      "7352/7352 [==============================] - 30s 4ms/step - loss: 0.6998 - accuracy: 0.6602 - val_loss: 0.6965 - val_accuracy: 0.6481\n",
      "Epoch 3/30\n",
      "7352/7352 [==============================] - 29s 4ms/step - loss: 0.5196 - accuracy: 0.7916 - val_loss: 0.3441 - val_accuracy: 0.8907\n",
      "Epoch 4/30\n",
      "7352/7352 [==============================] - 30s 4ms/step - loss: 0.2674 - accuracy: 0.9101 - val_loss: 0.3433 - val_accuracy: 0.8989\n",
      "Epoch 5/30\n",
      "7352/7352 [==============================] - 30s 4ms/step - loss: 0.1985 - accuracy: 0.9293 - val_loss: 0.3900 - val_accuracy: 0.8772\n",
      "Epoch 6/30\n",
      "7352/7352 [==============================] - 30s 4ms/step - loss: 0.1990 - accuracy: 0.9279 - val_loss: 0.3218 - val_accuracy: 0.9121\n",
      "Epoch 7/30\n",
      "7352/7352 [==============================] - 28s 4ms/step - loss: 0.1790 - accuracy: 0.9362 - val_loss: 0.2864 - val_accuracy: 0.9108\n",
      "Epoch 8/30\n",
      "7352/7352 [==============================] - 29s 4ms/step - loss: 0.1543 - accuracy: 0.9412 - val_loss: 0.2592 - val_accuracy: 0.9199\n",
      "Epoch 9/30\n",
      "7352/7352 [==============================] - 26s 4ms/step - loss: 0.1592 - accuracy: 0.9404 - val_loss: 0.3458 - val_accuracy: 0.9158\n",
      "Epoch 10/30\n",
      "7352/7352 [==============================] - 25s 3ms/step - loss: 0.1445 - accuracy: 0.9436 - val_loss: 0.2678 - val_accuracy: 0.9199\n",
      "Epoch 11/30\n",
      "7352/7352 [==============================] - 25s 3ms/step - loss: 0.1397 - accuracy: 0.9395 - val_loss: 0.2976 - val_accuracy: 0.9155\n",
      "Epoch 12/30\n",
      "7352/7352 [==============================] - 26s 4ms/step - loss: 0.1523 - accuracy: 0.9392 - val_loss: 0.2769 - val_accuracy: 0.9070\n",
      "Epoch 13/30\n",
      "7352/7352 [==============================] - 25s 3ms/step - loss: 0.1375 - accuracy: 0.9415 - val_loss: 0.3131 - val_accuracy: 0.9087\n",
      "Epoch 14/30\n",
      "7352/7352 [==============================] - 26s 3ms/step - loss: 0.1459 - accuracy: 0.9433 - val_loss: 0.3071 - val_accuracy: 0.9152\n",
      "Epoch 15/30\n",
      "7352/7352 [==============================] - 25s 3ms/step - loss: 0.1451 - accuracy: 0.9455 - val_loss: 0.3450 - val_accuracy: 0.9169\n",
      "Epoch 16/30\n",
      "7352/7352 [==============================] - 25s 3ms/step - loss: 0.1497 - accuracy: 0.9460 - val_loss: 0.3297 - val_accuracy: 0.9158\n",
      "Epoch 17/30\n",
      "7352/7352 [==============================] - 25s 3ms/step - loss: 0.1425 - accuracy: 0.9489 - val_loss: 0.3909 - val_accuracy: 0.9192\n",
      "Epoch 18/30\n",
      "7352/7352 [==============================] - 25s 3ms/step - loss: 0.1529 - accuracy: 0.9465 - val_loss: 0.3178 - val_accuracy: 0.9220\n",
      "Epoch 19/30\n",
      "7352/7352 [==============================] - 25s 3ms/step - loss: 0.1487 - accuracy: 0.9456 - val_loss: 0.3939 - val_accuracy: 0.9104\n",
      "Epoch 20/30\n",
      "7352/7352 [==============================] - 25s 3ms/step - loss: 0.1389 - accuracy: 0.9483 - val_loss: 0.3776 - val_accuracy: 0.9179\n",
      "Epoch 21/30\n",
      "7352/7352 [==============================] - 25s 3ms/step - loss: 0.1451 - accuracy: 0.9449 - val_loss: 0.3028 - val_accuracy: 0.9233\n",
      "Epoch 22/30\n",
      "7352/7352 [==============================] - 25s 3ms/step - loss: 0.1386 - accuracy: 0.9465 - val_loss: 0.3515 - val_accuracy: 0.9247\n",
      "Epoch 23/30\n",
      "7352/7352 [==============================] - 25s 3ms/step - loss: 0.2044 - accuracy: 0.9280 - val_loss: 0.3435 - val_accuracy: 0.9226\n",
      "Epoch 24/30\n",
      "7352/7352 [==============================] - 25s 3ms/step - loss: 0.1235 - accuracy: 0.9521 - val_loss: 0.3666 - val_accuracy: 0.9230\n",
      "Epoch 25/30\n",
      "7352/7352 [==============================] - 25s 3ms/step - loss: 0.1276 - accuracy: 0.9504 - val_loss: 0.3031 - val_accuracy: 0.9182\n",
      "Epoch 26/30\n",
      "7352/7352 [==============================] - 25s 3ms/step - loss: 0.1243 - accuracy: 0.9520 - val_loss: 0.3607 - val_accuracy: 0.9257\n",
      "Epoch 27/30\n",
      "7352/7352 [==============================] - 25s 3ms/step - loss: 0.1223 - accuracy: 0.9502 - val_loss: 0.3756 - val_accuracy: 0.9155\n",
      "Epoch 28/30\n",
      "7352/7352 [==============================] - 25s 3ms/step - loss: 0.1273 - accuracy: 0.9525 - val_loss: 0.3839 - val_accuracy: 0.9186\n",
      "Epoch 29/30\n",
      "7352/7352 [==============================] - 25s 3ms/step - loss: 0.1620 - accuracy: 0.9433 - val_loss: 0.2694 - val_accuracy: 0.9294\n",
      "Epoch 30/30\n",
      "7352/7352 [==============================] - 25s 3ms/step - loss: 0.1218 - accuracy: 0.9510 - val_loss: 0.3121 - val_accuracy: 0.9257\n"
     ]
    },
    {
     "data": {
      "text/plain": [
       "<keras.callbacks.callbacks.History at 0x62db041d0>"
      ]
     },
     "execution_count": 40,
     "metadata": {},
     "output_type": "execute_result"
    }
   ],
   "source": [
    "# Training the model\n",
    "model.fit(X_train,\n",
    "          Y_train,\n",
    "          batch_size=batch_size,\n",
    "          validation_data=(X_test, Y_test),\n",
    "          epochs=epochs)"
   ]
  },
  {
   "cell_type": "code",
   "execution_count": 41,
   "metadata": {},
   "outputs": [
    {
     "name": "stdout",
     "output_type": "stream",
     "text": [
      "Pred                LAYING  SITTING  STANDING  WALKING  WALKING_DOWNSTAIRS  \\\n",
      "True                                                                         \n",
      "LAYING                 537        0         0        0                   0   \n",
      "SITTING                  0      418        71        0                   0   \n",
      "STANDING                 0      101       431        0                   0   \n",
      "WALKING                  0        0         0      470                  24   \n",
      "WALKING_DOWNSTAIRS       0        0         0        1                 417   \n",
      "WALKING_UPSTAIRS         0        1         0       13                   2   \n",
      "\n",
      "Pred                WALKING_UPSTAIRS  \n",
      "True                                  \n",
      "LAYING                             0  \n",
      "SITTING                            2  \n",
      "STANDING                           0  \n",
      "WALKING                            2  \n",
      "WALKING_DOWNSTAIRS                 2  \n",
      "WALKING_UPSTAIRS                 455  \n"
     ]
    }
   ],
   "source": [
    "# Confusion Matrix\n",
    "print(confusion_matrix(Y_test, model.predict(X_test)))"
   ]
  },
  {
   "cell_type": "code",
   "execution_count": 42,
   "metadata": {},
   "outputs": [
    {
     "name": "stdout",
     "output_type": "stream",
     "text": [
      "2947/2947 [==============================] - 2s 542us/step\n"
     ]
    }
   ],
   "source": [
    "score = model.evaluate(X_test, Y_test)"
   ]
  },
  {
   "cell_type": "code",
   "execution_count": 43,
   "metadata": {},
   "outputs": [
    {
     "data": {
      "text/plain": [
       "[0.31214076887265046, 0.9256871342658997]"
      ]
     },
     "execution_count": 43,
     "metadata": {},
     "output_type": "execute_result"
    }
   ],
   "source": [
    "score"
   ]
  },
  {
   "cell_type": "markdown",
   "metadata": {},
   "source": [
    "<h3>1.4.4 Implement Divide and Conquer Technique</h3>"
   ]
  },
  {
   "cell_type": "code",
   "execution_count": null,
   "metadata": {},
   "outputs": [],
   "source": [
    "# Citation: https://github.com/UdiBhaskar/Human-Activity-Recognition--Using-Deep-NN"
   ]
  },
  {
   "cell_type": "markdown",
   "metadata": {},
   "source": [
    "In the dataset, Y_labels are represented as numbers from 1 to 6 as their identifiers.  \n",
    "WALKING as 1  \n",
    "WALKING_UPSTAIRS as 2  \n",
    "WALKING_DOWNSTAIRS as 3  \n",
    "SITTING as 4  \n",
    "STANDING as 5  \n",
    "LAYING as 6    \n",
    "- in Data exploration section we observed that we can divide the data into dynamic and static type so divided walking, walking_upstairs and walking_downstairs into category 0 i.e Dynamic and sitting, standing and laying into category 1 i.e. static. \n",
    "- Will use 2 more classifiers separately for classifying classes of dynamic and static activities. so that model can learn differnt features for static and dynamic activities\n",
    "\n",
    "\n",
    "referred below paper  \n",
    "Divide and Conquer-Based 1D CNN Human Activity Recognition Using Test Data Sharpening ( https://www.mdpi.com/1424-8220/18/4/1055/pdf )"
   ]
  },
  {
   "cell_type": "code",
   "execution_count": 38,
   "metadata": {},
   "outputs": [],
   "source": [
    "import os\n",
    "os.environ['PYTHONHASHSEED'] = '0'\n",
    "import numpy as np\n",
    "import tensorflow as tf\n",
    "import random as rn\n",
    "np.random.seed(0)\n",
    "rn.seed(0)\n",
    "tf.set_random_seed(0)\n",
    "session_conf = tf.ConfigProto(intra_op_parallelism_threads=1,\n",
    "                              inter_op_parallelism_threads=1)\n",
    "\n",
    "from keras import backend as K\n",
    "\n",
    "# The below tf.set_random_seed() will make random number generation\n",
    "# in the TensorFlow backend have a well-defined initial state.\n",
    "# For further details, see:\n",
    "# https://www.tensorflow.org/api_docs/python/tf/set_random_seed\n",
    "\n",
    "tf.set_random_seed(0)\n",
    "\n",
    "sess = tf.Session(graph=tf.get_default_graph(), config=session_conf)\n",
    "K.set_session(sess)\n",
    "\n",
    "# Importing libraries\n",
    "import pandas as pd\n",
    "from matplotlib import pyplot\n",
    "from sklearn.preprocessing import StandardScaler\n",
    "from keras.models import Sequential\n",
    "from keras.layers import Dense\n",
    "from keras.layers import Flatten\n",
    "from keras.layers import Dropout\n",
    "from keras.layers.convolutional import Conv1D\n",
    "from keras.layers.convolutional import MaxPooling1D\n",
    "from keras.utils import to_categorical\n",
    "from keras.models import Sequential\n",
    "from keras.layers import LSTM\n",
    "from keras.layers.core import Dense, Dropout\n",
    "import pickle"
   ]
  },
  {
   "cell_type": "code",
   "execution_count": 39,
   "metadata": {},
   "outputs": [],
   "source": [
    "## Classifying data as 2 class dynamic vs static \n",
    "##data preparation\n",
    "def data_scaled_2class():\n",
    "    \"\"\"\n",
    "    Obtain the dataset from multiple files.\n",
    "    Returns: X_train, X_test, y_train, y_test\n",
    "    \"\"\"\n",
    "    # Data directory\n",
    "    DATADIR = 'UCI_HAR_Dataset'\n",
    "    # Raw data signals\n",
    "    # Signals are from Accelerometer and Gyroscope\n",
    "    # The signals are in x,y,z directions\n",
    "    # Sensor signals are filtered to have only body acceleration\n",
    "    # excluding the acceleration due to gravity\n",
    "    # Triaxial acceleration from the accelerometer is total acceleration\n",
    "    SIGNALS = [\n",
    "        \"body_acc_x\",\n",
    "        \"body_acc_y\",\n",
    "        \"body_acc_z\",\n",
    "        \"body_gyro_x\",\n",
    "        \"body_gyro_y\",\n",
    "        \"body_gyro_z\",\n",
    "        \"total_acc_x\",\n",
    "        \"total_acc_y\",\n",
    "        \"total_acc_z\"\n",
    "        ]\n",
    "    from sklearn.base import BaseEstimator, TransformerMixin\n",
    "    class scaling_tseries_data(BaseEstimator, TransformerMixin):\n",
    "        from sklearn.preprocessing import StandardScaler\n",
    "        def __init__(self):\n",
    "            self.scale = None\n",
    "\n",
    "        def transform(self, X):\n",
    "            temp_X1 = X.reshape((X.shape[0] * X.shape[1], X.shape[2]))\n",
    "            temp_X1 = self.scale.transform(temp_X1)\n",
    "            return temp_X1.reshape(X.shape)\n",
    "\n",
    "        def fit(self, X):\n",
    "            # remove overlaping\n",
    "            remove = int(X.shape[1] / 2)\n",
    "            temp_X = X[:, -remove:, :]\n",
    "            # flatten data\n",
    "            temp_X = temp_X.reshape((temp_X.shape[0] * temp_X.shape[1], temp_X.shape[2]))\n",
    "            scale = StandardScaler()\n",
    "            scale.fit(temp_X)\n",
    "            ##saving for furter usage\n",
    "            ## will use in predicton pipeline\n",
    "            pickle.dump(scale,open('Scale_2class.p','wb'))\n",
    "            self.scale = scale\n",
    "            return self\n",
    "        \n",
    "    # Utility function to read the data from csv file\n",
    "    def _read_csv(filename):\n",
    "        return pd.read_csv(filename, delim_whitespace=True, header=None)\n",
    "\n",
    "    # Utility function to load the load\n",
    "    def load_signals(subset):\n",
    "        signals_data = []\n",
    "\n",
    "        for signal in SIGNALS:\n",
    "            filename = f'UCI_HAR_Dataset/{subset}/Inertial Signals/{signal}_{subset}.txt'\n",
    "            signals_data.append( _read_csv(filename).as_matrix()) \n",
    "\n",
    "        # Transpose is used to change the dimensionality of the output,\n",
    "        # aggregating the signals by combination of sample/timestep.\n",
    "        # Resultant shape is (7352 train/2947 test samples, 128 timesteps, 9 signals)\n",
    "        return np.transpose(signals_data, (1, 2, 0))\n",
    "    \n",
    "    def load_y(subset):\n",
    "        \"\"\"\n",
    "        The objective that we are trying to predict is a integer, from 1 to 6,\n",
    "        that represents a human activity. We return a binary representation of \n",
    "        every sample objective as a 6 bits vector using One Hot Encoding\n",
    "        (https://pandas.pydata.org/pandas-docs/stable/generated/pandas.get_dummies.html)\n",
    "        \"\"\"\n",
    "        filename = f'UCI_HAR_Dataset/{subset}/y_{subset}.txt'\n",
    "        y = _read_csv(filename)[0]\n",
    "        y[y<=3] = 0\n",
    "        y[y>3] = 1\n",
    "        return pd.get_dummies(y).as_matrix()\n",
    "    \n",
    "    X_train_2c, X_val_2c = load_signals('train'), load_signals('test')\n",
    "    Y_train_2c, Y_val_2c = load_y('train'), load_y('test')\n",
    "    ###Scling data\n",
    "    Scale = scaling_tseries_data()\n",
    "    Scale.fit(X_train_2c)\n",
    "    X_train_2c = Scale.transform(X_train_2c)\n",
    "    X_val_2c = Scale.transform(X_val_2c)\n",
    "    return X_train_2c, Y_train_2c, X_val_2c,  Y_val_2c"
   ]
  },
  {
   "cell_type": "code",
   "execution_count": 40,
   "metadata": {},
   "outputs": [
    {
     "name": "stderr",
     "output_type": "stream",
     "text": [
      "/Users/mayankgupta/anaconda3/lib/python3.7/site-packages/ipykernel_launcher.py:62: FutureWarning: Method .as_matrix will be removed in a future version. Use .values instead.\n",
      "/Users/mayankgupta/anaconda3/lib/python3.7/site-packages/ipykernel_launcher.py:80: FutureWarning: Method .as_matrix will be removed in a future version. Use .values instead.\n"
     ]
    }
   ],
   "source": [
    "X_train_2c, Y_train_2c, X_val_2c,  Y_val_2c = data_scaled_2class()"
   ]
  },
  {
   "cell_type": "code",
   "execution_count": 41,
   "metadata": {},
   "outputs": [
    {
     "name": "stdout",
     "output_type": "stream",
     "text": [
      "(7352, 2)\n",
      "(2947, 2)\n"
     ]
    }
   ],
   "source": [
    "print(Y_train_2c.shape)\n",
    "print(Y_val_2c.shape)"
   ]
  },
  {
   "cell_type": "markdown",
   "metadata": {},
   "source": [
    "<h3> 1.4.4.1 Model for classifying data into Static and Dynamic activities</h3>"
   ]
  },
  {
   "cell_type": "code",
   "execution_count": 42,
   "metadata": {},
   "outputs": [
    {
     "name": "stdout",
     "output_type": "stream",
     "text": [
      "WARNING:tensorflow:Large dropout rate: 0.6 (>0.5). In TensorFlow 2.x, dropout() uses dropout rate instead of keep_prob. Please ensure that this is intended.\n",
      "WARNING:tensorflow:From /Users/mayankgupta/anaconda3/lib/python3.7/site-packages/keras/backend/tensorflow_backend.py:4070: The name tf.nn.max_pool is deprecated. Please use tf.nn.max_pool2d instead.\n",
      "\n",
      "Model: \"sequential_1\"\n",
      "_________________________________________________________________\n",
      "Layer (type)                 Output Shape              Param #   \n",
      "=================================================================\n",
      "conv1d_1 (Conv1D)            (None, 126, 32)           896       \n",
      "_________________________________________________________________\n",
      "conv1d_2 (Conv1D)            (None, 124, 32)           3104      \n",
      "_________________________________________________________________\n",
      "dropout_1 (Dropout)          (None, 124, 32)           0         \n",
      "_________________________________________________________________\n",
      "max_pooling1d_1 (MaxPooling1 (None, 62, 32)            0         \n",
      "_________________________________________________________________\n",
      "flatten_1 (Flatten)          (None, 1984)              0         \n",
      "_________________________________________________________________\n",
      "dense_1 (Dense)              (None, 50)                99250     \n",
      "_________________________________________________________________\n",
      "dense_2 (Dense)              (None, 2)                 102       \n",
      "=================================================================\n",
      "Total params: 103,352\n",
      "Trainable params: 103,352\n",
      "Non-trainable params: 0\n",
      "_________________________________________________________________\n"
     ]
    }
   ],
   "source": [
    "K.clear_session()\n",
    "np.random.seed(0)\n",
    "tf.set_random_seed(0)\n",
    "sess = tf.Session(graph=tf.get_default_graph())\n",
    "K.set_session(sess)\n",
    "model = Sequential()\n",
    "model.add(Conv1D(filters=32, kernel_size=3, activation='relu',kernel_initializer='he_uniform',input_shape=(128,9)))\n",
    "model.add(Conv1D(filters=32, kernel_size=3, activation='relu',kernel_initializer='he_uniform'))\n",
    "model.add(Dropout(0.6))\n",
    "model.add(MaxPooling1D(pool_size=2))\n",
    "model.add(Flatten())\n",
    "model.add(Dense(50, activation='relu'))\n",
    "model.add(Dense(2, activation='softmax'))\n",
    "model.summary()"
   ]
  },
  {
   "cell_type": "code",
   "execution_count": 44,
   "metadata": {},
   "outputs": [],
   "source": [
    "import keras\n",
    "import math\n",
    "adam = keras.optimizers.Adam(lr=0.001)"
   ]
  },
  {
   "cell_type": "code",
   "execution_count": 45,
   "metadata": {},
   "outputs": [
    {
     "name": "stdout",
     "output_type": "stream",
     "text": [
      "WARNING:tensorflow:From /Users/mayankgupta/anaconda3/lib/python3.7/site-packages/keras/backend/tensorflow_backend.py:422: The name tf.global_variables is deprecated. Please use tf.compat.v1.global_variables instead.\n",
      "\n",
      "Train on 7352 samples, validate on 2947 samples\n",
      "Epoch 1/20\n",
      "7352/7352 [==============================] - 4s 578us/step - loss: 0.0539 - accuracy: 0.9786 - val_loss: 0.0119 - val_accuracy: 0.9980\n",
      "Epoch 2/20\n",
      "7352/7352 [==============================] - 4s 537us/step - loss: 0.0016 - accuracy: 0.9993 - val_loss: 0.0181 - val_accuracy: 0.9959\n",
      "Epoch 3/20\n",
      "7352/7352 [==============================] - 4s 509us/step - loss: 0.0029 - accuracy: 0.9990 - val_loss: 0.0088 - val_accuracy: 0.9983\n",
      "Epoch 4/20\n",
      "7352/7352 [==============================] - 4s 554us/step - loss: 5.9931e-05 - accuracy: 1.0000 - val_loss: 0.0124 - val_accuracy: 0.9980\n",
      "Epoch 5/20\n",
      "7352/7352 [==============================] - 4s 517us/step - loss: 4.5958e-05 - accuracy: 1.0000 - val_loss: 0.0099 - val_accuracy: 0.9983\n",
      "Epoch 6/20\n",
      "7352/7352 [==============================] - 4s 511us/step - loss: 2.1727e-05 - accuracy: 1.0000 - val_loss: 0.0145 - val_accuracy: 0.9980\n",
      "Epoch 7/20\n",
      "7352/7352 [==============================] - 4s 555us/step - loss: 2.7385e-05 - accuracy: 1.0000 - val_loss: 0.0118 - val_accuracy: 0.9983\n",
      "Epoch 8/20\n",
      "7352/7352 [==============================] - 4s 535us/step - loss: 6.7310e-06 - accuracy: 1.0000 - val_loss: 0.0129 - val_accuracy: 0.9980\n",
      "Epoch 9/20\n",
      "7352/7352 [==============================] - 4s 492us/step - loss: 3.7717e-06 - accuracy: 1.0000 - val_loss: 0.0134 - val_accuracy: 0.9980\n",
      "Epoch 10/20\n",
      "7352/7352 [==============================] - 3s 454us/step - loss: 3.5783e-06 - accuracy: 1.0000 - val_loss: 0.0144 - val_accuracy: 0.9980\n",
      "Epoch 11/20\n",
      "7352/7352 [==============================] - 4s 500us/step - loss: 3.2247e-06 - accuracy: 1.0000 - val_loss: 0.0134 - val_accuracy: 0.9983\n",
      "Epoch 12/20\n",
      "7352/7352 [==============================] - 4s 477us/step - loss: 2.1792e-06 - accuracy: 1.0000 - val_loss: 0.0141 - val_accuracy: 0.9980\n",
      "Epoch 13/20\n",
      "7352/7352 [==============================] - 3s 446us/step - loss: 2.4201e-06 - accuracy: 1.0000 - val_loss: 0.0139 - val_accuracy: 0.9983\n",
      "Epoch 14/20\n",
      "7352/7352 [==============================] - 3s 441us/step - loss: 7.1608e-06 - accuracy: 1.0000 - val_loss: 0.0108 - val_accuracy: 0.9980\n",
      "Epoch 15/20\n",
      "7352/7352 [==============================] - 3s 474us/step - loss: 4.0267e-05 - accuracy: 1.0000 - val_loss: 0.0266 - val_accuracy: 0.9922\n",
      "Epoch 16/20\n",
      "7352/7352 [==============================] - 3s 458us/step - loss: 5.3435e-06 - accuracy: 1.0000 - val_loss: 0.0277 - val_accuracy: 0.9929\n",
      "Epoch 17/20\n",
      "7352/7352 [==============================] - 3s 447us/step - loss: 8.3254e-08 - accuracy: 1.0000 - val_loss: 0.0262 - val_accuracy: 0.9929\n",
      "Epoch 18/20\n",
      "7352/7352 [==============================] - 3s 442us/step - loss: 6.1464e-08 - accuracy: 1.0000 - val_loss: 0.0255 - val_accuracy: 0.9929\n",
      "Epoch 19/20\n",
      "7352/7352 [==============================] - 3s 442us/step - loss: 3.2607e-08 - accuracy: 1.0000 - val_loss: 0.0255 - val_accuracy: 0.9929\n",
      "Epoch 20/20\n",
      "7352/7352 [==============================] - 3s 449us/step - loss: 9.2603e-08 - accuracy: 1.0000 - val_loss: 0.0233 - val_accuracy: 0.9936\n"
     ]
    },
    {
     "data": {
      "text/plain": [
       "<keras.callbacks.callbacks.History at 0x1a2d0be160>"
      ]
     },
     "execution_count": 45,
     "metadata": {},
     "output_type": "execute_result"
    }
   ],
   "source": [
    "model.compile(loss='categorical_crossentropy', optimizer=adam, metrics=['accuracy'])\n",
    "model.fit(X_train_2c,Y_train_2c, epochs=20, batch_size=16,validation_data=(X_val_2c, Y_val_2c), verbose=1)"
   ]
  },
  {
   "cell_type": "code",
   "execution_count": 46,
   "metadata": {},
   "outputs": [
    {
     "name": "stdout",
     "output_type": "stream",
     "text": [
      "Train_accuracy 1.0 test_accuracy 0.9935527443885803\n"
     ]
    }
   ],
   "source": [
    "_,acc_val = model.evaluate(X_val_2c,Y_val_2c,verbose=0)\n",
    "_,acc_train = model.evaluate(X_train_2c,Y_train_2c,verbose=0)\n",
    "print('Train_accuracy',acc_train,'test_accuracy',acc_val)"
   ]
  },
  {
   "cell_type": "code",
   "execution_count": 47,
   "metadata": {},
   "outputs": [],
   "source": [
    "##saving model\n",
    "model.save('final_model_2class.h5')"
   ]
  },
  {
   "cell_type": "markdown",
   "metadata": {},
   "source": [
    "- Classification of Static and Dynamic Activities is Perfect, We got 99.35% accuracy on test data"
   ]
  },
  {
   "cell_type": "markdown",
   "metadata": {},
   "source": [
    "<h3>1.4.4.2 Model for Classifying Static Activities</h3>"
   ]
  },
  {
   "cell_type": "code",
   "execution_count": 48,
   "metadata": {},
   "outputs": [],
   "source": [
    "##data preparation\n",
    "def data_scaled_static():\n",
    "    \"\"\"\n",
    "    Obtain the dataset from multiple files.\n",
    "    Returns: X_train, X_test, y_train, y_test\n",
    "    \"\"\"\n",
    "    # Data directory\n",
    "    DATADIR = 'UCI_HAR_Dataset'\n",
    "    # Raw data signals\n",
    "    # Signals are from Accelerometer and Gyroscope\n",
    "    # The signals are in x,y,z directions\n",
    "    # Sensor signals are filtered to have only body acceleration\n",
    "    # excluding the acceleration due to gravity\n",
    "    # Triaxial acceleration from the accelerometer is total acceleration\n",
    "    SIGNALS = [\n",
    "        \"body_acc_x\",\n",
    "        \"body_acc_y\",\n",
    "        \"body_acc_z\",\n",
    "        \"body_gyro_x\",\n",
    "        \"body_gyro_y\",\n",
    "        \"body_gyro_z\",\n",
    "        \"total_acc_x\",\n",
    "        \"total_acc_y\",\n",
    "        \"total_acc_z\"\n",
    "        ]\n",
    "    from sklearn.base import BaseEstimator, TransformerMixin\n",
    "    class scaling_tseries_data(BaseEstimator, TransformerMixin):\n",
    "        from sklearn.preprocessing import StandardScaler\n",
    "        def __init__(self):\n",
    "            self.scale = None\n",
    "\n",
    "        def transform(self, X):\n",
    "            temp_X1 = X.reshape((X.shape[0] * X.shape[1], X.shape[2]))\n",
    "            temp_X1 = self.scale.transform(temp_X1)\n",
    "            return temp_X1.reshape(X.shape)\n",
    "\n",
    "        def fit(self, X):\n",
    "            # remove overlaping\n",
    "            remove = int(X.shape[1] / 2)\n",
    "            temp_X = X[:, -remove:, :]\n",
    "            # flatten data\n",
    "            temp_X = temp_X.reshape((temp_X.shape[0] * temp_X.shape[1], temp_X.shape[2]))\n",
    "            scale = StandardScaler()\n",
    "            scale.fit(temp_X)\n",
    "            #for furter use at prediction pipeline\n",
    "            pickle.dump(scale,open('Scale_static.p','wb'))\n",
    "            self.scale = scale\n",
    "            return self\n",
    "        \n",
    "    # Utility function to read the data from csv file\n",
    "    def _read_csv(filename):\n",
    "        return pd.read_csv(filename, delim_whitespace=True, header=None)\n",
    "\n",
    "    # Utility function to load the load\n",
    "    def load_signals(subset):\n",
    "        signals_data = []\n",
    "\n",
    "        for signal in SIGNALS:\n",
    "            filename = f'UCI_HAR_Dataset/{subset}/Inertial Signals/{signal}_{subset}.txt'\n",
    "            signals_data.append( _read_csv(filename).as_matrix()) \n",
    "\n",
    "        # Transpose is used to change the dimensionality of the output,\n",
    "        # aggregating the signals by combination of sample/timestep.\n",
    "        # Resultant shape is (7352 train/2947 test samples, 128 timesteps, 9 signals)\n",
    "        return np.transpose(signals_data, (1, 2, 0))\n",
    "    \n",
    "    def load_y(subset):\n",
    "        \"\"\"\n",
    "        The objective that we are trying to predict is a integer, from 1 to 6,\n",
    "        that represents a human activity. We return a binary representation of \n",
    "        every sample objective as a 6 bits vector using One Hot Encoding\n",
    "        (https://pandas.pydata.org/pandas-docs/stable/generated/pandas.get_dummies.html)\n",
    "        \"\"\"\n",
    "        filename = f'UCI_HAR_Dataset/{subset}/y_{subset}.txt'\n",
    "        y = _read_csv(filename)[0]\n",
    "        y_subset = y>3\n",
    "        y = y[y_subset]\n",
    "        return pd.get_dummies(y).as_matrix(),y_subset\n",
    "    \n",
    "    Y_train_s,y_train_sub = load_y('train')\n",
    "    Y_val_s,y_test_sub = load_y('test')\n",
    "    X_train_s, X_val_s = load_signals('train'), load_signals('test')\n",
    "    X_train_s = X_train_s[y_train_sub]\n",
    "    X_val_s = X_val_s[y_test_sub]\n",
    "    \n",
    "    ###Scling data\n",
    "    Scale = scaling_tseries_data()\n",
    "    Scale.fit(X_train_s)\n",
    "    X_train_s = Scale.transform(X_train_s)\n",
    "    X_val_s = Scale.transform(X_val_s)\n",
    "\n",
    "    return X_train_s, Y_train_s, X_val_s,  Y_val_s"
   ]
  },
  {
   "cell_type": "code",
   "execution_count": 49,
   "metadata": {},
   "outputs": [
    {
     "name": "stderr",
     "output_type": "stream",
     "text": [
      "/Users/mayankgupta/anaconda3/lib/python3.7/site-packages/ipykernel_launcher.py:78: FutureWarning: Method .as_matrix will be removed in a future version. Use .values instead.\n",
      "/Users/mayankgupta/anaconda3/lib/python3.7/site-packages/ipykernel_launcher.py:60: FutureWarning: Method .as_matrix will be removed in a future version. Use .values instead.\n"
     ]
    }
   ],
   "source": [
    "X_train_s, Y_train_s, X_val_s,  Y_val_s = data_scaled_static()"
   ]
  },
  {
   "cell_type": "code",
   "execution_count": 50,
   "metadata": {},
   "outputs": [
    {
     "name": "stdout",
     "output_type": "stream",
     "text": [
      "X Shape of train data (4067, 128, 9) Y shape (4067, 3)\n",
      "X Shape of val data (1560, 128, 9) Y shape (1560, 3)\n"
     ]
    }
   ],
   "source": [
    "print('X Shape of train data',X_train_s.shape, 'Y shape', Y_train_s.shape)\n",
    "print('X Shape of val data',X_val_s.shape,'Y shape',Y_val_s.shape)"
   ]
  },
  {
   "cell_type": "markdown",
   "metadata": {},
   "source": [
    "- Model to distinguish Static Activities"
   ]
  },
  {
   "cell_type": "code",
   "execution_count": 55,
   "metadata": {},
   "outputs": [
    {
     "name": "stdout",
     "output_type": "stream",
     "text": [
      "WARNING:tensorflow:Large dropout rate: 0.6 (>0.5). In TensorFlow 2.x, dropout() uses dropout rate instead of keep_prob. Please ensure that this is intended.\n",
      "Model: \"sequential_1\"\n",
      "_________________________________________________________________\n",
      "Layer (type)                 Output Shape              Param #   \n",
      "=================================================================\n",
      "conv1d_1 (Conv1D)            (None, 122, 64)           4096      \n",
      "_________________________________________________________________\n",
      "conv1d_2 (Conv1D)            (None, 120, 32)           6176      \n",
      "_________________________________________________________________\n",
      "dropout_1 (Dropout)          (None, 120, 32)           0         \n",
      "_________________________________________________________________\n",
      "max_pooling1d_1 (MaxPooling1 (None, 40, 32)            0         \n",
      "_________________________________________________________________\n",
      "flatten_1 (Flatten)          (None, 1280)              0         \n",
      "_________________________________________________________________\n",
      "dense_1 (Dense)              (None, 30)                38430     \n",
      "_________________________________________________________________\n",
      "dense_2 (Dense)              (None, 3)                 93        \n",
      "=================================================================\n",
      "Total params: 48,795\n",
      "Trainable params: 48,795\n",
      "Non-trainable params: 0\n",
      "_________________________________________________________________\n"
     ]
    }
   ],
   "source": [
    "np.random.seed(0)\n",
    "tf.set_random_seed(0)\n",
    "sess = tf.Session(graph=tf.get_default_graph())\n",
    "K.set_session(sess)\n",
    "model = Sequential()\n",
    "model.add(Conv1D(filters=64, kernel_size=7, activation='relu',kernel_initializer='he_uniform',input_shape=(128,9)))\n",
    "model.add(Conv1D(filters=32, kernel_size=3, activation='relu',kernel_initializer='he_uniform'))\n",
    "model.add(Dropout(0.6))\n",
    "model.add(MaxPooling1D(pool_size=3))\n",
    "model.add(Flatten())\n",
    "model.add(Dense(30, activation='relu'))\n",
    "model.add(Dense(3, activation='softmax'))\n",
    "model.summary()"
   ]
  },
  {
   "cell_type": "code",
   "execution_count": 56,
   "metadata": {},
   "outputs": [
    {
     "name": "stdout",
     "output_type": "stream",
     "text": [
      "Train on 4067 samples, validate on 1560 samples\n",
      "Epoch 1/20\n",
      "4067/4067 [==============================] - 2s 512us/step - loss: 0.3530 - accuracy: 0.8832 - val_loss: 0.3818 - val_accuracy: 0.8769\n",
      "Epoch 2/20\n",
      "4067/4067 [==============================] - 2s 453us/step - loss: 0.2075 - accuracy: 0.9201 - val_loss: 0.2615 - val_accuracy: 0.9071\n",
      "Epoch 3/20\n",
      "4067/4067 [==============================] - 2s 486us/step - loss: 0.1686 - accuracy: 0.9339 - val_loss: 0.2577 - val_accuracy: 0.9083\n",
      "Epoch 4/20\n",
      "4067/4067 [==============================] - 2s 470us/step - loss: 0.1643 - accuracy: 0.9380 - val_loss: 0.2115 - val_accuracy: 0.9186\n",
      "Epoch 5/20\n",
      "4067/4067 [==============================] - 2s 470us/step - loss: 0.1443 - accuracy: 0.9474 - val_loss: 0.2745 - val_accuracy: 0.8910\n",
      "Epoch 6/20\n",
      "4067/4067 [==============================] - 2s 471us/step - loss: 0.3227 - accuracy: 0.9066 - val_loss: 0.3478 - val_accuracy: 0.8936\n",
      "Epoch 7/20\n",
      "4067/4067 [==============================] - 2s 478us/step - loss: 0.1945 - accuracy: 0.9280 - val_loss: 0.2830 - val_accuracy: 0.9058\n",
      "Epoch 8/20\n",
      "4067/4067 [==============================] - 2s 544us/step - loss: 0.1619 - accuracy: 0.9442 - val_loss: 0.2203 - val_accuracy: 0.9212\n",
      "Epoch 9/20\n",
      "4067/4067 [==============================] - 2s 451us/step - loss: 0.1364 - accuracy: 0.9481 - val_loss: 0.2200 - val_accuracy: 0.9333\n",
      "Epoch 10/20\n",
      "4067/4067 [==============================] - 2s 481us/step - loss: 0.1266 - accuracy: 0.9521 - val_loss: 0.2404 - val_accuracy: 0.9423\n",
      "Epoch 11/20\n",
      "4067/4067 [==============================] - 3s 828us/step - loss: 0.1197 - accuracy: 0.9518 - val_loss: 0.2196 - val_accuracy: 0.9301\n",
      "Epoch 12/20\n",
      "4067/4067 [==============================] - 2s 578us/step - loss: 0.1089 - accuracy: 0.9557 - val_loss: 0.2015 - val_accuracy: 0.9429\n",
      "Epoch 13/20\n",
      "4067/4067 [==============================] - 2s 525us/step - loss: 0.1163 - accuracy: 0.9592 - val_loss: 0.2243 - val_accuracy: 0.9115\n",
      "Epoch 14/20\n",
      "4067/4067 [==============================] - 2s 516us/step - loss: 0.0980 - accuracy: 0.9614 - val_loss: 0.1789 - val_accuracy: 0.9391\n",
      "Epoch 15/20\n",
      "4067/4067 [==============================] - 2s 516us/step - loss: 0.1119 - accuracy: 0.9604 - val_loss: 0.2233 - val_accuracy: 0.9026\n",
      "Epoch 16/20\n",
      "4067/4067 [==============================] - 2s 568us/step - loss: 0.1072 - accuracy: 0.9616 - val_loss: 0.2737 - val_accuracy: 0.9237\n",
      "Epoch 17/20\n",
      "4067/4067 [==============================] - 2s 493us/step - loss: 0.1385 - accuracy: 0.9567 - val_loss: 0.1999 - val_accuracy: 0.9506\n",
      "Epoch 18/20\n",
      "4067/4067 [==============================] - 2s 551us/step - loss: 0.0941 - accuracy: 0.9648 - val_loss: 0.1996 - val_accuracy: 0.9141\n",
      "Epoch 19/20\n",
      "4067/4067 [==============================] - 2s 524us/step - loss: 0.0780 - accuracy: 0.9693 - val_loss: 0.1935 - val_accuracy: 0.9372\n",
      "Epoch 20/20\n",
      "4067/4067 [==============================] - 3s 623us/step - loss: 0.0796 - accuracy: 0.9727 - val_loss: 0.2464 - val_accuracy: 0.9263\n"
     ]
    },
    {
     "data": {
      "text/plain": [
       "<keras.callbacks.callbacks.History at 0x1a2e467828>"
      ]
     },
     "execution_count": 56,
     "metadata": {},
     "output_type": "execute_result"
    }
   ],
   "source": [
    "import math\n",
    "adam = keras.optimizers.Adam(lr=0.004)\n",
    "model.compile(loss='categorical_crossentropy', optimizer=adam, metrics=['accuracy'])\n",
    "model.fit(X_train_s,Y_train_s, epochs=20, batch_size=32,validation_data=(X_val_s, Y_val_s), verbose=1)\n",
    "# K.clear_session()"
   ]
  },
  {
   "cell_type": "code",
   "execution_count": 57,
   "metadata": {},
   "outputs": [
    {
     "name": "stdout",
     "output_type": "stream",
     "text": [
      "Train_accuracy 0.9675436615943909 test_accuracy 0.9262820482254028\n"
     ]
    }
   ],
   "source": [
    "_,acc_val = model.evaluate(X_val_s, Y_val_s,verbose=0)\n",
    "_,acc_train = model.evaluate(X_train_s,Y_train_s,verbose=0)\n",
    "print('Train_accuracy',acc_train,'test_accuracy',acc_val)"
   ]
  },
  {
   "cell_type": "code",
   "execution_count": 58,
   "metadata": {},
   "outputs": [],
   "source": [
    "##saving model\n",
    "model.save('final_model_static.h5')"
   ]
  },
  {
   "cell_type": "code",
   "execution_count": 62,
   "metadata": {},
   "outputs": [],
   "source": [
    "# clear tf session\n",
    "K.clear_session()"
   ]
  },
  {
   "cell_type": "markdown",
   "metadata": {},
   "source": [
    "- Simple model gives us approx. 93% accuracy for classifying Static Activities"
   ]
  },
  {
   "cell_type": "markdown",
   "metadata": {},
   "source": [
    "<h3>1.4.4.3 Model for Classifying Dynamic Activities</h3>"
   ]
  },
  {
   "cell_type": "code",
   "execution_count": 59,
   "metadata": {},
   "outputs": [],
   "source": [
    "##data preparation\n",
    "def data_scaled_dynamic():\n",
    "    \"\"\"\n",
    "    Obtain the dataset from multiple files.\n",
    "    Returns: X_train, X_test, y_train, y_test\n",
    "    \"\"\"\n",
    "    # Data directory\n",
    "    DATADIR = 'UCI_HAR_Dataset'\n",
    "    # Raw data signals\n",
    "    # Signals are from Accelerometer and Gyroscope\n",
    "    # The signals are in x,y,z directions\n",
    "    # Sensor signals are filtered to have only body acceleration\n",
    "    # excluding the acceleration due to gravity\n",
    "    # Triaxial acceleration from the accelerometer is total acceleration\n",
    "    SIGNALS = [\n",
    "        \"body_acc_x\",\n",
    "        \"body_acc_y\",\n",
    "        \"body_acc_z\",\n",
    "        \"body_gyro_x\",\n",
    "        \"body_gyro_y\",\n",
    "        \"body_gyro_z\",\n",
    "        \"total_acc_x\",\n",
    "        \"total_acc_y\",\n",
    "        \"total_acc_z\"\n",
    "        ]\n",
    "    from sklearn.base import BaseEstimator, TransformerMixin\n",
    "    class scaling_tseries_data(BaseEstimator, TransformerMixin):\n",
    "        from sklearn.preprocessing import StandardScaler\n",
    "        def __init__(self):\n",
    "            self.scale = None\n",
    "\n",
    "        def transform(self, X):\n",
    "            temp_X1 = X.reshape((X.shape[0] * X.shape[1], X.shape[2]))\n",
    "            temp_X1 = self.scale.transform(temp_X1)\n",
    "            return temp_X1.reshape(X.shape)\n",
    "\n",
    "        def fit(self, X):\n",
    "            # remove overlaping\n",
    "            remove = int(X.shape[1] / 2)\n",
    "            temp_X = X[:, -remove:, :]\n",
    "            # flatten data\n",
    "            temp_X = temp_X.reshape((temp_X.shape[0] * temp_X.shape[1], temp_X.shape[2]))\n",
    "            scale = StandardScaler()\n",
    "            scale.fit(temp_X)\n",
    "            pickle.dump(scale,open('Scale_dynamic.p','wb'))\n",
    "            self.scale = scale\n",
    "            return self\n",
    "        \n",
    "    # Utility function to read the data from csv file\n",
    "    def _read_csv(filename):\n",
    "        return pd.read_csv(filename, delim_whitespace=True, header=None)\n",
    "\n",
    "    # Utility function to load the load\n",
    "    def load_signals(subset):\n",
    "        signals_data = []\n",
    "\n",
    "        for signal in SIGNALS:\n",
    "            filename = f'UCI_HAR_Dataset/{subset}/Inertial Signals/{signal}_{subset}.txt'\n",
    "            signals_data.append( _read_csv(filename).as_matrix()) \n",
    "\n",
    "        # Transpose is used to change the dimensionality of the output,\n",
    "        # aggregating the signals by combination of sample/timestep.\n",
    "        # Resultant shape is (7352 train/2947 test samples, 128 timesteps, 9 signals)\n",
    "        return np.transpose(signals_data, (1, 2, 0))\n",
    "    \n",
    "    def load_y(subset):\n",
    "        \"\"\"\n",
    "        The objective that we are trying to predict is a integer, from 1 to 6,\n",
    "        that represents a human activity. We return a binary representation of \n",
    "        every sample objective as a 6 bits vector using One Hot Encoding\n",
    "        (https://pandas.pydata.org/pandas-docs/stable/generated/pandas.get_dummies.html)\n",
    "        \"\"\"\n",
    "        filename = f'UCI_HAR_Dataset/{subset}/y_{subset}.txt'\n",
    "        y = _read_csv(filename)[0]\n",
    "        y_subset = y<=3\n",
    "        y = y[y_subset]\n",
    "        return pd.get_dummies(y).as_matrix(),y_subset\n",
    "    \n",
    "    Y_train_d,y_train_sub = load_y('train')\n",
    "    Y_val_d,y_test_sub = load_y('test')\n",
    "    X_train_d, X_val_d = load_signals('train'), load_signals('test')\n",
    "    X_train_d = X_train_d[y_train_sub]\n",
    "    X_val_d = X_val_d[y_test_sub]\n",
    "    \n",
    "    ###Scling data\n",
    "    Scale = scaling_tseries_data()\n",
    "    Scale.fit(X_train_d)\n",
    "    X_train_d = Scale.transform(X_train_d)\n",
    "    X_val_d = Scale.transform(X_val_d)\n",
    "\n",
    "    return X_train_d, Y_train_d, X_val_d,  Y_val_d"
   ]
  },
  {
   "cell_type": "code",
   "execution_count": 60,
   "metadata": {},
   "outputs": [
    {
     "name": "stderr",
     "output_type": "stream",
     "text": [
      "/Users/mayankgupta/anaconda3/lib/python3.7/site-packages/ipykernel_launcher.py:77: FutureWarning: Method .as_matrix will be removed in a future version. Use .values instead.\n",
      "/Users/mayankgupta/anaconda3/lib/python3.7/site-packages/ipykernel_launcher.py:59: FutureWarning: Method .as_matrix will be removed in a future version. Use .values instead.\n"
     ]
    }
   ],
   "source": [
    "X_train_d, Y_train_d, X_val_d,  Y_val_d = data_scaled_dynamic()"
   ]
  },
  {
   "cell_type": "code",
   "execution_count": 61,
   "metadata": {},
   "outputs": [
    {
     "name": "stdout",
     "output_type": "stream",
     "text": [
      "Train X shape (3285, 128, 9) Test X shape (1387, 128, 9)\n",
      "Train Y shape (3285, 3) Test Y shape (1387, 3)\n"
     ]
    }
   ],
   "source": [
    "print('Train X shape',X_train_d.shape,'Test X shape',X_val_d.shape)\n",
    "print('Train Y shape',Y_train_d.shape,'Test Y shape',Y_val_d.shape)"
   ]
  },
  {
   "cell_type": "markdown",
   "metadata": {},
   "source": [
    "- Model to distinguish Dynamic Activities"
   ]
  },
  {
   "cell_type": "code",
   "execution_count": 70,
   "metadata": {},
   "outputs": [
    {
     "name": "stdout",
     "output_type": "stream",
     "text": [
      "WARNING:tensorflow:Large dropout rate: 0.6 (>0.5). In TensorFlow 2.x, dropout() uses dropout rate instead of keep_prob. Please ensure that this is intended.\n",
      "Model: \"sequential_1\"\n",
      "_________________________________________________________________\n",
      "Layer (type)                 Output Shape              Param #   \n",
      "=================================================================\n",
      "conv1d_1 (Conv1D)            (None, 122, 64)           4096      \n",
      "_________________________________________________________________\n",
      "conv1d_2 (Conv1D)            (None, 120, 32)           6176      \n",
      "_________________________________________________________________\n",
      "dropout_1 (Dropout)          (None, 120, 32)           0         \n",
      "_________________________________________________________________\n",
      "max_pooling1d_1 (MaxPooling1 (None, 40, 32)            0         \n",
      "_________________________________________________________________\n",
      "flatten_1 (Flatten)          (None, 1280)              0         \n",
      "_________________________________________________________________\n",
      "dense_1 (Dense)              (None, 30)                38430     \n",
      "_________________________________________________________________\n",
      "dense_2 (Dense)              (None, 3)                 93        \n",
      "=================================================================\n",
      "Total params: 48,795\n",
      "Trainable params: 48,795\n",
      "Non-trainable params: 0\n",
      "_________________________________________________________________\n"
     ]
    }
   ],
   "source": [
    "np.random.seed(0)\n",
    "tf.set_random_seed(0)\n",
    "sess = tf.Session(graph=tf.get_default_graph())\n",
    "K.set_session(sess)\n",
    "model = Sequential()\n",
    "model.add(Conv1D(filters=64, kernel_size=7, activation='relu',kernel_initializer='he_uniform',input_shape=(128,9)))\n",
    "model.add(Conv1D(filters=32, kernel_size=3, activation='relu',kernel_initializer='he_uniform'))\n",
    "model.add(Dropout(0.6))\n",
    "model.add(MaxPooling1D(pool_size=3))\n",
    "model.add(Flatten())\n",
    "model.add(Dense(30, activation='relu'))\n",
    "model.add(Dense(3, activation='softmax'))\n",
    "model.summary()"
   ]
  },
  {
   "cell_type": "code",
   "execution_count": 71,
   "metadata": {},
   "outputs": [
    {
     "name": "stdout",
     "output_type": "stream",
     "text": [
      "Train on 3285 samples, validate on 1387 samples\n",
      "Epoch 1/20\n",
      "3285/3285 [==============================] - 2s 457us/step - loss: 0.4220 - accuracy: 0.8311 - val_loss: 0.1392 - val_accuracy: 0.9575\n",
      "Epoch 2/20\n",
      "3285/3285 [==============================] - 1s 370us/step - loss: 0.0158 - accuracy: 0.9951 - val_loss: 0.1695 - val_accuracy: 0.9416\n",
      "Epoch 3/20\n",
      "3285/3285 [==============================] - 1s 429us/step - loss: 0.0051 - accuracy: 0.9997 - val_loss: 0.1024 - val_accuracy: 0.9719\n",
      "Epoch 4/20\n",
      "3285/3285 [==============================] - 2s 464us/step - loss: 0.0278 - accuracy: 0.9927 - val_loss: 0.0937 - val_accuracy: 0.9697\n",
      "Epoch 5/20\n",
      "3285/3285 [==============================] - 1s 427us/step - loss: 0.0287 - accuracy: 0.9906 - val_loss: 0.4331 - val_accuracy: 0.9063\n",
      "Epoch 6/20\n",
      "3285/3285 [==============================] - 1s 400us/step - loss: 0.0362 - accuracy: 0.9884 - val_loss: 0.1671 - val_accuracy: 0.9668\n",
      "Epoch 7/20\n",
      "3285/3285 [==============================] - 1s 404us/step - loss: 0.0066 - accuracy: 0.9979 - val_loss: 0.1580 - val_accuracy: 0.9603\n",
      "Epoch 8/20\n",
      "3285/3285 [==============================] - 1s 380us/step - loss: 0.0021 - accuracy: 0.9988 - val_loss: 0.1128 - val_accuracy: 0.9697\n",
      "Epoch 9/20\n",
      "3285/3285 [==============================] - 1s 370us/step - loss: 2.2523e-04 - accuracy: 1.0000 - val_loss: 0.1300 - val_accuracy: 0.9704\n",
      "Epoch 10/20\n",
      "3285/3285 [==============================] - 1s 374us/step - loss: 0.0170 - accuracy: 0.9939 - val_loss: 0.2181 - val_accuracy: 0.9301\n",
      "Epoch 11/20\n",
      "3285/3285 [==============================] - 1s 386us/step - loss: 0.0238 - accuracy: 0.9951 - val_loss: 0.1424 - val_accuracy: 0.9474\n",
      "Epoch 12/20\n",
      "3285/3285 [==============================] - 1s 377us/step - loss: 0.0117 - accuracy: 0.9960 - val_loss: 0.1054 - val_accuracy: 0.9668\n",
      "Epoch 13/20\n",
      "3285/3285 [==============================] - 1s 375us/step - loss: 0.0013 - accuracy: 0.9997 - val_loss: 0.1528 - val_accuracy: 0.9632\n",
      "Epoch 14/20\n",
      "3285/3285 [==============================] - 1s 395us/step - loss: 0.0032 - accuracy: 0.9994 - val_loss: 0.1311 - val_accuracy: 0.9625\n",
      "Epoch 15/20\n",
      "3285/3285 [==============================] - 1s 362us/step - loss: 5.3622e-04 - accuracy: 1.0000 - val_loss: 0.1327 - val_accuracy: 0.9567\n",
      "Epoch 16/20\n",
      "3285/3285 [==============================] - 1s 404us/step - loss: 2.1511e-04 - accuracy: 1.0000 - val_loss: 0.1358 - val_accuracy: 0.9618\n",
      "Epoch 17/20\n",
      "3285/3285 [==============================] - 1s 365us/step - loss: 0.0189 - accuracy: 0.9954 - val_loss: 0.2842 - val_accuracy: 0.9603\n",
      "Epoch 18/20\n",
      "3285/3285 [==============================] - 2s 464us/step - loss: 0.0798 - accuracy: 0.9839 - val_loss: 0.1521 - val_accuracy: 0.9553\n",
      "Epoch 19/20\n",
      "3285/3285 [==============================] - 1s 336us/step - loss: 8.9970e-04 - accuracy: 0.9997 - val_loss: 0.1204 - val_accuracy: 0.9712\n",
      "Epoch 20/20\n",
      "3285/3285 [==============================] - 1s 309us/step - loss: 1.5743e-04 - accuracy: 1.0000 - val_loss: 0.0843 - val_accuracy: 0.9755\n"
     ]
    },
    {
     "data": {
      "text/plain": [
       "<keras.callbacks.callbacks.History at 0x1a2f9728d0>"
      ]
     },
     "execution_count": 71,
     "metadata": {},
     "output_type": "execute_result"
    }
   ],
   "source": [
    "import math\n",
    "adam = keras.optimizers.Adam(lr=0.004)\n",
    "model.compile(loss='categorical_crossentropy', optimizer=adam, metrics=['accuracy'])\n",
    "model.fit(X_train_d,Y_train_d, epochs=20, batch_size=32,validation_data=(X_val_d, Y_val_d), verbose=1)\n",
    "# K.clear_session()"
   ]
  },
  {
   "cell_type": "code",
   "execution_count": 72,
   "metadata": {},
   "outputs": [
    {
     "name": "stdout",
     "output_type": "stream",
     "text": [
      "Train_accuracy 1.0 test_accuracy 0.9754866361618042\n"
     ]
    }
   ],
   "source": [
    "_,acc_val = model.evaluate(X_val_d, Y_val_d,verbose=0)\n",
    "_,acc_train = model.evaluate(X_train_d,Y_train_d,verbose=0)\n",
    "print('Train_accuracy',acc_train,'test_accuracy',acc_val)"
   ]
  },
  {
   "cell_type": "code",
   "execution_count": 73,
   "metadata": {},
   "outputs": [],
   "source": [
    "##saving model\n",
    "model.save('final_model_dynamic.h5')"
   ]
  },
  {
   "cell_type": "code",
   "execution_count": 74,
   "metadata": {},
   "outputs": [],
   "source": [
    "# clear tf session\n",
    "K.clear_session()"
   ]
  },
  {
   "cell_type": "markdown",
   "metadata": {},
   "source": [
    "<h3>1.4.4.4 Load and Split whole data </h3>"
   ]
  },
  {
   "cell_type": "code",
   "execution_count": 75,
   "metadata": {},
   "outputs": [],
   "source": [
    "def data():\n",
    "    \"\"\"\n",
    "    Obtain the dataset from multiple files.\n",
    "    Returns: X_train, X_test, y_train, y_test\n",
    "    \"\"\"\n",
    "    # Data directory\n",
    "    DATADIR = 'UCI_HAR_Dataset'\n",
    "    # Raw data signals\n",
    "    # Signals are from Accelerometer and Gyroscope\n",
    "    # The signals are in x,y,z directions\n",
    "    # Sensor signals are filtered to have only body acceleration\n",
    "    # excluding the acceleration due to gravity\n",
    "    # Triaxial acceleration from the accelerometer is total acceleration\n",
    "    SIGNALS = [\n",
    "        \"body_acc_x\",\n",
    "        \"body_acc_y\",\n",
    "        \"body_acc_z\",\n",
    "        \"body_gyro_x\",\n",
    "        \"body_gyro_y\",\n",
    "        \"body_gyro_z\",\n",
    "        \"total_acc_x\",\n",
    "        \"total_acc_y\",\n",
    "        \"total_acc_z\"\n",
    "        ]\n",
    "    # Utility function to read the data from csv file\n",
    "    def _read_csv(filename):\n",
    "        return pd.read_csv(filename, delim_whitespace=True, header=None)\n",
    "\n",
    "    # Utility function to load the load\n",
    "    def load_signals(subset):\n",
    "        signals_data = []\n",
    "\n",
    "        for signal in SIGNALS:\n",
    "            filename = f'UCI_HAR_Dataset/{subset}/Inertial Signals/{signal}_{subset}.txt'\n",
    "            signals_data.append( _read_csv(filename).as_matrix()) \n",
    "\n",
    "        # Transpose is used to change the dimensionality of the output,\n",
    "        # aggregating the signals by combination of sample/timestep.\n",
    "        # Resultant shape is (7352 train/2947 test samples, 128 timesteps, 9 signals)\n",
    "        return np.transpose(signals_data, (1, 2, 0))\n",
    "    \n",
    "    def load_y(subset):\n",
    "        \"\"\"\n",
    "        The objective that we are trying to predict is a integer, from 1 to 6,\n",
    "        that represents a human activity. We return a binary representation of \n",
    "        every sample objective as a 6 bits vector using One Hot Encoding\n",
    "        (https://pandas.pydata.org/pandas-docs/stable/generated/pandas.get_dummies.html)\n",
    "        \"\"\"\n",
    "        filename = f'UCI_HAR_Dataset/{subset}/y_{subset}.txt'\n",
    "        y = _read_csv(filename)[0]\n",
    "        return y\n",
    "    \n",
    "    X_train, X_val = load_signals('train'), load_signals('test')\n",
    "    Y_train, Y_val = load_y('train'), load_y('test')\n",
    "\n",
    "    return X_train, Y_train, X_val,  Y_val"
   ]
  },
  {
   "cell_type": "code",
   "execution_count": 76,
   "metadata": {},
   "outputs": [
    {
     "name": "stderr",
     "output_type": "stream",
     "text": [
      "/Users/mayankgupta/anaconda3/lib/python3.7/site-packages/ipykernel_launcher.py:35: FutureWarning: Method .as_matrix will be removed in a future version. Use .values instead.\n"
     ]
    }
   ],
   "source": [
    "X_train, Y_train, X_val,  Y_val = data()"
   ]
  },
  {
   "cell_type": "code",
   "execution_count": 78,
   "metadata": {},
   "outputs": [
    {
     "name": "stdout",
     "output_type": "stream",
     "text": [
      "shape of train X (7352, 128, 9) shape of train Y (7352,)\n",
      "shape of test X (2947, 128, 9) shape of test Y (2947,)\n"
     ]
    }
   ],
   "source": [
    "print('shape of train X',X_train.shape, 'shape of train Y',Y_train.shape)\n",
    "print('shape of test X', X_val.shape, 'shape of test Y', Y_val.shape)"
   ]
  },
  {
   "cell_type": "markdown",
   "metadata": {},
   "source": [
    "<h3>1.4.4.5 Final prediction pipeline </h3>"
   ]
  },
  {
   "cell_type": "code",
   "execution_count": 79,
   "metadata": {},
   "outputs": [],
   "source": [
    "##loading keras models and picle files for scaling data \n",
    "from keras.models import load_model\n",
    "import pickle\n",
    "model_2class = load_model('final_model_2class.h5')\n",
    "model_dynamic = load_model('final_model_dynamic.h5')\n",
    "model_static = load_model('final_model_static.h5')\n",
    "scale_2class = pickle.load(open('Scale_2class.p','rb'))\n",
    "scale_static = pickle.load(open('Scale_static.p','rb'))\n",
    "scale_dynamic = pickle.load(open('Scale_dynamic.p','rb'))"
   ]
  },
  {
   "cell_type": "code",
   "execution_count": 80,
   "metadata": {},
   "outputs": [],
   "source": [
    "##scaling the data\n",
    "def transform_data(X,scale):\n",
    "    X_temp = X.reshape((X.shape[0] * X.shape[1], X.shape[2]))\n",
    "    X_temp = scale.transform(X_temp)\n",
    "    return X_temp.reshape(X.shape)"
   ]
  },
  {
   "cell_type": "code",
   "execution_count": 81,
   "metadata": {},
   "outputs": [],
   "source": [
    "#predicting output activity\n",
    "def predict_activity(X):\n",
    "    ##predicting whether dynamic or static\n",
    "    predict_2class = model_2class.predict(transform_data(X,scale_2class))\n",
    "    Y_pred_2class =  np.argmax(predict_2class, axis=1)\n",
    "    #static data filter\n",
    "    X_static = X[Y_pred_2class==1]\n",
    "    #dynamic data filter\n",
    "    X_dynamic = X[Y_pred_2class==0]\n",
    "    #predicting static activities\n",
    "    predict_static = model_static.predict(transform_data(X_static,scale_static))\n",
    "    predict_static = np.argmax(predict_static,axis=1)\n",
    "    #adding 4 because need to get inal prediction lable as output\n",
    "    predict_static = predict_static + 4\n",
    "    #predicting dynamic activites\n",
    "    predict_dynamic = model_dynamic.predict(transform_data(X_dynamic,scale_dynamic))\n",
    "    predict_dynamic = np.argmax(predict_dynamic,axis=1)\n",
    "    #adding 1 because need to get inal prediction lable as output\n",
    "    predict_dynamic = predict_dynamic + 1\n",
    "    ##appending final output to one list in the same sequence of input data\n",
    "    i,j = 0,0 \n",
    "    final_pred = []\n",
    "    for mask in Y_pred_2class:\n",
    "        if mask == 1:\n",
    "            final_pred.append(predict_static[i])\n",
    "            i = i + 1\n",
    "        else:\n",
    "            final_pred.append(predict_dynamic[j])\n",
    "            j = j + 1 \n",
    "    return final_pred"
   ]
  },
  {
   "cell_type": "code",
   "execution_count": 82,
   "metadata": {},
   "outputs": [],
   "source": [
    "##predicting \n",
    "final_pred_val = predict_activity(X_val)\n",
    "final_pred_train = predict_activity(X_train)"
   ]
  },
  {
   "cell_type": "code",
   "execution_count": 83,
   "metadata": {},
   "outputs": [
    {
     "name": "stdout",
     "output_type": "stream",
     "text": [
      "Accuracy of train data 0.9820457018498367\n",
      "Accuracy of validation data 0.9443501866304717\n"
     ]
    }
   ],
   "source": [
    "##accuracy of train and test\n",
    "from sklearn.metrics import accuracy_score\n",
    "print('Accuracy of train data',accuracy_score(Y_train,final_pred_train))\n",
    "print('Accuracy of validation data',accuracy_score(Y_val,final_pred_val))"
   ]
  },
  {
   "cell_type": "code",
   "execution_count": 96,
   "metadata": {},
   "outputs": [],
   "source": [
    "import itertools\n",
    "import numpy as np\n",
    "import matplotlib.pyplot as plt\n",
    "from sklearn.metrics import confusion_matrix\n",
    "\n",
    "def plot_confusion_matrix(cm, classes,\n",
    "                          normalize=False,\n",
    "                          title='Confusion matrix',\n",
    "                          cmap=plt.cm.Blues):\n",
    "    if normalize:\n",
    "        cm = cm.astype('float') / cm.sum(axis=1)[:, np.newaxis]\n",
    "\n",
    "    plt.imshow(cm, interpolation='nearest', cmap=cmap)\n",
    "    plt.title(title)\n",
    "    plt.colorbar()\n",
    "    tick_marks = np.arange(len(classes))\n",
    "    plt.xticks(tick_marks, classes, rotation=90)\n",
    "    plt.yticks(tick_marks, classes)\n",
    "\n",
    "    fmt = '.2f' if normalize else 'd'\n",
    "    thresh = cm.max() / 2.\n",
    "    for i, j in itertools.product(range(cm.shape[0]), range(cm.shape[1])):\n",
    "        plt.text(j, i, format(cm[i, j], fmt),\n",
    "                 horizontalalignment=\"center\",\n",
    "                 color=\"white\" if cm[i, j] > thresh else \"black\")\n",
    "\n",
    "    plt.tight_layout()\n",
    "    plt.ylabel('True label')\n",
    "    plt.xlabel('Predicted label')"
   ]
  },
  {
   "cell_type": "code",
   "execution_count": 97,
   "metadata": {},
   "outputs": [
    {
     "data": {
      "text/plain": [
       "array([[492,   1,   3,   0,   0,   0],\n",
       "       [  3, 445,  23,   0,   0,   0],\n",
       "       [  4,   0, 416,   0,   0,   0],\n",
       "       [  1,   4,   0, 411,  75,   0],\n",
       "       [  0,   0,   0,  36, 496,   0],\n",
       "       [  0,  14,   0,   0,   0, 523]])"
      ]
     },
     "execution_count": 97,
     "metadata": {},
     "output_type": "execute_result"
    }
   ],
   "source": [
    "#confusion metric\n",
    "cm = confusion_matrix(Y_val, final_pred_val,labels=range(1,7))\n",
    "cm"
   ]
  },
  {
   "cell_type": "code",
   "execution_count": 98,
   "metadata": {},
   "outputs": [
    {
     "data": {
      "image/png": "[encoded data removed]",
      "text/plain": [
       "<Figure size 576x576 with 2 Axes>"
      ]
     },
     "metadata": {
      "needs_background": "light"
     },
     "output_type": "display_data"
    }
   ],
   "source": [
    "import matplotlib.pyplot as plt\n",
    "plt.figure(figsize=(8,8))\n",
    "labels=['WALKING','WALKING_UPSTAIRS','WALKING_DOWNSTAIRS','SITTING','STANDING','LAYING']\n",
    "plot_confusion_matrix(cm, classes=labels, \n",
    "                      normalize=True, title='Normalized confusion matrix', cmap = plt.cm.Greens)\n",
    "plt.show()"
   ]
  },
  {
   "cell_type": "markdown",
   "metadata": {},
   "source": [
    "<h1>2. Conclusion </h1>"
   ]
  },
  {
   "cell_type": "markdown",
   "metadata": {},
   "source": [
    "<h3>2.1 Models Output </h3>"
   ]
  },
  {
   "cell_type": "code",
   "execution_count": 104,
   "metadata": {},
   "outputs": [
    {
     "name": "stdout",
     "output_type": "stream",
     "text": [
      "+--------------------+---------+---------------------+---------------------+\n",
      "|     LSTM Layer     | Dropout |         Loss        |       Accuracy      |\n",
      "+--------------------+---------+---------------------+---------------------+\n",
      "|         32         |   0.5   | 0.41655886096877154 |  0.8954869508743286 |\n",
      "|         64         |   0.5   | 0.35375094639873494 |  0.9148286581039429 |\n",
      "|         64         |   0.7   |         nan         | 0.16830675303936005 |\n",
      "|         32         |   0.7   |  0.596762544016313  |  0.8381404876708984 |\n",
      "|         64         |   0.6   |  0.4956902541945778 |  0.9060060977935791 |\n",
      "|         32         |   0.6   |  0.5602035771178105 |  0.8812351822853088 |\n",
      "|       64+32        |  2*0.7  |         nan         | 0.16830675303936005 |\n",
      "|       64+32        |  2*0.6  |         nan         | 0.16830675303936005 |\n",
      "|       64+32        |  2*0.5  |  0.6456601167650766 |  0.900237500667572  |\n",
      "|       64+32        |   0.7   |         nan         | 0.16830675303936005 |\n",
      "|       64+32        |   0.6   |  0.5375813010956876 |  0.9053274393081665 |\n",
      "|       64+32        |   0.5   |  0.3804781971405892 |  0.9141499996185303 |\n",
      "|       64+16        |   0.5   |  0.5414807511955393 |  0.9056667685508728 |\n",
      "|       32+16        |   0.5   |  0.3589311393391746 |  0.922633171081543  |\n",
      "|        32+8        |   0.5   |  0.3761567989555303 |  0.7539871335029602 |\n",
      "|        32+8        |   0.5   |  0.3761567989555303 |  0.7539871335029602 |\n",
      "|        32+8        |   0.5   |  0.3761567989555303 |  0.7539871335029602 |\n",
      "|       32+16        |   0.6   | 0.36157595883878874 |  0.9100780487060547 |\n",
      "|       32+16        |   0.4   | 0.39125852214684165 |  0.9066847562789917 |\n",
      "|        128         |   0.25  | 0.31214076887265046 |  0.9256871342658997 |\n",
      "| Divide and Conquer |   N/A   |          -          |  0.9443501866304717 |\n",
      "+--------------------+---------+---------------------+---------------------+\n"
     ]
    }
   ],
   "source": [
    "from prettytable import PrettyTable\n",
    "\n",
    "table = PrettyTable()\n",
    "table.field_names = ['LSTM Layer', 'Dropout', 'Loss', 'Accuracy']\n",
    "\n",
    "table.add_row([32, 0.5, 0.41655886096877154, 0.8954869508743286])\n",
    "table.add_row([64, 0.5, 0.35375094639873494, 0.9148286581039429])\n",
    "table.add_row([64, 0.7, 'nan', 0.16830675303936005])\n",
    "table.add_row([32, 0.7, 0.596762544016313, 0.8381404876708984])\n",
    "table.add_row([64, 0.6, 0.4956902541945778, 0.9060060977935791])\n",
    "table.add_row([32, 0.6, 0.5602035771178105, 0.8812351822853088])\n",
    "table.add_row(['64+32', '2*0.7', 'nan', 0.16830675303936005])\n",
    "table.add_row(['64+32', '2*0.6', 'nan', 0.16830675303936005])\n",
    "table.add_row(['64+32', '2*0.5', 0.6456601167650766, 0.900237500667572])\n",
    "table.add_row(['64+32', 0.7, 'nan', 0.16830675303936005])\n",
    "table.add_row(['64+32', 0.6, 0.5375813010956876, 0.9053274393081665])\n",
    "table.add_row(['64+32', 0.5, 0.3804781971405892, 0.9141499996185303])\n",
    "table.add_row(['64+16', 0.5, 0.5414807511955393, 0.9056667685508728])\n",
    "table.add_row(['32+16', 0.5, 0.3589311393391746, 0.922633171081543])\n",
    "table.add_row(['32+8', 0.5, 0.3761567989555303, 0.7539871335029602])\n",
    "table.add_row(['32+8', 0.5, 0.3761567989555303, 0.7539871335029602])\n",
    "table.add_row(['32+8', 0.5, 0.3761567989555303, 0.7539871335029602])\n",
    "table.add_row(['32+16', 0.6, 0.36157595883878874, 0.9100780487060547])\n",
    "table.add_row(['32+16', 0.4, 0.39125852214684165, 0.9066847562789917])\n",
    "table.add_row(['128', 0.25, 0.31214076887265046, 0.9256871342658997])\n",
    "table.add_row(['Divide and Conquer', 'N/A', '-', 0.9443501866304717])\n",
    "\n",
    "print(table)"
   ]
  },
  {
   "cell_type": "markdown",
   "metadata": {},
   "source": [
    "<h3>2.2 Steps I followed</h3>"
   ]
  },
  {
   "cell_type": "markdown",
   "metadata": {},
   "source": [
    "- Did EDA on dataset\n",
    "- Run classical machine learning models on 561 handcrafted features\n",
    "- Run different LSTMs on raw time series data\n",
    "- Tried 2 LSTMs with larger dropout, increase layer of LSTM from 32 to 64\n",
    "- Above table contains different permutation and combination of LSTM that i tried\n",
    "- Implement Divide and Conquer technique for classifying Static and Dynamic Activities and Merge Models for Activities Prediction"
   ]
  },
  {
   "cell_type": "markdown",
   "metadata": {},
   "source": [
    "<h3>2.3 Divide and Conquer</h3>"
   ]
  },
  {
   "cell_type": "markdown",
   "metadata": {},
   "source": [
    "- First classify static and dynamic activities, if label > 3 then static else dynamic\n",
    "- Classify static activities (Sitting, Standing and Laying)\n",
    "- Classify dynamic activities (Walking, Walking Upstairs and Walking Downstairs)\n",
    "- Classify whole data on above three models"
   ]
  },
  {
   "cell_type": "markdown",
   "metadata": {},
   "source": [
    "<h3>2.4 Best Model</h3>"
   ]
  },
  {
   "cell_type": "markdown",
   "metadata": {},
   "source": [
    "- Divide and Conquer gives me 94.43% accuracy"
   ]
  },
  {
   "cell_type": "code",
   "execution_count": null,
   "metadata": {},
   "outputs": [],
   "source": []
  }
 ],
 "metadata": {
  "kernelspec": {
   "display_name": "Python 3",
   "language": "python",
   "name": "python3"
  },
  "language_info": {
   "codemirror_mode": {
    "name": "ipython",
    "version": 3
   },
   "file_extension": ".py",
   "mimetype": "text/x-python",
   "name": "python",
   "nbconvert_exporter": "python",
   "pygments_lexer": "ipython3",
   "version": "3.7.3"
  }
 },
 "nbformat": 4,
 "nbformat_minor": 2
}
